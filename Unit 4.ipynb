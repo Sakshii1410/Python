{
 "cells": [
  {
   "cell_type": "markdown",
   "metadata": {},
   "source": [
    "# <center>Unit 4 Immutable Data Structure</center>"
   ]
  },
  {
   "cell_type": "markdown",
   "metadata": {},
   "source": [
    "<h2>1.String</h2>\n",
    "\n",
    "<h3>Accessing charecters of string <br>\n",
    "          \n",
    "1.by using index</h3>"
   ]
  },
  {
   "cell_type": "code",
   "execution_count": 20,
   "metadata": {},
   "outputs": [
    {
     "name": "stdout",
     "output_type": "stream",
     "text": [
      "J\n",
      "y\n",
      "r\n"
     ]
    }
   ],
   "source": [
    "a = \"LJ University\"\n",
    "print(a[1])\n",
    "print(a[-1])\n",
    "print(a[-5])\n",
    "# print(a[20]) #IndexError: string index out of range"
   ]
  },
  {
   "cell_type": "markdown",
   "metadata": {},
   "source": [
    "2.by using Slicing operator\n",
    "\n",
    "    Syntax: S[beginindex : endindex : step]"
   ]
  },
  {
   "cell_type": "code",
   "execution_count": 21,
   "metadata": {},
   "outputs": [
    {
     "name": "stdout",
     "output_type": "stream",
     "text": [
      "earnin\n",
      "eri\n",
      "Learnin\n",
      "Python is very easy\n",
      "Learning Python is very easy\n",
      "Learning Python is very easy\n",
      "Lann yhni eyes\n",
      "ysae yrev si nohtyP gninraeL\n",
      "ysa\n",
      "\n"
     ]
    }
   ],
   "source": [
    "s = \"Learning Python is very easy\"\n",
    "print(s[1:7:1])\n",
    "print(s[1:7:2])\n",
    "print(s[:7])\n",
    "print(s[9:])\n",
    "print(s[::])\n",
    "print(s[:])\n",
    "print(s[::2])\n",
    "print(s[::-1])\n",
    "print(s[-1:-4:-1])\n",
    "print(s[-1:-4])"
   ]
  },
  {
   "cell_type": "markdown",
   "metadata": {},
   "source": [
    "Mathematical operation for String <br>\n",
    "    + -> Concatenation<br>\n",
    "    * -> Repetition or String Multiplication"
   ]
  },
  {
   "cell_type": "code",
   "execution_count": 22,
   "metadata": {},
   "outputs": [
    {
     "name": "stdout",
     "output_type": "stream",
     "text": [
      "Sakshi Panchal\n",
      "okokok\n"
     ]
    }
   ],
   "source": [
    "print(\"Sakshi\" + \" Panchal\")\n",
    "print(\"ok\"*3)"
   ]
  },
  {
   "cell_type": "markdown",
   "metadata": {},
   "source": [
    "Comparison of String"
   ]
  },
  {
   "cell_type": "markdown",
   "metadata": {},
   "source": [
    "## s1 = input(\"Enter First String : \")\n",
    "s2 = input(\"Enter Second String : \")\n",
    "\n",
    "if s1==s2:\n",
    "    print(\"Both Strings are same\")\n",
    "elif s1<s2:\n",
    "    print(\"Second Strings is greater\")  \n",
    "else:\n",
    "    print(\"First Strings is greater\")  \n",
    "    "
   ]
  },
  {
   "cell_type": "markdown",
   "metadata": {},
   "source": [
    "Joining of String\n",
    "\n",
    "    Syntax : s = separator.join (group of string)"
   ]
  },
  {
   "cell_type": "code",
   "execution_count": 2,
   "metadata": {},
   "outputs": [
    {
     "name": "stdout",
     "output_type": "stream",
     "text": [
      "Apple-Banana-Cherry\n"
     ]
    }
   ],
   "source": [
    "t = (\"Apple\", \"Banana\", \"Cherry\")\n",
    "x = \"-\".join(t)\n",
    "print(x)"
   ]
  },
  {
   "cell_type": "markdown",
   "metadata": {},
   "source": [
    "Formatting of string"
   ]
  },
  {
   "cell_type": "code",
   "execution_count": 3,
   "metadata": {},
   "outputs": [
    {
     "name": "stdout",
     "output_type": "stream",
     "text": [
      "Arman's salary is 50000 and age is 25\n",
      "50000's salary is 25 and age is Arman\n"
     ]
    }
   ],
   "source": [
    "name = \"Arman\"\n",
    "salary = 50000\n",
    "age = 25\n",
    "print(\"{}'s salary is {} and age is {}\".format(name,salary,age))\n",
    "\n",
    "print(\"{1}'s salary is {2} and age is {0}\".format(name,salary,age))"
   ]
  },
  {
   "cell_type": "markdown",
   "metadata": {},
   "source": [
    "Important function of String<br>\n",
    "\n",
    "1.len()"
   ]
  },
  {
   "cell_type": "code",
   "execution_count": 4,
   "metadata": {},
   "outputs": [
    {
     "name": "stdout",
     "output_type": "stream",
     "text": [
      "5\n"
     ]
    }
   ],
   "source": [
    "a = \"LJIET\"\n",
    "print(len(a))"
   ]
  },
  {
   "cell_type": "markdown",
   "metadata": {},
   "source": [
    "Removing spaces from String<br>\n",
    "1.rstrip()"
   ]
  },
  {
   "cell_type": "code",
   "execution_count": 19,
   "metadata": {},
   "outputs": [
    {
     "name": "stdout",
     "output_type": "stream",
     "text": [
      "banana   is a Fruit\n",
      "banana is a Fruit\n",
      "8\n",
      "6\n"
     ]
    }
   ],
   "source": [
    "t = \"banana  \"\n",
    "x = t.rstrip()\n",
    "print(t,\"is a Fruit\")\n",
    "print(x,\"is a Fruit\")\n",
    "print(len(t))\n",
    "print(len(x))"
   ]
  },
  {
   "cell_type": "markdown",
   "metadata": {},
   "source": [
    "2.lstrip()"
   ]
  },
  {
   "cell_type": "code",
   "execution_count": 25,
   "metadata": {},
   "outputs": [
    {
     "name": "stdout",
     "output_type": "stream",
     "text": [
      "banan\n",
      "anana\n",
      "banan\n",
      "\n",
      " banana \n",
      " banana \n",
      " banana \n",
      "\n",
      "b\n",
      "\n",
      "\n",
      "\n",
      "band\n",
      "dana\n",
      "d\n",
      "\n"
     ]
    }
   ],
   "source": [
    "t = \"banana\"\n",
    "x = t.rstrip(\"a\")\n",
    "y = t.lstrip(\"b\")\n",
    "z = t.strip(\"a\")\n",
    "print(x)\n",
    "print(y)\n",
    "print(z)\n",
    "print()\n",
    "\n",
    "t = \" banana \"\n",
    "x = t.rstrip(\"a\")\n",
    "y = t.lstrip(\"b\")\n",
    "z = t.strip(\"ab\")\n",
    "print(x)\n",
    "print(y)\n",
    "print(z)\n",
    "print()\n",
    "\n",
    "t = \"banana\"\n",
    "x = t.rstrip(\"an\")\n",
    "y = t.lstrip(\"ban\")\n",
    "z = t.strip(\"abn\")\n",
    "\n",
    "print(x)\n",
    "print(z)\n",
    "print(y)\n",
    "print()\n",
    "\n",
    "t = \"bandana\"\n",
    "x = t.rstrip(\"an\")\n",
    "y = t.lstrip(\"ban\")\n",
    "z = t.strip(\"anb\")\n",
    "print(x)\n",
    "print(y)\n",
    "print(z)\n",
    "print()"
   ]
  },
  {
   "cell_type": "markdown",
   "metadata": {},
   "source": [
    "Changing the case of string<br>\n",
    "1.upper()"
   ]
  },
  {
   "cell_type": "code",
   "execution_count": 31,
   "metadata": {},
   "outputs": [
    {
     "name": "stdout",
     "output_type": "stream",
     "text": [
      "HELLO FRIENDS\n"
     ]
    }
   ],
   "source": [
    "s = \"Hello Friends\"\n",
    "x = s.upper()\n",
    "print(x)"
   ]
  },
  {
   "cell_type": "markdown",
   "metadata": {},
   "source": [
    "2.lower()"
   ]
  },
  {
   "cell_type": "code",
   "execution_count": 33,
   "metadata": {},
   "outputs": [
    {
     "name": "stdout",
     "output_type": "stream",
     "text": [
      "hello friends\n"
     ]
    }
   ],
   "source": [
    "s = \"HELLO FRIENDS\"\n",
    "x = s.lower()\n",
    "print(x)"
   ]
  },
  {
   "cell_type": "markdown",
   "metadata": {},
   "source": [
    "3.swapcase()"
   ]
  },
  {
   "cell_type": "code",
   "execution_count": 34,
   "metadata": {},
   "outputs": [
    {
     "name": "stdout",
     "output_type": "stream",
     "text": [
      "hELLO mY NAME IS sakshi\n"
     ]
    }
   ],
   "source": [
    "s = \"Hello My name is SAKSHI\"\n",
    "x = s.swapcase()\n",
    "print(x)"
   ]
  },
  {
   "cell_type": "markdown",
   "metadata": {},
   "source": [
    "4.title()"
   ]
  },
  {
   "cell_type": "code",
   "execution_count": 42,
   "metadata": {},
   "outputs": [
    {
     "name": "stdout",
     "output_type": "stream",
     "text": [
      "Hello How Are You?\n"
     ]
    }
   ],
   "source": [
    "s = \"Hello how are you?\"\n",
    "x = s.title()\n",
    "print(x)"
   ]
  },
  {
   "cell_type": "markdown",
   "metadata": {},
   "source": [
    "5.capitalize()"
   ]
  },
  {
   "cell_type": "code",
   "execution_count": 44,
   "metadata": {},
   "outputs": [
    {
     "name": "stdout",
     "output_type": "stream",
     "text": [
      "Hello how are you?\n"
     ]
    }
   ],
   "source": [
    "s = \"Hello how are you?\"\n",
    "x = s.capitalize()\n",
    "print(x)"
   ]
  },
  {
   "cell_type": "markdown",
   "metadata": {},
   "source": [
    "To check Type of characters in a string (check function)\n",
    "    \n",
    "    ->Answer only in True or False\n",
    "    \n",
    "    1.isalnum() -> (A-Z, a-z, 0-9)\n",
    "    2.isalpha() -> (A-Z, a-z)\n",
    "    3.isdigit() -> (0-9, superscript, subscript) or isnumeric(0-9, superscript, subscript, roman, vulgur function)"
   ]
  },
  {
   "cell_type": "code",
   "execution_count": 48,
   "metadata": {},
   "outputs": [
    {
     "name": "stdout",
     "output_type": "stream",
     "text": [
      "True\n"
     ]
    }
   ],
   "source": [
    "t = \"company123\"\n",
    "x = t.isalnum()\n",
    "print(x)"
   ]
  },
  {
   "cell_type": "code",
   "execution_count": 50,
   "metadata": {},
   "outputs": [
    {
     "name": "stdout",
     "output_type": "stream",
     "text": [
      "True\n"
     ]
    }
   ],
   "source": [
    "t = \"company\"\n",
    "x = t.isalpha()\n",
    "print(x)"
   ]
  },
  {
   "cell_type": "code",
   "execution_count": 51,
   "metadata": {},
   "outputs": [
    {
     "name": "stdout",
     "output_type": "stream",
     "text": [
      "True\n"
     ]
    }
   ],
   "source": [
    "t = \"5080\"\n",
    "x = t.isdigit()\n",
    "print(x)"
   ]
  },
  {
   "cell_type": "code",
   "execution_count": 55,
   "metadata": {},
   "outputs": [
    {
     "name": "stdout",
     "output_type": "stream",
     "text": [
      "True\n"
     ]
    }
   ],
   "source": [
    "t = \"hello world!\"\n",
    "x = t.islower()\n",
    "print(x)"
   ]
  },
  {
   "cell_type": "code",
   "execution_count": 56,
   "metadata": {},
   "outputs": [
    {
     "name": "stdout",
     "output_type": "stream",
     "text": [
      "True\n"
     ]
    }
   ],
   "source": [
    "t = \"HELLO WORLD\"\n",
    "x = t.isupper()\n",
    "print(x)"
   ]
  },
  {
   "cell_type": "code",
   "execution_count": 58,
   "metadata": {},
   "outputs": [
    {
     "name": "stdout",
     "output_type": "stream",
     "text": [
      "False\n",
      "True\n",
      "True\n",
      "True\n"
     ]
    }
   ],
   "source": [
    "a = \" HELLO WELCOME\"\n",
    "b = \" Hello\"\n",
    "c = \" 22 Names\"\n",
    "d = \"This Is  %$\"\n",
    "print(a.istitle())\n",
    "print(b.istitle())\n",
    "print(c.istitle())\n",
    "print(d.istitle())"
   ]
  },
  {
   "cell_type": "code",
   "execution_count": 64,
   "metadata": {},
   "outputs": [
    {
     "name": "stdout",
     "output_type": "stream",
     "text": [
      "True\n",
      "True\n",
      "False\n",
      "False\n"
     ]
    }
   ],
   "source": [
    "a = \"MyDemo\"\n",
    "b = \"Demo20\"\n",
    "c = \"2Demo\"\n",
    "d = \"My Demo\"\n",
    "print(a.isidentifier())\n",
    "print(b.isidentifier())\n",
    "print(c.isidentifier())\n",
    "print(d.isidentifier())"
   ]
  },
  {
   "cell_type": "code",
   "execution_count": 65,
   "metadata": {},
   "outputs": [
    {
     "name": "stdout",
     "output_type": "stream",
     "text": [
      "True\n"
     ]
    }
   ],
   "source": [
    "s = \" \"\n",
    "x = s.isspace()\n",
    "print(x)"
   ]
  },
  {
   "cell_type": "code",
   "execution_count": 77,
   "metadata": {},
   "outputs": [],
   "source": [
    "s = \"Pyt@h$%on is 124 Very Ea$sy43\"\n",
    "alpha,up,low,dig,space,sp,word=0,0,0,0,0,0,0\n",
    "\n",
    "for i in s:\n",
    "    if i.isalpha:\n",
    "        alpha += 1;\n",
    "        if i.isupper:\n",
    "            up += 1;\n",
    "        else:\n",
    "            low += 1;\n",
    "    elif i.isdigit:\n",
    "        dig += 1;\n",
    "    elif i.isspace:\n",
    "        space += 1;\n",
    "    else:\n",
    "        sp += 1\n",
    "word = space+1\n",
    "# print(alpha,up,low,dig,space,sp,word)"
   ]
  },
  {
   "cell_type": "markdown",
   "metadata": {},
   "source": [
    "find()\n",
    "    \n",
    "    Syntax : s.find(substring)\n",
    "             s.find(substring, begin, end)"
   ]
  },
  {
   "cell_type": "code",
   "execution_count": 82,
   "metadata": {},
   "outputs": [
    {
     "name": "stdout",
     "output_type": "stream",
     "text": [
      "2\n",
      "25\n",
      "-1\n",
      "9\n"
     ]
    }
   ],
   "source": [
    "s = \"Learning Python is very easy\"\n",
    "print(s.find(\"a\"))\n",
    "print(s.find(\"a\",3,50))\n",
    "print(s.find(\"d\"))\n",
    "print(s.find(\"Python\"))"
   ]
  },
  {
   "cell_type": "markdown",
   "metadata": {},
   "source": [
    "count()\n",
    "\n",
    "    Syntax : s.count(substring)\n",
    "             s.count(substring, begin, end)"
   ]
  },
  {
   "cell_type": "code",
   "execution_count": 83,
   "metadata": {},
   "outputs": [
    {
     "name": "stdout",
     "output_type": "stream",
     "text": [
      "3\n",
      "1\n"
     ]
    }
   ],
   "source": [
    "s = \"abcdabcdefgabcxyz\"\n",
    "print(s.count(\"a\"))\n",
    "print(s.count(\"a\",5,20))"
   ]
  },
  {
   "cell_type": "code",
   "execution_count": null,
   "metadata": {},
   "outputs": [],
   "source": [
    "tvy"
   ]
  }
 ],
 "metadata": {
  "kernelspec": {
   "display_name": "Python 3",
   "language": "python",
   "name": "python3"
  },
  "language_info": {
   "codemirror_mode": {
    "name": "ipython",
    "version": 3
   },
   "file_extension": ".py",
   "mimetype": "text/x-python",
   "name": "python",
   "nbconvert_exporter": "python",
   "pygments_lexer": "ipython3",
   "version": "3.8.5"
  }
 },
 "nbformat": 4,
 "nbformat_minor": 4
}
