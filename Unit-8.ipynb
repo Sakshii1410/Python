{
 "cells": [
  {
   "cell_type": "markdown",
   "metadata": {},
   "source": [
    "# Unit-8 OOP & Exception Handling"
   ]
  },
  {
   "cell_type": "markdown",
   "metadata": {},
   "source": [
    "    Error -> Syntax Error\n",
    "          -> Exceptions\n",
    "\n",
    "- Error are problems in program due to which program will stop the execution.\n",
    "- Exceptions are raised when some internal events occurs which change the flow of program.\n",
    "- When exception occurs, python will stop and generate error message."
   ]
  },
  {
   "cell_type": "code",
   "execution_count": 9,
   "metadata": {},
   "outputs": [
    {
     "name": "stdout",
     "output_type": "stream",
     "text": [
      "5.0\n",
      "No Exception\n",
      "This always print\n"
     ]
    }
   ],
   "source": [
    "def div(a,b):\n",
    "    return a/b\n",
    "\n",
    "try:\n",
    "    print(div(5,1))\n",
    "#     print(div(5,0))  \n",
    "except:\n",
    "    print(\"Exception occured\") #if error generate\n",
    "else:\n",
    "    print(\"No Exception\") #if not\n",
    "finally:\n",
    "    print(\"This always print\") #always"
   ]
  },
  {
   "cell_type": "code",
   "execution_count": 13,
   "metadata": {},
   "outputs": [
    {
     "name": "stdout",
     "output_type": "stream",
     "text": [
      "division by zero\n"
     ]
    }
   ],
   "source": [
    "def div(a,b):\n",
    "    return a/b\n",
    "\n",
    "try:\n",
    "    print(div(5,0))\n",
    "except Exception as e:\n",
    "    print(e)"
   ]
  },
  {
   "cell_type": "code",
   "execution_count": 11,
   "metadata": {},
   "outputs": [
    {
     "name": "stdout",
     "output_type": "stream",
     "text": [
      "File Not Found\n"
     ]
    }
   ],
   "source": [
    "try:    \n",
    "    f = open(\"abc.txt\",\"r\") #FileNotFoundError\n",
    "    print(f.read())\n",
    "    print(m) #NameError\n",
    "    print(5/0) #ZeroDivisionError\n",
    "    l = [1,2,3]\n",
    "    l[100] #IndexError\n",
    "except FileNotFoundError:\n",
    "    print(\"File Not Found\")\n",
    "except NameError:\n",
    "    print(\"Variable not defined\")\n",
    "except ZeroDivisionError:\n",
    "    print(\"Can't divide by zero\")\n",
    "except Exception as e:\n",
    "    print(e)"
   ]
  },
  {
   "cell_type": "code",
   "execution_count": 1,
   "metadata": {},
   "outputs": [
    {
     "name": "stdout",
     "output_type": "stream",
     "text": [
      "This is demo.txt\n",
      "Variable not defined\n"
     ]
    }
   ],
   "source": [
    "try:    \n",
    "    f = open(\"demo.txt\",\"r\") #FileNotFoundError\n",
    "    print(f.read())\n",
    "    print(m) #NameError\n",
    "    print(5/0) #ZeroDivisionError\n",
    "    l = [1,2,3]\n",
    "    l[100] #IndexError\n",
    "except FileNotFoundError:\n",
    "    print(\"File Not Found\")\n",
    "except NameError:\n",
    "    print(\"Variable not defined\")\n",
    "except ZeroDivisionError:\n",
    "    print(\"Can't divide by zero\")\n",
    "except Exception as e:\n",
    "    print(e)"
   ]
  },
  {
   "cell_type": "code",
   "execution_count": 2,
   "metadata": {},
   "outputs": [
    {
     "name": "stdout",
     "output_type": "stream",
     "text": [
      "This is demo.txt\n",
      "5\n",
      "Can't divide by zero\n"
     ]
    }
   ],
   "source": [
    "try: \n",
    "    m=5\n",
    "    f = open(\"demo.txt\",\"r\") #FileNotFoundError\n",
    "    print(f.read())\n",
    "    print(m) #NameError\n",
    "    print(5/0) #ZeroDivisionError\n",
    "    l = [1,2,3]\n",
    "    l[100] #IndexError\n",
    "except FileNotFoundError:\n",
    "    print(\"File Not Found\")\n",
    "except NameError:\n",
    "    print(\"Variable not defined\")\n",
    "except ZeroDivisionError:\n",
    "    print(\"Can't divide by zero\")\n",
    "except Exception as e:\n",
    "    print(e)"
   ]
  },
  {
   "cell_type": "code",
   "execution_count": 3,
   "metadata": {},
   "outputs": [
    {
     "name": "stdout",
     "output_type": "stream",
     "text": [
      "This is demo.txt\n",
      "5\n",
      "5.0\n",
      "list index out of range\n"
     ]
    }
   ],
   "source": [
    "try:    \n",
    "    m=5\n",
    "    f = open(\"demo.txt\",\"r\") #FileNotFoundError\n",
    "    print(f.read())\n",
    "    print(m) #NameError\n",
    "    print(5/1) #ZeroDivisionError\n",
    "    l = [1,2,3]\n",
    "    l[100] #IndexError\n",
    "except FileNotFoundError:\n",
    "    print(\"File Not Found\")\n",
    "except NameError:\n",
    "    print(\"Variable not defined\")\n",
    "except ZeroDivisionError:\n",
    "    print(\"Can't divide by zero\")\n",
    "except Exception as e:\n",
    "    print(e)"
   ]
  },
  {
   "cell_type": "code",
   "execution_count": 6,
   "metadata": {},
   "outputs": [
    {
     "name": "stdout",
     "output_type": "stream",
     "text": [
      "Rest of the code\n"
     ]
    }
   ],
   "source": [
    "a = 10\n",
    "b = 0\n",
    "\n",
    "try:\n",
    "    d = a/g\n",
    "    print(d)\n",
    "except (NameError,ZeroDivisionError) as obj:\n",
    "    print(\"Rest of the code\")"
   ]
  },
  {
   "cell_type": "markdown",
   "metadata": {},
   "source": [
    "## Raise an exception"
   ]
  },
  {
   "cell_type": "code",
   "execution_count": 17,
   "metadata": {},
   "outputs": [
    {
     "ename": "TypeError",
     "evalue": "b should be int",
     "output_type": "error",
     "traceback": [
      "\u001b[1;31m---------------------------------------------------------------------------\u001b[0m",
      "\u001b[1;31mTypeError\u001b[0m                                 Traceback (most recent call last)",
      "\u001b[1;32m<ipython-input-17-0995d2046b74>\u001b[0m in \u001b[0;36m<module>\u001b[1;34m\u001b[0m\n\u001b[0;32m      9\u001b[0m \u001b[1;31m# add(\"xyz\",\"abc\") #a..\u001b[0m\u001b[1;33m\u001b[0m\u001b[1;33m\u001b[0m\u001b[1;33m\u001b[0m\u001b[0m\n\u001b[0;32m     10\u001b[0m \u001b[1;31m# add(\"xyz\",10) #b..\u001b[0m\u001b[1;33m\u001b[0m\u001b[1;33m\u001b[0m\u001b[1;33m\u001b[0m\u001b[0m\n\u001b[1;32m---> 11\u001b[1;33m \u001b[0madd\u001b[0m\u001b[1;33m(\u001b[0m\u001b[1;36m1\u001b[0m\u001b[1;33m,\u001b[0m\u001b[1;34m\"abc\"\u001b[0m\u001b[1;33m)\u001b[0m\u001b[1;33m\u001b[0m\u001b[1;33m\u001b[0m\u001b[0m\n\u001b[0m",
      "\u001b[1;32m<ipython-input-17-0995d2046b74>\u001b[0m in \u001b[0;36madd\u001b[1;34m(a, b)\u001b[0m\n\u001b[0;32m      3\u001b[0m         \u001b[1;32mraise\u001b[0m \u001b[0mTypeError\u001b[0m\u001b[1;33m(\u001b[0m\u001b[1;34m\"a should be int\"\u001b[0m\u001b[1;33m)\u001b[0m\u001b[1;33m\u001b[0m\u001b[1;33m\u001b[0m\u001b[0m\n\u001b[0;32m      4\u001b[0m     \u001b[1;32mif\u001b[0m \u001b[0mtype\u001b[0m\u001b[1;33m(\u001b[0m\u001b[0mb\u001b[0m\u001b[1;33m)\u001b[0m\u001b[1;33m==\u001b[0m\u001b[0mstr\u001b[0m\u001b[1;33m:\u001b[0m\u001b[1;33m\u001b[0m\u001b[1;33m\u001b[0m\u001b[0m\n\u001b[1;32m----> 5\u001b[1;33m         \u001b[1;32mraise\u001b[0m \u001b[0mTypeError\u001b[0m\u001b[1;33m(\u001b[0m\u001b[1;34m\"b should be int\"\u001b[0m\u001b[1;33m)\u001b[0m\u001b[1;33m\u001b[0m\u001b[1;33m\u001b[0m\u001b[0m\n\u001b[0m\u001b[0;32m      6\u001b[0m     \u001b[1;32mreturn\u001b[0m \u001b[1;33m(\u001b[0m\u001b[0ma\u001b[0m\u001b[1;33m+\u001b[0m\u001b[0mb\u001b[0m\u001b[1;33m)\u001b[0m\u001b[1;33m\u001b[0m\u001b[1;33m\u001b[0m\u001b[0m\n\u001b[0;32m      7\u001b[0m \u001b[1;33m\u001b[0m\u001b[0m\n",
      "\u001b[1;31mTypeError\u001b[0m: b should be int"
     ]
    }
   ],
   "source": [
    "def add(a,b):\n",
    "    if type(a)==str:\n",
    "        raise TypeError(\"a should be int\")\n",
    "    if type(b)==str:\n",
    "        raise TypeError(\"b should be int\")\n",
    "    return (a+b)\n",
    "\n",
    "add(1,2) #3\n",
    "# add(\"xyz\",\"abc\") #a..\n",
    "# add(\"xyz\",10) #b..\n",
    "add(1,\"abc\")"
   ]
  },
  {
   "cell_type": "markdown",
   "metadata": {},
   "source": [
    "## Custom Exception"
   ]
  },
  {
   "cell_type": "code",
   "execution_count": 20,
   "metadata": {},
   "outputs": [
    {
     "ename": "Sakshi",
     "evalue": "Personalized Error",
     "output_type": "error",
     "traceback": [
      "\u001b[1;31m---------------------------------------------------------------------------\u001b[0m",
      "\u001b[1;31mSakshi\u001b[0m                                    Traceback (most recent call last)",
      "\u001b[1;32m<ipython-input-20-d0bc7b8e8afc>\u001b[0m in \u001b[0;36m<module>\u001b[1;34m\u001b[0m\n\u001b[0;32m     10\u001b[0m     \u001b[1;32mreturn\u001b[0m \u001b[1;33m(\u001b[0m\u001b[0ma\u001b[0m\u001b[1;33m+\u001b[0m\u001b[0mb\u001b[0m\u001b[1;33m)\u001b[0m\u001b[1;33m\u001b[0m\u001b[1;33m\u001b[0m\u001b[0m\n\u001b[0;32m     11\u001b[0m \u001b[1;33m\u001b[0m\u001b[0m\n\u001b[1;32m---> 12\u001b[1;33m \u001b[0madd\u001b[0m\u001b[1;33m(\u001b[0m\u001b[1;34m\"xyz\"\u001b[0m\u001b[1;33m,\u001b[0m\u001b[1;34m\"abc\"\u001b[0m\u001b[1;33m)\u001b[0m\u001b[1;33m\u001b[0m\u001b[1;33m\u001b[0m\u001b[0m\n\u001b[0m",
      "\u001b[1;32m<ipython-input-20-d0bc7b8e8afc>\u001b[0m in \u001b[0;36madd\u001b[1;34m(a, b)\u001b[0m\n\u001b[0;32m      5\u001b[0m \u001b[1;32mdef\u001b[0m \u001b[0madd\u001b[0m\u001b[1;33m(\u001b[0m\u001b[0ma\u001b[0m\u001b[1;33m,\u001b[0m\u001b[0mb\u001b[0m\u001b[1;33m)\u001b[0m\u001b[1;33m:\u001b[0m\u001b[1;33m\u001b[0m\u001b[1;33m\u001b[0m\u001b[0m\n\u001b[0;32m      6\u001b[0m     \u001b[1;32mif\u001b[0m \u001b[0mtype\u001b[0m\u001b[1;33m(\u001b[0m\u001b[0ma\u001b[0m\u001b[1;33m)\u001b[0m\u001b[1;33m==\u001b[0m\u001b[0mstr\u001b[0m\u001b[1;33m:\u001b[0m\u001b[1;33m\u001b[0m\u001b[1;33m\u001b[0m\u001b[0m\n\u001b[1;32m----> 7\u001b[1;33m         \u001b[1;32mraise\u001b[0m \u001b[0mSakshi\u001b[0m\u001b[1;33m(\u001b[0m\u001b[1;34m\"Personalized Error\"\u001b[0m\u001b[1;33m)\u001b[0m\u001b[1;33m\u001b[0m\u001b[1;33m\u001b[0m\u001b[0m\n\u001b[0m\u001b[0;32m      8\u001b[0m     \u001b[1;32mif\u001b[0m \u001b[0mtype\u001b[0m\u001b[1;33m(\u001b[0m\u001b[0mb\u001b[0m\u001b[1;33m)\u001b[0m\u001b[1;33m==\u001b[0m\u001b[0mstr\u001b[0m\u001b[1;33m:\u001b[0m\u001b[1;33m\u001b[0m\u001b[1;33m\u001b[0m\u001b[0m\n\u001b[0;32m      9\u001b[0m         \u001b[1;32mraise\u001b[0m \u001b[0mTypeError\u001b[0m\u001b[1;33m(\u001b[0m\u001b[1;34m\"b should be int\"\u001b[0m\u001b[1;33m)\u001b[0m\u001b[1;33m\u001b[0m\u001b[1;33m\u001b[0m\u001b[0m\n",
      "\u001b[1;31mSakshi\u001b[0m: Personalized Error"
     ]
    }
   ],
   "source": [
    "class Sakshi(Exception):\n",
    "    def __init__(self,arg):\n",
    "        self.msg=arg\n",
    "\n",
    "def add(a,b):\n",
    "    if type(a)==str:\n",
    "        raise Sakshi(\"Personalized Error\")\n",
    "    if type(b)==str:\n",
    "        raise TypeError(\"b should be int\")\n",
    "    return (a+b)\n",
    "\n",
    "add(\"xyz\",\"abc\")"
   ]
  },
  {
   "cell_type": "code",
   "execution_count": 3,
   "metadata": {},
   "outputs": [
    {
     "name": "stdout",
     "output_type": "stream",
     "text": [
      "Enter :8001\n",
      "Low balance\n"
     ]
    }
   ],
   "source": [
    "Amount = 10000\n",
    "withdraw = int(input(\"Enter :\"))\n",
    "\n",
    "class Sakshi(Exception):\n",
    "    def __init__(self,arg):\n",
    "        self.msg=arg\n",
    "        \n",
    "try:\n",
    "    if (Amount-withdraw)<=2000:\n",
    "        raise Sakshi(\"Low balance\")\n",
    "except Exception as e:\n",
    "        print(e)"
   ]
  },
  {
   "cell_type": "markdown",
   "metadata": {},
   "source": [
    "## Object oriented programming\n",
    "\n",
    "- everything in python is class/object"
   ]
  },
  {
   "cell_type": "code",
   "execution_count": 7,
   "metadata": {},
   "outputs": [
    {
     "name": "stdout",
     "output_type": "stream",
     "text": [
      "<class 'int'>\n",
      "<class 'str'>\n",
      "<class 'module'>\n",
      "<class 'type'>\n"
     ]
    }
   ],
   "source": [
    "x = 42\n",
    "print(type(x))\n",
    "\n",
    "y = \"hello\"\n",
    "print(type(y))\n",
    "\n",
    "import math\n",
    "print(type(math))\n",
    "print(type(type))"
   ]
  },
  {
   "cell_type": "markdown",
   "metadata": {},
   "source": [
    "    Class -> User defined data structure that binds data members and methods into a single unit.\n",
    "          -> Class is a blue print or code template for object creation.\n",
    "          -> Using a class, you can create as many object you want.\n",
    "     \n",
    "    Object -> Object is as instance of a class.\n",
    "           -> It is collection of attributes and methods.\n",
    "           -> It is used to perform actions."
   ]
  },
  {
   "cell_type": "markdown",
   "metadata": {},
   "source": [
    "    Class classname:\n",
    "\n",
    "        def __init__(self): #Constructor (Special method)\n",
    "            self.value=10    \n",
    "            self.name=\"abc\"\n",
    "\n",
    "        def method_name(self): #method\n",
    "            body of mathod     "
   ]
  },
  {
   "cell_type": "code",
   "execution_count": 8,
   "metadata": {},
   "outputs": [
    {
     "name": "stdout",
     "output_type": "stream",
     "text": [
      "Employee Name: abc\n",
      "Employee Age: 34\n",
      "Employee Salary: 50000\n",
      "\n",
      "Employee Name: xyz\n",
      "Employee Age: 36\n",
      "Employee Salary: 60000\n",
      "\n",
      "50\n",
      "abcxyz\n"
     ]
    }
   ],
   "source": [
    "class Employee:\n",
    "    def __init__(self,name,age,salary):\n",
    "        self.name = name\n",
    "        self.age = age\n",
    "        self.salary = salary\n",
    "        \n",
    "    @staticmethod\n",
    "    def add(a,b):\n",
    "        print(a+b)\n",
    "\n",
    "    def display(self):\n",
    "        print(\"Employee Name:\",self.name)\n",
    "        print(\"Employee Age:\",self.age)        \n",
    "        print(\"Employee Salary:\",self.salary)\n",
    "        print()\n",
    "        \n",
    "emp1 = Employee(\"abc\",34,50000)\n",
    "emp1.display()\n",
    "emp2 = Employee(\"xyz\",36,60000)\n",
    "emp2.display()\n",
    "emp1.add(20,30)\n",
    "emp2.add(\"abc\",\"xyz\")"
   ]
  },
  {
   "cell_type": "markdown",
   "metadata": {},
   "source": [
    "## Constructor\n",
    "\n",
    "- Unique function thst gets called automatically when an object is created of a class.\n",
    "- The main purpose of a constructor is to initialize or assign values to the data members of that class.\n",
    "- It can't return any value other than Nme."
   ]
  },
  {
   "cell_type": "code",
   "execution_count": 11,
   "metadata": {},
   "outputs": [
    {
     "name": "stdout",
     "output_type": "stream",
     "text": [
      "-------------------\n",
      "Car Model: 1\n",
      "Car Color: White\n",
      "Car Year: 2000\n",
      "-------------------\n",
      "-------------------\n",
      "Car Model: 2\n",
      "Car Color: Brown\n",
      "Car Year: 2023\n",
      "-------------------\n"
     ]
    }
   ],
   "source": [
    "# car->model,color,year\n",
    "\n",
    "class Car:\n",
    "    def __init__(self,model,color,year):\n",
    "        self.model = model\n",
    "        self.color = color\n",
    "        self.year = year\n",
    "        \n",
    "    def show(self):\n",
    "            print(\"-------------------\")        \n",
    "            print(\"Car Model:\",self.model)\n",
    "            print(\"Car Color:\",self.color)        \n",
    "            print(\"Car Year:\",self.year)\n",
    "            print(\"-------------------\")\n",
    "            \n",
    "car1 = Car(\"1\",\"White\",2000)\n",
    "car1.show()\n",
    "car2 = Car(\"2\",\"Brown\",2023)\n",
    "car2.show()"
   ]
  },
  {
   "cell_type": "code",
   "execution_count": 13,
   "metadata": {},
   "outputs": [
    {
     "name": "stdout",
     "output_type": "stream",
     "text": [
      "Name: Harry\n",
      "Salary: 50000\n",
      "Role: Engineer\n",
      "\n",
      "Name: Rohan\n",
      "Salary: 60000\n",
      "Role: Developer\n",
      "\n"
     ]
    }
   ],
   "source": [
    "class Employee:\n",
    "    no_of_leaves=5 #class var\n",
    "    def printdetails(self):\n",
    "        print(\"Name:\",self.name)\n",
    "        print(\"Salary:\",self.salary)        \n",
    "        print(\"Role:\",self.role)\n",
    "        print()\n",
    "\n",
    "harry = Employee()\n",
    "rohan = Employee()\n",
    "\n",
    "harry.name = \"Harry\"\n",
    "harry.salary = 50000\n",
    "harry.role = \"Engineer\"\n",
    "\n",
    "rohan.name = \"Rohan\"\n",
    "rohan.salary = 60000\n",
    "rohan.role = \"Developer\"\n",
    "\n",
    "harry.printdetails()\n",
    "rohan.printdetails()"
   ]
  },
  {
   "cell_type": "code",
   "execution_count": 15,
   "metadata": {},
   "outputs": [
    {
     "name": "stdout",
     "output_type": "stream",
     "text": [
      "Name: Harry\n",
      "Salary: 50000\n",
      "Role: Engineer\n",
      "\n",
      "Name: Rohan\n",
      "Salary: 60000\n",
      "Role: Developer\n",
      "\n"
     ]
    }
   ],
   "source": [
    "class Employee:\n",
    "    \n",
    "    def __init__(self,name,salary,role):\n",
    "        self.name = name\n",
    "        self.salary = salary\n",
    "        self.role = role  \n",
    "        \n",
    "    def printdetails(self):\n",
    "        print(\"Name:\",self.name)\n",
    "        print(\"Salary:\",self.salary)        \n",
    "        print(\"Role:\",self.role)\n",
    "        print()\n",
    "\n",
    "harry = Employee(\"Harry\",50000,\"Engineer\")\n",
    "rohan = Employee(\"Rohan\",60000,\"Developer\")\n",
    "\n",
    "harry.printdetails()\n",
    "rohan.printdetails()"
   ]
  },
  {
   "cell_type": "code",
   "execution_count": 17,
   "metadata": {},
   "outputs": [
    {
     "name": "stdout",
     "output_type": "stream",
     "text": [
      "50\n"
     ]
    }
   ],
   "source": [
    "class test:\n",
    "    def __init__(self):\n",
    "        self.value = 50\n",
    "        self.show()\n",
    "    \n",
    "    def show(self):\n",
    "        print(self.value)\n",
    "        \n",
    "a = test()"
   ]
  },
  {
   "cell_type": "code",
   "execution_count": 21,
   "metadata": {},
   "outputs": [
    {
     "name": "stdout",
     "output_type": "stream",
     "text": [
      "Address of self: 1935369995216\n",
      "Address of obj : 1935369995216\n",
      "5\n",
      "\n",
      "Address of self: 1935376398416\n",
      "Address of obj1: 1935376398416\n",
      "10\n"
     ]
    }
   ],
   "source": [
    "class check:\n",
    "    def __init__(self,m):\n",
    "        print(\"Address of self:\",id(self))\n",
    "        self.m = m\n",
    "        \n",
    "obj = check(5)\n",
    "print(\"Address of obj :\",id(obj))\n",
    "print(obj.m)\n",
    "print()\n",
    "obj1 = check(10)\n",
    "print(\"Address of obj1:\",id(obj1))\n",
    "print(obj1.m)"
   ]
  },
  {
   "cell_type": "code",
   "execution_count": 22,
   "metadata": {},
   "outputs": [
    {
     "name": "stdout",
     "output_type": "stream",
     "text": [
      "5 5 140724957357984 140724957357984\n",
      "10 5 140724957358144 140724957357984\n"
     ]
    }
   ],
   "source": [
    "class Account():\n",
    "    rate = 5\n",
    "    \n",
    "    def some_method(self):\n",
    "        print(self.rate,Account.rate,id(self.rate),id(Account.rate))\n",
    "        \n",
    "        self.rate = 10\n",
    "        print(self.rate,Account.rate,id(self.rate),id(Account.rate))\n",
    "        \n",
    "a1 = Account()\n",
    "a2 = Account()\n",
    "a1.some_method()"
   ]
  },
  {
   "cell_type": "code",
   "execution_count": 25,
   "metadata": {},
   "outputs": [
    {
     "name": "stdout",
     "output_type": "stream",
     "text": [
      "30 30\n",
      "35 30\n",
      "35 30\n",
      "Age is different\n",
      "35 35\n",
      "Age is same\n"
     ]
    }
   ],
   "source": [
    "#Concept of self and other\n",
    "\n",
    "class Person:\n",
    "    def __init__(self):\n",
    "            self.name = \"John\"\n",
    "            self.age = 30\n",
    "    \n",
    "    def update(self):\n",
    "        self.age = 35\n",
    "        \n",
    "    def compare(self,other):\n",
    "        print(self.age,other.age)\n",
    "        \n",
    "        if self.age==other.age:\n",
    "            print(\"Age is same\")\n",
    "        else:\n",
    "            print(\"Age is different\")\n",
    "        \n",
    "p1 = Person()\n",
    "p2 = Person()\n",
    "\n",
    "print(p1.age,p2.age)\n",
    "p1.update()\n",
    "print(p1.age,p2.age)\n",
    "p1.compare(p2)\n",
    "\n",
    "p2.update()\n",
    "p1.compare(p2)"
   ]
  },
  {
   "cell_type": "markdown",
   "metadata": {},
   "source": [
    "# Destructor\n",
    "- used to perform the clean up activity before destroying an object such as closing database connections or filehandle.\n",
    "- Python has a garbage collector that handles memory management automatically.\n",
    "- it cleans up the memory when an object goes out of scope."
   ]
  },
  {
   "cell_type": "code",
   "execution_count": 4,
   "metadata": {},
   "outputs": [],
   "source": [
    "class Employee:\n",
    "    def __init__(self,name,age,salary):\n",
    "        self.name = name\n",
    "        self.age = age\n",
    "        self.salary = salary\n",
    "        \n",
    "    def __del__(self):\n",
    "        print(\"Object Destroyed\")\n",
    "    \n",
    "    def display(self):\n",
    "        print(self.name,self.age,self.salary)"
   ]
  },
  {
   "cell_type": "code",
   "execution_count": 5,
   "metadata": {},
   "outputs": [
    {
     "name": "stdout",
     "output_type": "stream",
     "text": [
      "Object Destroyed\n",
      "Object Destroyed\n",
      "abc 34 50000\n",
      "xyz 36 60000\n",
      "Object Destroyed\n"
     ]
    },
    {
     "ename": "NameError",
     "evalue": "name 'emp2' is not defined",
     "output_type": "error",
     "traceback": [
      "\u001b[1;31m---------------------------------------------------------------------------\u001b[0m",
      "\u001b[1;31mNameError\u001b[0m                                 Traceback (most recent call last)",
      "\u001b[1;32m<ipython-input-5-b8f248e9fd1d>\u001b[0m in \u001b[0;36m<module>\u001b[1;34m\u001b[0m\n\u001b[0;32m      4\u001b[0m \u001b[0memp2\u001b[0m\u001b[1;33m.\u001b[0m\u001b[0mdisplay\u001b[0m\u001b[1;33m(\u001b[0m\u001b[1;33m)\u001b[0m\u001b[1;33m\u001b[0m\u001b[1;33m\u001b[0m\u001b[0m\n\u001b[0;32m      5\u001b[0m \u001b[1;32mdel\u001b[0m \u001b[0memp2\u001b[0m\u001b[1;33m\u001b[0m\u001b[1;33m\u001b[0m\u001b[0m\n\u001b[1;32m----> 6\u001b[1;33m \u001b[0memp2\u001b[0m\u001b[1;33m.\u001b[0m\u001b[0mdisplay\u001b[0m\u001b[1;33m(\u001b[0m\u001b[1;33m)\u001b[0m\u001b[1;33m\u001b[0m\u001b[1;33m\u001b[0m\u001b[0m\n\u001b[0m",
      "\u001b[1;31mNameError\u001b[0m: name 'emp2' is not defined"
     ]
    }
   ],
   "source": [
    "emp1 = Employee(\"abc\",34,50000)\n",
    "emp2 = Employee(\"xyz\",36,60000)\n",
    "emp1.display()\n",
    "emp2.display()\n",
    "del emp2\n",
    "emp2.display()"
   ]
  },
  {
   "cell_type": "markdown",
   "metadata": {},
   "source": [
    "# Class var vs Instance var"
   ]
  },
  {
   "cell_type": "code",
   "execution_count": 17,
   "metadata": {
    "scrolled": true
   },
   "outputs": [
    {
     "name": "stdout",
     "output_type": "stream",
     "text": [
      "Yes\n",
      "Realme X\n",
      "Yes\n",
      "Realme X\n"
     ]
    }
   ],
   "source": [
    "class Mobile:\n",
    "    fp = \"Yes\" #class var\n",
    "    def __init__(self):\n",
    "        self.model = \"Realme X\" #Instance var\n",
    "         \n",
    "    def show_model(self):\n",
    "        print(self.model)\n",
    "    \n",
    "    @classmethod\n",
    "    def show(cls): #class method\n",
    "        print(cls.fp) #Accessing class var inside class method\n",
    "        \n",
    "realme = Mobile()\n",
    "realme.show()\n",
    "realme.show_model()\n",
    "\n",
    "Mobile.show()\n",
    "Mobile.show_model(realme)\n",
    "# print(Mobile.fp) #Accessing class var outside class method"
   ]
  },
  {
   "cell_type": "code",
   "execution_count": 20,
   "metadata": {},
   "outputs": [
    {
     "name": "stdout",
     "output_type": "stream",
     "text": [
      "The name is: Orange\n",
      "The name is: banana\n",
      "The name is: banana\n"
     ]
    }
   ],
   "source": [
    "class Fruit:\n",
    "    name = \"Orange\"\n",
    "     \n",
    "    @classmethod\n",
    "    def printname(cls):\n",
    "        print(\"The name is:\",cls.name)\n",
    "    \n",
    "Fruit.printname()\n",
    "apple = Fruit()\n",
    "Fruit.name = \"banana\"\n",
    "Fruit.printname()\n",
    "apple.name = \"Strawberry\"\n",
    "apple.printname()"
   ]
  },
  {
   "cell_type": "code",
   "execution_count": null,
   "metadata": {},
   "outputs": [],
   "source": []
  }
 ],
 "metadata": {
  "kernelspec": {
   "display_name": "Python 3",
   "language": "python",
   "name": "python3"
  },
  "language_info": {
   "codemirror_mode": {
    "name": "ipython",
    "version": 3
   },
   "file_extension": ".py",
   "mimetype": "text/x-python",
   "name": "python",
   "nbconvert_exporter": "python",
   "pygments_lexer": "ipython3",
   "version": "3.8.5"
  }
 },
 "nbformat": 4,
 "nbformat_minor": 4
}
