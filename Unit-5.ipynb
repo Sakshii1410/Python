{
 "cells": [
  {
   "cell_type": "markdown",
   "metadata": {},
   "source": [
    "## pop()"
   ]
  },
  {
   "cell_type": "code",
   "execution_count": 1,
   "metadata": {},
   "outputs": [
    {
     "name": "stdout",
     "output_type": "stream",
     "text": [
      "50\n",
      "40\n",
      "[10, 20, 30]\n"
     ]
    }
   ],
   "source": [
    "n = [10,20,30,40,50]\n",
    "print(n.pop())\n",
    "print(n.pop())\n",
    "print(n)"
   ]
  },
  {
   "cell_type": "code",
   "execution_count": 2,
   "metadata": {},
   "outputs": [
    {
     "ename": "IndexError",
     "evalue": "pop from empty list",
     "output_type": "error",
     "traceback": [
      "\u001b[1;31m---------------------------------------------------------------------------\u001b[0m",
      "\u001b[1;31mIndexError\u001b[0m                                Traceback (most recent call last)",
      "\u001b[1;32m<ipython-input-2-f72befbd8481>\u001b[0m in \u001b[0;36m<module>\u001b[1;34m\u001b[0m\n\u001b[0;32m      1\u001b[0m \u001b[0my\u001b[0m\u001b[1;33m=\u001b[0m\u001b[1;33m[\u001b[0m\u001b[1;33m]\u001b[0m\u001b[1;33m\u001b[0m\u001b[1;33m\u001b[0m\u001b[0m\n\u001b[1;32m----> 2\u001b[1;33m \u001b[0mprint\u001b[0m\u001b[1;33m(\u001b[0m\u001b[0my\u001b[0m\u001b[1;33m.\u001b[0m\u001b[0mpop\u001b[0m\u001b[1;33m(\u001b[0m\u001b[1;33m)\u001b[0m\u001b[1;33m)\u001b[0m\u001b[1;33m\u001b[0m\u001b[1;33m\u001b[0m\u001b[0m\n\u001b[0m",
      "\u001b[1;31mIndexError\u001b[0m: pop from empty list"
     ]
    }
   ],
   "source": [
    "y=[]\n",
    "print(y.pop())"
   ]
  },
  {
   "cell_type": "code",
   "execution_count": 5,
   "metadata": {},
   "outputs": [
    {
     "name": "stdout",
     "output_type": "stream",
     "text": [
      "50\n",
      "20\n"
     ]
    }
   ],
   "source": [
    "n = [10,20,30,40,50]\n",
    "print(n.pop())\n",
    "print(n.pop(1))\n",
    "# print(n.pop(10)) # IndexError: pop index out of range"
   ]
  },
  {
   "cell_type": "markdown",
   "metadata": {},
   "source": [
    "## clear()"
   ]
  },
  {
   "cell_type": "code",
   "execution_count": 7,
   "metadata": {},
   "outputs": [
    {
     "name": "stdout",
     "output_type": "stream",
     "text": [
      "[]\n"
     ]
    }
   ],
   "source": [
    "n = [1,2,3,4,5]\n",
    "n.clear()\n",
    "print(n)"
   ]
  },
  {
   "cell_type": "markdown",
   "metadata": {},
   "source": [
    "## reverse()"
   ]
  },
  {
   "cell_type": "code",
   "execution_count": 13,
   "metadata": {},
   "outputs": [
    {
     "name": "stdout",
     "output_type": "stream",
     "text": [
      "[2, 4, 5, 3, 1]\n"
     ]
    }
   ],
   "source": [
    "n = [1,3,5,4,2]\n",
    "n.reverse()\n",
    "print(n)"
   ]
  },
  {
   "cell_type": "markdown",
   "metadata": {},
   "source": [
    "## sort()"
   ]
  },
  {
   "cell_type": "code",
   "execution_count": 12,
   "metadata": {},
   "outputs": [
    {
     "name": "stdout",
     "output_type": "stream",
     "text": [
      "[0, 1, 2, 5, 15]\n",
      "[15, 5, 2, 1, 0]\n"
     ]
    }
   ],
   "source": [
    "n = [2,5,1,15,0]\n",
    "n.sort()\n",
    "print(n)\n",
    "\n",
    "n.sort(reverse=True)\n",
    "print(n)"
   ]
  },
  {
   "cell_type": "code",
   "execution_count": 14,
   "metadata": {},
   "outputs": [
    {
     "name": "stdout",
     "output_type": "stream",
     "text": [
      "['A', 'B', 'C', 'D']\n"
     ]
    }
   ],
   "source": [
    "x = [\"D\",\"A\",\"B\",\"C\"]\n",
    "x.sort()\n",
    "print(x)"
   ]
  },
  {
   "cell_type": "markdown",
   "metadata": {},
   "source": [
    "## Mathematical operators for List\n",
    "\n",
    "    + - concatenation\n",
    "    * - Repetition"
   ]
  },
  {
   "cell_type": "code",
   "execution_count": 17,
   "metadata": {},
   "outputs": [
    {
     "name": "stdout",
     "output_type": "stream",
     "text": [
      "[1, 2, 3, 4, 5, 6]\n",
      "[1, 2, 3, 4]\n",
      "[1, 2, 3, 1, 2, 3, 1, 2, 3]\n"
     ]
    }
   ],
   "source": [
    "a = [1,2,3]\n",
    "b = [4,5,6]\n",
    "\n",
    "print(a+b)\n",
    "print(a+[4])\n",
    "# print(a+4) # TypeError: can only concatenate list (not \"int\") to list\n",
    "print(a*3)"
   ]
  },
  {
   "cell_type": "markdown",
   "metadata": {},
   "source": [
    "## Comparison operators for List"
   ]
  },
  {
   "cell_type": "code",
   "execution_count": 21,
   "metadata": {},
   "outputs": [
    {
     "name": "stdout",
     "output_type": "stream",
     "text": [
      "True\n",
      "False\n",
      "True\n"
     ]
    }
   ],
   "source": [
    "x = [\"Dog\",\"Cat\",\"Rat\"]\n",
    "y = [\"Dog\",\"Cat\",\"Rat\"]\n",
    "z = [\"DOG\",\"CAT\",\"RAT\"]\n",
    "\n",
    "print(x==y)\n",
    "print(x==z)\n",
    "print(x!=z)"
   ]
  },
  {
   "cell_type": "code",
   "execution_count": 22,
   "metadata": {},
   "outputs": [
    {
     "name": "stdout",
     "output_type": "stream",
     "text": [
      "False\n",
      "False\n",
      "True\n",
      "True\n"
     ]
    }
   ],
   "source": [
    "x = [\"Dog\",\"Cat\",\"Rat\"]\n",
    "y = [\"Rat\",\"Cat\",\"Dog\"] \n",
    "\n",
    "print(x>y)\n",
    "print(x>=y)\n",
    "print(x<y)\n",
    "print(x<=y)"
   ]
  },
  {
   "cell_type": "code",
   "execution_count": 23,
   "metadata": {},
   "outputs": [
    {
     "name": "stdout",
     "output_type": "stream",
     "text": [
      "False\n",
      "False\n",
      "True\n",
      "True\n"
     ]
    }
   ],
   "source": [
    "x = [50,20,30]\n",
    "y = [50,20,30,60,100,200]\n",
    "\n",
    "print(x>y)\n",
    "print(x>=y)\n",
    "print(x<y)\n",
    "print(x<=y)"
   ]
  },
  {
   "cell_type": "markdown",
   "metadata": {},
   "source": [
    "## Membership operators for List\n",
    "\n",
    "1. in\n",
    "2. not in"
   ]
  },
  {
   "cell_type": "code",
   "execution_count": 27,
   "metadata": {},
   "outputs": [
    {
     "name": "stdout",
     "output_type": "stream",
     "text": [
      "True\n",
      "False\n",
      "False\n"
     ]
    }
   ],
   "source": [
    "l = [10,20,30,40]\n",
    "print(10 in l)\n",
    "print(40 not in l)\n",
    "print(50 in l)"
   ]
  },
  {
   "cell_type": "code",
   "execution_count": 29,
   "metadata": {},
   "outputs": [
    {
     "name": "stdout",
     "output_type": "stream",
     "text": [
      "[10, 20, 100, 40, 50]\n",
      "[10, 20, 30, 40, 50]\n"
     ]
    }
   ],
   "source": [
    "l = [10,20,30,40,50]\n",
    "x = l[:] # or i.copy()\n",
    "x[2] = 100\n",
    "print(x)\n",
    "print(l)"
   ]
  },
  {
   "cell_type": "markdown",
   "metadata": {},
   "source": [
    "## Nested list"
   ]
  },
  {
   "cell_type": "code",
   "execution_count": 34,
   "metadata": {},
   "outputs": [
    {
     "name": "stdout",
     "output_type": "stream",
     "text": [
      "10\n",
      "40\n",
      "80\n"
     ]
    }
   ],
   "source": [
    "n = [10,20,30,[40,20],[60,70,80]]\n",
    "print(n[0])\n",
    "print(n[3][0])\n",
    "print(n[4][2])"
   ]
  },
  {
   "cell_type": "code",
   "execution_count": 35,
   "metadata": {},
   "outputs": [
    {
     "name": "stdout",
     "output_type": "stream",
     "text": [
      "200\n"
     ]
    }
   ],
   "source": [
    "n = [10,20,30,[40,20],[60,70,80,[100,200]]]\n",
    "print(n[4][3][1])"
   ]
  },
  {
   "cell_type": "code",
   "execution_count": 38,
   "metadata": {},
   "outputs": [
    {
     "name": "stdout",
     "output_type": "stream",
     "text": [
      "10 20 30 \n",
      "40 50 60 \n",
      "70 80 90 \n"
     ]
    }
   ],
   "source": [
    "n = [[10,20,30],[40,50,60],[70,80,90]]\n",
    "\n",
    "for i in n:\n",
    "    for j in i:\n",
    "        print(j,end=\" \")\n",
    "    print()"
   ]
  },
  {
   "cell_type": "code",
   "execution_count": 57,
   "metadata": {},
   "outputs": [
    {
     "ename": "TypeError",
     "evalue": "'int' object is not subscriptable",
     "output_type": "error",
     "traceback": [
      "\u001b[1;31m---------------------------------------------------------------------------\u001b[0m",
      "\u001b[1;31mTypeError\u001b[0m                                 Traceback (most recent call last)",
      "\u001b[1;32m<ipython-input-57-d3b84e26675c>\u001b[0m in \u001b[0;36m<module>\u001b[1;34m\u001b[0m\n\u001b[0;32m      4\u001b[0m \u001b[1;32mfor\u001b[0m \u001b[0mi\u001b[0m \u001b[1;32min\u001b[0m \u001b[0mrange\u001b[0m\u001b[1;33m(\u001b[0m\u001b[0mlen\u001b[0m\u001b[1;33m(\u001b[0m\u001b[0mn\u001b[0m\u001b[1;33m)\u001b[0m\u001b[1;33m)\u001b[0m\u001b[1;33m:\u001b[0m\u001b[1;33m\u001b[0m\u001b[1;33m\u001b[0m\u001b[0m\n\u001b[0;32m      5\u001b[0m     \u001b[1;32mfor\u001b[0m \u001b[0mj\u001b[0m \u001b[1;32min\u001b[0m \u001b[0mrange\u001b[0m\u001b[1;33m(\u001b[0m\u001b[0mlen\u001b[0m\u001b[1;33m(\u001b[0m\u001b[0mn\u001b[0m\u001b[1;33m)\u001b[0m\u001b[1;33m)\u001b[0m\u001b[1;33m:\u001b[0m\u001b[1;33m\u001b[0m\u001b[1;33m\u001b[0m\u001b[0m\n\u001b[1;32m----> 6\u001b[1;33m         \u001b[0ml\u001b[0m\u001b[1;33m[\u001b[0m\u001b[0mi\u001b[0m\u001b[1;33m]\u001b[0m\u001b[1;33m[\u001b[0m\u001b[0mj\u001b[0m\u001b[1;33m]\u001b[0m \u001b[1;33m+=\u001b[0m \u001b[0mn\u001b[0m\u001b[1;33m[\u001b[0m\u001b[0mi\u001b[0m\u001b[1;33m]\u001b[0m\u001b[1;33m[\u001b[0m\u001b[0mj\u001b[0m\u001b[1;33m]\u001b[0m\u001b[1;33m\u001b[0m\u001b[1;33m\u001b[0m\u001b[0m\n\u001b[0m\u001b[0;32m      7\u001b[0m \u001b[0mprint\u001b[0m\u001b[1;33m(\u001b[0m\u001b[0ml\u001b[0m\u001b[1;33m)\u001b[0m\u001b[1;33m\u001b[0m\u001b[1;33m\u001b[0m\u001b[0m\n\u001b[0;32m      8\u001b[0m \u001b[1;33m\u001b[0m\u001b[0m\n",
      "\u001b[1;31mTypeError\u001b[0m: 'int' object is not subscriptable"
     ]
    }
   ],
   "source": [
    "n = [[1,2,3],[4,5,6],[7,8,9]]\n",
    "l = [0,0,0] \n",
    "\n",
    "for i in range(len(n)):\n",
    "    for j in range(len(n)):\n",
    "        l[i][j] += n[i][j]\n",
    "print(l)\n",
    "\n"
   ]
  },
  {
   "cell_type": "code",
   "execution_count": 54,
   "metadata": {},
   "outputs": [
    {
     "name": "stdout",
     "output_type": "stream",
     "text": [
      "[1, 4, 7]\n",
      "[2, 5, 8]\n",
      "[3, 6, 9]\n"
     ]
    }
   ],
   "source": [
    "n = [[1,2,3],[4,5,6],[7,8,9]]\n",
    "\n",
    "for i in range(len(n[0])): \n",
    "    new = [row[i] for row in n]\n",
    "    print(new)"
   ]
  },
  {
   "cell_type": "markdown",
   "metadata": {},
   "source": [
    "## List Comprehension\n",
    "\n",
    "    Syntax: l = [expression for item in list if condition]"
   ]
  },
  {
   "cell_type": "code",
   "execution_count": 53,
   "metadata": {},
   "outputs": [
    {
     "name": "stdout",
     "output_type": "stream",
     "text": [
      "[1, 4, 9, 16, 25, 36, 49, 64, 81, 100]\n",
      "[2, 4, 8, 16, 32]\n",
      "[4, 16, 36, 64, 100]\n"
     ]
    }
   ],
   "source": [
    "s = [x*x for x in range(1,11)]\n",
    "print(s)\n",
    "v = [2**x for x in range(1,6)]\n",
    "print(v)\n",
    "m = [x for x in s if x%2==0]\n",
    "print(m)"
   ]
  },
  {
   "cell_type": "markdown",
   "metadata": {},
   "source": [
    "### WAP to print element with frequency greater then a given value of key"
   ]
  },
  {
   "cell_type": "code",
   "execution_count": 59,
   "metadata": {},
   "outputs": [
    {
     "name": "stdout",
     "output_type": "stream",
     "text": [
      "[1, 2, 5]\n"
     ]
    }
   ],
   "source": [
    "l = [1,1,1,1,2,2,2,2,3,3,5,5,5,6,7]\n",
    "n = []\n",
    "k = 2\n",
    "\n",
    "for i in l:\n",
    "    if l.count(i)>k and i not in n:\n",
    "        n.append(i)\n",
    "        \n",
    "print(n)"
   ]
  },
  {
   "cell_type": "markdown",
   "metadata": {},
   "source": [
    "## Dictionary\n",
    "\n",
    "- represent a group of object as key-value pairs <br>\n",
    "  Ex. rollno-name\n",
    "- Duplicate keys not allowed but values can be duplicated.\n",
    "- Heterogeneous object are allowed for both key and values.\n",
    "- Insertion Order not preserved.\n",
    "- Mutable\n",
    "- Index and slicing concepts are not applicable.<br>\n",
    "Ex. d = {10:\"Lucky\",20:\"Arman\",30:\"Aryan\"}"
   ]
  },
  {
   "cell_type": "code",
   "execution_count": 63,
   "metadata": {},
   "outputs": [
    {
     "name": "stdout",
     "output_type": "stream",
     "text": [
      "<class 'dict'>\n",
      "<class 'set'>\n",
      "{10: 'Arman', 20: 'Aryan', 30: 'Lucky'}\n"
     ]
    }
   ],
   "source": [
    "d = {} # dict()\n",
    "print(type(d))\n",
    "\n",
    "s = set()\n",
    "print(type(s))\n",
    "\n",
    "d[10] = \"Arman\"\n",
    "d[20] = \"Aryan\"\n",
    "d[30] = \"Lucky\"\n",
    "print(d)"
   ]
  },
  {
   "cell_type": "code",
   "execution_count": 65,
   "metadata": {},
   "outputs": [
    {
     "name": "stdout",
     "output_type": "stream",
     "text": [
      "{10: 'Lucky', 20: 'Arman', 30: 'Aryan'}\n"
     ]
    }
   ],
   "source": [
    "d = dict([(10,\"Lucky\"),(20,\"Arman\"),(30,\"Aryan\")])\n",
    "print(d)"
   ]
  },
  {
   "cell_type": "code",
   "execution_count": 73,
   "metadata": {},
   "outputs": [
    {
     "name": "stdout",
     "output_type": "stream",
     "text": [
      "Arman\n",
      "{10: 'Arman', 20: 'Aryan', 30: 'Lucky', 40: 'Sumit'}\n",
      "{10: 'Sachin', 20: 'Aryan', 30: 'Lucky', 40: 'Sumit'}\n",
      "{10: 'Sachin', 20: 'Aryan', 30: 'Lucky'}\n",
      "{}\n"
     ]
    }
   ],
   "source": [
    "d = {10: 'Arman', 20: 'Aryan', 30: 'Lucky'}\n",
    "print(d[10])\n",
    "# print(d[40]) # KeyError: 40\n",
    "\n",
    "d[40] = \"Sumit\"\n",
    "print(d)\n",
    "\n",
    "d[10] = \"Sachin\"\n",
    "print(d)\n",
    "\n",
    "del d[40] # if not present then KeyError\n",
    "print(d)\n",
    "\n",
    "d.clear()\n",
    "print(d)\n",
    "\n",
    "del d\n",
    "# print(d) # NameError: name 'd' is not defined"
   ]
  },
  {
   "cell_type": "markdown",
   "metadata": {},
   "source": [
    "## Dictionary Comprehension"
   ]
  },
  {
   "cell_type": "code",
   "execution_count": 74,
   "metadata": {},
   "outputs": [
    {
     "name": "stdout",
     "output_type": "stream",
     "text": [
      "{1: 1, 2: 4, 3: 9, 4: 16, 5: 25}\n"
     ]
    }
   ],
   "source": [
    "square = {x:x*x for x in range(1,6)}\n",
    "print(square)"
   ]
  },
  {
   "cell_type": "markdown",
   "metadata": {},
   "source": [
    "## Important Functions of Dictionary \n",
    "\n",
    "### 1. dict()\n",
    "### 2. len()\n",
    "### 3. clear()\n",
    "### 4. copy()\n",
    "### 5. update()"
   ]
  },
  {
   "cell_type": "code",
   "execution_count": 78,
   "metadata": {},
   "outputs": [
    {
     "name": "stdout",
     "output_type": "stream",
     "text": [
      "5\n",
      "{1: 1, 2: 4, 3: 9, 4: 16, 5: 25}\n",
      "{1: 50, 2: 4, 3: 9, 4: 16, 5: 25}\n"
     ]
    }
   ],
   "source": [
    "l = {1: 1, 2: 4, 3: 9, 4: 16, 5: 25}\n",
    "print(len(l))\n",
    "\n",
    "x = l.copy()\n",
    "x[1] = 50\n",
    "print(l)\n",
    "print(x)"
   ]
  },
  {
   "cell_type": "code",
   "execution_count": 80,
   "metadata": {},
   "outputs": [
    {
     "name": "stdout",
     "output_type": "stream",
     "text": [
      "{10: 50, 30: 40, 50: 60, 200: 40, 300: 600}\n"
     ]
    }
   ],
   "source": [
    "d = {10:20,30:40,50:60}\n",
    "x = {10:50,200:40,300:600}\n",
    "d.update(x)\n",
    "print(d)"
   ]
  },
  {
   "cell_type": "markdown",
   "metadata": {},
   "source": [
    "### 6. get()"
   ]
  },
  {
   "cell_type": "code",
   "execution_count": 82,
   "metadata": {},
   "outputs": [
    {
     "name": "stdout",
     "output_type": "stream",
     "text": [
      "Arman\n",
      "Arman\n",
      "None\n",
      "Arman\n",
      "Guest\n"
     ]
    }
   ],
   "source": [
    "d = {10: 'Arman', 20: 'Aryan', 30: 'Lucky'}\n",
    "print(d[10])\n",
    "print(d.get(10))\n",
    "print(d.get(40))\n",
    "\n",
    "print(d.get(10,\"Guest\"))\n",
    "print(d.get(40,\"Guest\"))"
   ]
  },
  {
   "cell_type": "markdown",
   "metadata": {},
   "source": [
    "### 7. popitem()"
   ]
  },
  {
   "cell_type": "code",
   "execution_count": 85,
   "metadata": {},
   "outputs": [
    {
     "name": "stdout",
     "output_type": "stream",
     "text": [
      "(30, 'Lucky')\n",
      "{10: 'Arman', 20: 'Aryan'}\n"
     ]
    }
   ],
   "source": [
    "d = {10: 'Arman', 20: 'Aryan', 30: 'Lucky'}\n",
    "print(d.popitem())\n",
    "print(d)\n",
    "\n",
    "d = {}\n",
    "# print(d.popitem()) # KeyError: 'popitem(): dictionary is empty'"
   ]
  },
  {
   "cell_type": "markdown",
   "metadata": {},
   "source": [
    "### 8. keys()\n",
    "### 9. values()\n",
    "### 10. items()"
   ]
  },
  {
   "cell_type": "code",
   "execution_count": 88,
   "metadata": {},
   "outputs": [
    {
     "name": "stdout",
     "output_type": "stream",
     "text": [
      "dict_keys([10, 20, 30])\n",
      "dict_values(['Arman', 'Aryan', 'Lucky'])\n",
      "dict_items([(10, 'Arman'), (20, 'Aryan'), (30, 'Lucky')])\n",
      "\n",
      "10 20 30 \n",
      "Arman Aryan Lucky \n",
      "10 - Arman  20 - Aryan  30 - Lucky  "
     ]
    }
   ],
   "source": [
    "d = {10: 'Arman', 20: 'Aryan', 30: 'Lucky'}\n",
    "print(d.keys())\n",
    "print(d.values())\n",
    "print(d.items())\n",
    "print()\n",
    "\n",
    "for i in d.keys():\n",
    "    print(i,end=\" \")\n",
    "print()\n",
    "    \n",
    "for i in d.values():\n",
    "    print(i,end=\" \")\n",
    "print()\n",
    "    \n",
    "for i,j in d.items():\n",
    "    print(i,\"-\",j,end=\"  \")"
   ]
  },
  {
   "cell_type": "markdown",
   "metadata": {},
   "source": [
    "### setdefault()"
   ]
  },
  {
   "cell_type": "code",
   "execution_count": 89,
   "metadata": {},
   "outputs": [
    {
     "name": "stdout",
     "output_type": "stream",
     "text": [
      "Pavan\n",
      "{10: 'Arman', 20: 'Aryan', 30: 'Lucky', 40: 'Pavan'}\n",
      "Arman\n",
      "{10: 'Arman', 20: 'Aryan', 30: 'Lucky', 40: 'Pavan'}\n"
     ]
    }
   ],
   "source": [
    "d = {10: 'Arman', 20: 'Aryan', 30: 'Lucky'}\n",
    "print(d.setdefault(40,\"Pavan\"))\n",
    "print(d)\n",
    "print(d.setdefault(10,\"Sachin\"))\n",
    "print(d)"
   ]
  },
  {
   "cell_type": "code",
   "execution_count": 90,
   "metadata": {},
   "outputs": [
    {
     "name": "stdout",
     "output_type": "stream",
     "text": [
      "{'dog': 2, 'the': 2, 'quick': 1, 'brown': 1, 'fox': 1, 'jumps': 1, 'over': 1, 'lazy': 1}\n"
     ]
    }
   ],
   "source": [
    "s = \"Dog the quick brown fox jumps over the lazy dog\".lower()\n",
    "d = {}\n",
    "\n",
    "for i in s.split():\n",
    "    d.setdefault(i,s.count(i))\n",
    "print(d)"
   ]
  },
  {
   "cell_type": "markdown",
   "metadata": {},
   "source": [
    "### WAP to create a dict with the key as first char and value as a list of words starting with that char"
   ]
  },
  {
   "cell_type": "code",
   "execution_count": 9,
   "metadata": {},
   "outputs": [
    {
     "name": "stdout",
     "output_type": "stream",
     "text": [
      "{'D': [\"Don't\"], 'w': ['wait'], 'f': ['for', 'feelings'], 'y': ['your'], 't': ['to', 'to', 'take', 'the'], 'c': ['change'], 'a': ['action']}\n"
     ]
    }
   ],
   "source": [
    "s = \"Don't wait for your feelings to change to take the action\"\n",
    "words = s.split()\n",
    "d = {}\n",
    "\n",
    "for i in words:\n",
    "    temp=[]\n",
    "    for j in words:\n",
    "        if j[0]==i[0]:\n",
    "            temp.append(j)\n",
    "    d.setdefault(i[0],temp)\n",
    "    \n",
    "print(d)"
   ]
  },
  {
   "cell_type": "code",
   "execution_count": 10,
   "metadata": {},
   "outputs": [
    {
     "name": "stdout",
     "output_type": "stream",
     "text": [
      "{'D': [\"Don't\"], 'w': ['wait'], 'f': ['for', 'feelings'], 'y': ['your'], 't': ['to', 'to', 'take', 'the'], 'c': ['change'], 'a': ['action']}\n"
     ]
    }
   ],
   "source": [
    "s = \"Don't wait for your feelings to change to take the action\"\n",
    "words = s.split()\n",
    "d = {}\n",
    "\n",
    "for word in words:\n",
    "    key = word[0]\n",
    "    if key in d:\n",
    "        d[key].append(word)\n",
    "    else:\n",
    "        d[key] = [word]\n",
    "print(d)"
   ]
  },
  {
   "cell_type": "markdown",
   "metadata": {},
   "source": [
    "# Set\n",
    "\n",
    "- represent a group of unique values as a single entity.\n",
    "- Duplicates are not allowed.\n",
    "- Insertion order is not preseved.\n",
    "- Indexing and Slicing not allowed.\n",
    "- Heterogeneous elements allowed.\n",
    "- Mutable\n",
    "- Curly braces with comma separator\n",
    "- Mathematical operations like union, intersection, difference etc..."
   ]
  },
  {
   "cell_type": "code",
   "execution_count": 12,
   "metadata": {},
   "outputs": [
    {
     "name": "stdout",
     "output_type": "stream",
     "text": [
      "{1, 2, 3, 4, 5, 6}\n",
      "<class 'set'>\n",
      "{1, 4, 7, 8, 10, 20, 22, 24, 25, 26, 28}\n"
     ]
    }
   ],
   "source": [
    "s = {4,2,3,3,4,4,4,1,2,5,5,6}\n",
    "print(s)\n",
    "print(type(s))\n",
    "\n",
    "s = {20,25,1,4,4,7,8,10,10,22,24,26,28}\n",
    "print(s)"
   ]
  },
  {
   "cell_type": "code",
   "execution_count": 16,
   "metadata": {},
   "outputs": [
    {
     "name": "stdout",
     "output_type": "stream",
     "text": [
      "{1, 2, 3, 4, 5, 6}\n"
     ]
    }
   ],
   "source": [
    "s = set()\n",
    "l = [1,3,6,4,5,2]\n",
    "s = set(l)\n",
    "print(s)"
   ]
  },
  {
   "cell_type": "code",
   "execution_count": 18,
   "metadata": {},
   "outputs": [
    {
     "name": "stdout",
     "output_type": "stream",
     "text": [
      "{'L', 'I', 'J', 'T', 'E'}\n"
     ]
    }
   ],
   "source": [
    "x = 'LJIET'\n",
    "s = set(x)\n",
    "print(s)"
   ]
  },
  {
   "cell_type": "code",
   "execution_count": 19,
   "metadata": {},
   "outputs": [
    {
     "name": "stdout",
     "output_type": "stream",
     "text": [
      "{1, 2, 3, 4, 5}\n"
     ]
    }
   ],
   "source": [
    "y = range(1,6)\n",
    "s = set(y)\n",
    "print(s)"
   ]
  },
  {
   "cell_type": "code",
   "execution_count": 20,
   "metadata": {},
   "outputs": [
    {
     "name": "stdout",
     "output_type": "stream",
     "text": [
      "{40, 10, 20, 30}\n"
     ]
    }
   ],
   "source": [
    "l = [10,20,30,40,10,20,30]\n",
    "print(set(l))"
   ]
  },
  {
   "cell_type": "markdown",
   "metadata": {},
   "source": [
    "## Mathematical Operations on Set\n",
    "\n",
    "### union()"
   ]
  },
  {
   "cell_type": "code",
   "execution_count": 23,
   "metadata": {},
   "outputs": [
    {
     "name": "stdout",
     "output_type": "stream",
     "text": [
      "{40, 10, 50, 20, 60, 30}\n",
      "{40, 10, 50, 20, 60, 30}\n",
      "{40, 10, 50, 20, 60, 30}\n"
     ]
    }
   ],
   "source": [
    "x = {10,20,30,40}\n",
    "y = {30,40,50,60}\n",
    "print(x.union(y))\n",
    "print(x | y)\n",
    "print(y.union(x))"
   ]
  },
  {
   "cell_type": "markdown",
   "metadata": {},
   "source": [
    "### intersection()"
   ]
  },
  {
   "cell_type": "code",
   "execution_count": 26,
   "metadata": {},
   "outputs": [
    {
     "name": "stdout",
     "output_type": "stream",
     "text": [
      "{40, 30}\n",
      "{40, 30}\n"
     ]
    }
   ],
   "source": [
    "print(x.intersection(y))\n",
    "print(x & y)"
   ]
  },
  {
   "cell_type": "markdown",
   "metadata": {},
   "source": [
    "### difference()"
   ]
  },
  {
   "cell_type": "code",
   "execution_count": 28,
   "metadata": {},
   "outputs": [
    {
     "name": "stdout",
     "output_type": "stream",
     "text": [
      "{10, 20}\n",
      "{10, 20}\n",
      "\n",
      "{50, 60}\n",
      "{50, 60}\n"
     ]
    }
   ],
   "source": [
    "print(x.difference(y))\n",
    "print(x - y)\n",
    "print()\n",
    "print(y.difference(x))\n",
    "print(y - x)"
   ]
  },
  {
   "cell_type": "markdown",
   "metadata": {},
   "source": [
    "### symmetric_difference()"
   ]
  },
  {
   "cell_type": "code",
   "execution_count": 29,
   "metadata": {},
   "outputs": [
    {
     "name": "stdout",
     "output_type": "stream",
     "text": [
      "{10, 50, 20, 60}\n",
      "{10, 50, 20, 60}\n"
     ]
    }
   ],
   "source": [
    "print(x.symmetric_difference(y))\n",
    "print(x^y)"
   ]
  },
  {
   "cell_type": "markdown",
   "metadata": {},
   "source": [
    "### issubset()\n",
    "### issuperset()"
   ]
  },
  {
   "cell_type": "code",
   "execution_count": 31,
   "metadata": {},
   "outputs": [
    {
     "name": "stdout",
     "output_type": "stream",
     "text": [
      "True\n",
      "True\n"
     ]
    }
   ],
   "source": [
    "x = {'a','b','c'}\n",
    "y = {'f','e','d','c','b','a'}\n",
    "\n",
    "print(x.issubset(y))\n",
    "print(y.issuperset(x))"
   ]
  },
  {
   "cell_type": "markdown",
   "metadata": {},
   "source": [
    "# Membership Operator in set\n",
    "\n",
    "1. in\n",
    "2. not in"
   ]
  },
  {
   "cell_type": "code",
   "execution_count": 32,
   "metadata": {},
   "outputs": [
    {
     "name": "stdout",
     "output_type": "stream",
     "text": [
      "True\n",
      "False\n",
      "False\n"
     ]
    }
   ],
   "source": [
    "s = set(\"LJIET\")\n",
    "print('L' in s)\n",
    "print('T' not in s)\n",
    "print('X' in s)"
   ]
  },
  {
   "cell_type": "markdown",
   "metadata": {},
   "source": [
    "# Important functions of String\n",
    "\n",
    "### 1. add(x)"
   ]
  },
  {
   "cell_type": "code",
   "execution_count": 34,
   "metadata": {},
   "outputs": [
    {
     "name": "stdout",
     "output_type": "stream",
     "text": [
      "{40, 10, 20, 30}\n"
     ]
    }
   ],
   "source": [
    "s = {10,20,30}\n",
    "s.add(40)\n",
    "print(s)"
   ]
  },
  {
   "cell_type": "markdown",
   "metadata": {},
   "source": [
    "### 2. update(x,y,z)"
   ]
  },
  {
   "cell_type": "code",
   "execution_count": 37,
   "metadata": {},
   "outputs": [
    {
     "name": "stdout",
     "output_type": "stream",
     "text": [
      "{1, 2, 3, 4, 5, 70, 40, 10, 12, 14, 16, 50, 18, 20, 60, 30}\n"
     ]
    }
   ],
   "source": [
    "l = [40,50,60,70]\n",
    "s.update(l,range(10,20,2),range(1,6))\n",
    "print(s)"
   ]
  },
  {
   "cell_type": "markdown",
   "metadata": {},
   "source": [
    "### 3. copy()"
   ]
  },
  {
   "cell_type": "code",
   "execution_count": 40,
   "metadata": {},
   "outputs": [
    {
     "name": "stdout",
     "output_type": "stream",
     "text": [
      "{40, 10, 20, 30}\n",
      "{70, 40, 10, 20, 30}\n"
     ]
    }
   ],
   "source": [
    "s = {10,20,30,40}\n",
    "x = s.copy()\n",
    "x.add(70)\n",
    "print(s)\n",
    "print(x)"
   ]
  },
  {
   "cell_type": "markdown",
   "metadata": {},
   "source": [
    "### 4. pop()"
   ]
  },
  {
   "cell_type": "code",
   "execution_count": 42,
   "metadata": {},
   "outputs": [
    {
     "name": "stdout",
     "output_type": "stream",
     "text": [
      "{40, 10, 50, 20, 30}\n",
      "40\n",
      "{10, 50, 20, 30}\n"
     ]
    }
   ],
   "source": [
    "s = {40,30,20,10,50}\n",
    "print(s)\n",
    "print(s.pop())\n",
    "print(s)"
   ]
  },
  {
   "cell_type": "markdown",
   "metadata": {},
   "source": [
    "### 5. remove(x)"
   ]
  },
  {
   "cell_type": "code",
   "execution_count": 45,
   "metadata": {},
   "outputs": [
    {
     "name": "stdout",
     "output_type": "stream",
     "text": [
      "{40, 10, 20}\n"
     ]
    }
   ],
   "source": [
    "s = {10,20,30,40}\n",
    "s.remove(30)\n",
    "print(s)\n",
    "# s.remove(60) #KeyError: 60"
   ]
  },
  {
   "cell_type": "markdown",
   "metadata": {},
   "source": [
    "### 6. discard(x)"
   ]
  },
  {
   "cell_type": "code",
   "execution_count": 43,
   "metadata": {},
   "outputs": [
    {
     "name": "stdout",
     "output_type": "stream",
     "text": [
      "{40, 10, 20}\n",
      "{40, 10, 20}\n"
     ]
    }
   ],
   "source": [
    "s = {10,20,30,40}\n",
    "s.discard(30)\n",
    "print(s)\n",
    "s.discard(60)\n",
    "print(s)"
   ]
  },
  {
   "cell_type": "markdown",
   "metadata": {},
   "source": [
    "### 7. clear()"
   ]
  },
  {
   "cell_type": "code",
   "execution_count": 47,
   "metadata": {},
   "outputs": [
    {
     "name": "stdout",
     "output_type": "stream",
     "text": [
      "set()\n"
     ]
    }
   ],
   "source": [
    "s.clear()\n",
    "print(s)"
   ]
  },
  {
   "cell_type": "markdown",
   "metadata": {},
   "source": [
    "# Set Comprehension"
   ]
  },
  {
   "cell_type": "code",
   "execution_count": 49,
   "metadata": {},
   "outputs": [
    {
     "name": "stdout",
     "output_type": "stream",
     "text": [
      "{64, 1, 4, 36, 100, 9, 16, 49, 81, 25}\n",
      "{32, 2, 4, 8, 16}\n"
     ]
    }
   ],
   "source": [
    "s = {x*x for x in range(1,11)}\n",
    "print(s)\n",
    "v = {2**x for x in range(1,6)}\n",
    "print(v)"
   ]
  },
  {
   "cell_type": "markdown",
   "metadata": {},
   "source": [
    "# frozenset\n",
    "\n",
    "- It is a immutable version of set"
   ]
  },
  {
   "cell_type": "code",
   "execution_count": 50,
   "metadata": {},
   "outputs": [
    {
     "name": "stdout",
     "output_type": "stream",
     "text": [
      "{'Cherry', 'Pineaple', 'Banana', 'Apple'}\n"
     ]
    }
   ],
   "source": [
    "x = [\"Apple\",\"Banana\",\"Cherry\"]\n",
    "s = set(x)\n",
    "s.add(\"Pineaple\")\n",
    "print(s)"
   ]
  },
  {
   "cell_type": "code",
   "execution_count": 51,
   "metadata": {},
   "outputs": [
    {
     "ename": "AttributeError",
     "evalue": "'frozenset' object has no attribute 'add'",
     "output_type": "error",
     "traceback": [
      "\u001b[1;31m---------------------------------------------------------------------------\u001b[0m",
      "\u001b[1;31mAttributeError\u001b[0m                            Traceback (most recent call last)",
      "\u001b[1;32m<ipython-input-51-fc474a2c6022>\u001b[0m in \u001b[0;36m<module>\u001b[1;34m\u001b[0m\n\u001b[0;32m      1\u001b[0m \u001b[0mf\u001b[0m \u001b[1;33m=\u001b[0m \u001b[0mfrozenset\u001b[0m\u001b[1;33m(\u001b[0m\u001b[0mx\u001b[0m\u001b[1;33m)\u001b[0m\u001b[1;33m\u001b[0m\u001b[1;33m\u001b[0m\u001b[0m\n\u001b[1;32m----> 2\u001b[1;33m \u001b[0mf\u001b[0m\u001b[1;33m.\u001b[0m\u001b[0madd\u001b[0m\u001b[1;33m(\u001b[0m\u001b[1;34m\"Pineaple\"\u001b[0m\u001b[1;33m)\u001b[0m\u001b[1;33m\u001b[0m\u001b[1;33m\u001b[0m\u001b[0m\n\u001b[0m\u001b[0;32m      3\u001b[0m \u001b[0mprint\u001b[0m\u001b[1;33m(\u001b[0m\u001b[0mf\u001b[0m\u001b[1;33m)\u001b[0m\u001b[1;33m\u001b[0m\u001b[1;33m\u001b[0m\u001b[0m\n",
      "\u001b[1;31mAttributeError\u001b[0m: 'frozenset' object has no attribute 'add'"
     ]
    }
   ],
   "source": [
    "f = frozenset(x) \n",
    "f.add(\"Pineaple\")\n",
    "print(f)"
   ]
  },
  {
   "cell_type": "markdown",
   "metadata": {},
   "source": [
    "### WAP to find a index at which the elements of list does not match."
   ]
  },
  {
   "cell_type": "code",
   "execution_count": 56,
   "metadata": {},
   "outputs": [
    {
     "name": "stdout",
     "output_type": "stream",
     "text": [
      "[1, 3, 4, 6]\n"
     ]
    }
   ],
   "source": [
    "x = [1,2,3,4,6,7,8]\n",
    "y = [1,5,3,6,4,7,3]\n",
    "l = []\n",
    "\n",
    "if len(x)==len(y):\n",
    "    for i in range(len(x)):\n",
    "        if x[i]!=y[i]:\n",
    "            l.append(i)\n",
    "    print(l)\n",
    "else:\n",
    "    print('Length must be same...!!')"
   ]
  },
  {
   "cell_type": "markdown",
   "metadata": {},
   "source": [
    "### WAP to repalce words from dictionary given a string replace its words from lookup dictionary."
   ]
  },
  {
   "cell_type": "code",
   "execution_count": 58,
   "metadata": {},
   "outputs": [
    {
     "name": "stdout",
     "output_type": "stream",
     "text": [
      "CompusX is the best channel for Data-Science students\n"
     ]
    }
   ],
   "source": [
    "s = \"CompusX is best for DS students\"\n",
    "d = {\"best\":\"the best channel\", \"DS\":\"Data-Science\"}\n",
    "l = []\n",
    "\n",
    "for i in s.split():\n",
    "    if i in d:\n",
    "        l.append(d[i])\n",
    "    else:\n",
    "        l.append(i)\n",
    "print(\" \".join(l))       "
   ]
  },
  {
   "cell_type": "code",
   "execution_count": 68,
   "metadata": {},
   "outputs": [
    {
     "name": "stdout",
     "output_type": "stream",
     "text": [
      "1\n"
     ]
    }
   ],
   "source": [
    "l = [1,2,3,[1,2],'abcd']\n",
    "print(l[-1:-3:-1][-1][-2])"
   ]
  },
  {
   "cell_type": "markdown",
   "metadata": {},
   "source": [
    "## Lamda Function\n",
    "\n",
    "- Function without any name\n",
    "- nameless function, anonymous function\n",
    "\n",
    "    Syntax : lambda argument_list : expression\n",
    "\n",
    "### Normal Function"
   ]
  },
  {
   "cell_type": "code",
   "execution_count": 2,
   "metadata": {},
   "outputs": [
    {
     "name": "stdout",
     "output_type": "stream",
     "text": [
      "25\n"
     ]
    }
   ],
   "source": [
    "def square(n):\n",
    "    return n*n\n",
    "print(square(5))"
   ]
  },
  {
   "cell_type": "code",
   "execution_count": 3,
   "metadata": {},
   "outputs": [
    {
     "name": "stdout",
     "output_type": "stream",
     "text": [
      "16\n",
      "25\n"
     ]
    }
   ],
   "source": [
    "s = lambda n:n*n\n",
    "print(s(4))\n",
    "print(s(5))"
   ]
  },
  {
   "cell_type": "markdown",
   "metadata": {},
   "source": [
    "## Lambda fun to find sum of two number"
   ]
  },
  {
   "cell_type": "code",
   "execution_count": 4,
   "metadata": {},
   "outputs": [
    {
     "name": "stdout",
     "output_type": "stream",
     "text": [
      "30\n",
      "200\n"
     ]
    }
   ],
   "source": [
    "def sum(a,b):\n",
    "    return a+b\n",
    "print(sum(10,20))\n",
    "\n",
    "s = lambda a,b:a*b\n",
    "print(s(10,20))"
   ]
  },
  {
   "cell_type": "markdown",
   "metadata": {},
   "source": [
    "### 1.map() fun\n",
    "\n",
    "- for every element present in given sequence, apply some functionality and generate new element with required modification.\n",
    "\n",
    "    Syntax : map(function,sequence)"
   ]
  },
  {
   "cell_type": "code",
   "execution_count": 12,
   "metadata": {},
   "outputs": [
    {
     "name": "stdout",
     "output_type": "stream",
     "text": [
      "[2, 4, 6, 8, 10]\n",
      "[2, 4, 6, 8, 10]\n"
     ]
    }
   ],
   "source": [
    "l = [1,2,3,4,5]\n",
    "\n",
    "def double(x):\n",
    "    return 2*x\n",
    "\n",
    "l1 = list(map(double,l))\n",
    "print(l1)\n",
    "\n",
    "l1 = list(map(lambda x:2*x,l))\n",
    "print(l1)"
   ]
  },
  {
   "cell_type": "code",
   "execution_count": 27,
   "metadata": {},
   "outputs": [
    {
     "name": "stdout",
     "output_type": "stream",
     "text": [
      "[4, 6, 8]\n"
     ]
    }
   ],
   "source": [
    "l1 = [1,2,3,4]\n",
    "l2 = [3,4,5]\n",
    "\n",
    "l3 = list(map(lambda x,y:x+y,l1,l2))\n",
    "print(l3)\n",
    "\n",
    "# ans length = smallest length of function"
   ]
  },
  {
   "cell_type": "markdown",
   "metadata": {},
   "source": [
    "### 2.reduce() fun\n",
    "\n",
    "- reduces sequence of element into a single element by applying the specified function.\n",
    "\n",
    "    Syntax : reduce(function,sequence)\n",
    "    \n",
    "    \n",
    "- present in functools module so need import that module to use the reduce() function."
   ]
  },
  {
   "cell_type": "code",
   "execution_count": 19,
   "metadata": {},
   "outputs": [
    {
     "name": "stdout",
     "output_type": "stream",
     "text": [
      "21\n",
      "720\n"
     ]
    }
   ],
   "source": [
    "from functools import *\n",
    "import functools\n",
    "\n",
    "l = [1,2,3,4,5,6]\n",
    "\n",
    "sum = reduce(lambda x,y:x+y,l)\n",
    "print(sum)\n",
    "\n",
    "mul = reduce(lambda x,y:x*y,l)\n",
    "print(mul)\n"
   ]
  },
  {
   "cell_type": "markdown",
   "metadata": {},
   "source": [
    "### 2.filter() fun\n",
    "\n",
    "- filter values from given sequence based on some condition.\n",
    "- function argument is responsible to check condition.\n",
    "\n",
    "    Syntax : filter(function,sequence)"
   ]
  },
  {
   "cell_type": "code",
   "execution_count": 22,
   "metadata": {},
   "outputs": [
    {
     "name": "stdout",
     "output_type": "stream",
     "text": [
      "[0, 2, 4, 6, 8, 10]\n",
      "[0, 2, 4, 6, 8, 10]\n"
     ]
    }
   ],
   "source": [
    "def isEven(x):\n",
    "    if x%2==0:\n",
    "        return True\n",
    "    else:\n",
    "        return False\n",
    "    \n",
    "l = [0,1,2,3,4,5,6,7,8,9,10]\n",
    "\n",
    "l1 = list(filter(isEven,l))\n",
    "print(l1)\n",
    "\n",
    "l1 = list(filter(lambda x:x%2==0,l))\n",
    "print(l1)"
   ]
  },
  {
   "cell_type": "code",
   "execution_count": 29,
   "metadata": {},
   "outputs": [
    {
     "name": "stdout",
     "output_type": "stream",
     "text": [
      "['APPLE', 'BANANA', 'CHERRY']\n",
      "['APPLE', 'BANANA', 'CHERRY']\n"
     ]
    }
   ],
   "source": [
    "words = [\"apple\",\"banana\",\"cherry\"]\n",
    "l = list(map(str.upper,words))\n",
    "print(l)\n",
    "l = list(map(lambda x:x.upper(),words))\n",
    "print(l)"
   ]
  },
  {
   "cell_type": "code",
   "execution_count": 31,
   "metadata": {},
   "outputs": [
    {
     "name": "stdout",
     "output_type": "stream",
     "text": [
      "['banana', 'cherry', 'orange']\n"
     ]
    }
   ],
   "source": [
    "l = [\"apple\",\"banana\",\"cherry\",\"date\",\"kiwi\",\"orange\"]\n",
    "l1 = list(filter(lambda x:len(x)>5,l))\n",
    "print(l1)"
   ]
  },
  {
   "cell_type": "code",
   "execution_count": 33,
   "metadata": {},
   "outputs": [
    {
     "name": "stdout",
     "output_type": "stream",
     "text": [
      "9996\n"
     ]
    }
   ],
   "source": [
    "min = (lambda x,y:x if x<y else y)\n",
    "print(min(101*99,102*98))"
   ]
  },
  {
   "cell_type": "markdown",
   "metadata": {},
   "source": [
    "### WAP to find no.s divisible by 19 or 13 from list of no.s using lambda fun"
   ]
  },
  {
   "cell_type": "code",
   "execution_count": 37,
   "metadata": {},
   "outputs": [
    {
     "name": "stdout",
     "output_type": "stream",
     "text": [
      "[26, 65, 190]\n"
     ]
    }
   ],
   "source": [
    "l = [10, 26, 54, 65, 84, 190]\n",
    "l1 = list(filter(lambda x:x%13==0 or x%19==0,l))\n",
    "print(l1)"
   ]
  },
  {
   "cell_type": "code",
   "execution_count": 46,
   "metadata": {},
   "outputs": [
    {
     "name": "stdout",
     "output_type": "stream",
     "text": [
      "['date', 'apple', 'cherry', 'banana']\n"
     ]
    }
   ],
   "source": [
    "# tuple,str,list\n",
    "l = [\"apple\",\"cherry\",\"banana\",\"date\"]\n",
    "l1 = sorted(l,key=len)\n",
    "print(l1)"
   ]
  },
  {
   "cell_type": "code",
   "execution_count": 45,
   "metadata": {},
   "outputs": [
    {
     "name": "stdout",
     "output_type": "stream",
     "text": [
      "['banana', 'apple', 'pineaple', 'cherry']\n",
      "['banana', 'apple', 'pineaple', 'cherry']\n"
     ]
    }
   ],
   "source": [
    "a = [\"apple\",\"banana\",\"cherry\",\"pineaple\"]\n",
    "\n",
    "def fun(word):\n",
    "    return word[-1]\n",
    "l = sorted(a,key=fun)\n",
    "print(l)\n",
    "\n",
    "l =  sorted(a,key=lambda word:word[-1]) \n",
    "print(l)"
   ]
  },
  {
   "cell_type": "code",
   "execution_count": 50,
   "metadata": {},
   "outputs": [
    {
     "name": "stdout",
     "output_type": "stream",
     "text": [
      "[(4, 1), (2, 3), (1, 5), (3, 8)]\n"
     ]
    }
   ],
   "source": [
    "l = [(1,5),(2,3),(3,8),(4,1)]\n",
    "l1 = sorted(l,key=lambda x:x[1])\n",
    "print(l1)"
   ]
  },
  {
   "cell_type": "code",
   "execution_count": 49,
   "metadata": {},
   "outputs": [
    {
     "name": "stdout",
     "output_type": "stream",
     "text": [
      "['apple', 'banana', 'cherry']\n"
     ]
    }
   ],
   "source": [
    "# Only for list\n",
    "a = [\"apple\",\"banana\",\"cherry\"]\n",
    "a.sort(key=len)\n",
    "print(a)"
   ]
  },
  {
   "cell_type": "code",
   "execution_count": 51,
   "metadata": {},
   "outputs": [
    {
     "name": "stdout",
     "output_type": "stream",
     "text": [
      "['banana', 'cherry', 'apple']\n"
     ]
    }
   ],
   "source": [
    "l = [(1,3),(2,2),(3,1)]\n",
    "\n",
    "def fun(val):\n",
    "    return val[1]\n",
    "a.sort(key=fun)\n",
    "print(a)"
   ]
  },
  {
   "cell_type": "code",
   "execution_count": 52,
   "metadata": {},
   "outputs": [
    {
     "name": "stdout",
     "output_type": "stream",
     "text": [
      "['banana', 'apple', 'pineaple', 'kiwi']\n"
     ]
    }
   ],
   "source": [
    "a = [\"apple\",\"banana\",\"kiwi\",\"pineaple\"]\n",
    "a.sort(key = lambda x:x[-1])\n",
    "print(a)"
   ]
  },
  {
   "cell_type": "code",
   "execution_count": 56,
   "metadata": {},
   "outputs": [
    {
     "name": "stdout",
     "output_type": "stream",
     "text": [
      "['apple', 'banana', 'cherry', 'orange']\n",
      "['apple', 'banana#cherry#orange']\n",
      "['apple', 'banana', 'cherry#orange']\n",
      "['apple', 'banana', 'cherry', 'orange']\n",
      "['apple', 'banana', 'cherry', 'orange']\n"
     ]
    }
   ],
   "source": [
    "t = \"apple#banana#cherry#orange\"\n",
    "x = t.split(\"#\")\n",
    "print(x)\n",
    "x = t.split(\"#\",1)\n",
    "print(x)\n",
    "x = t.split(\"#\",2)\n",
    "print(x)\n",
    "x = t.split(\"#\",3)\n",
    "print(x)"
   ]
  },
  {
   "cell_type": "markdown",
   "metadata": {},
   "source": [
    "Given a list l of size n. You need to count number of special elements in given list. An element is special if removal of that element makes the list will be balanced. If sum of even index element is equal to sum of odd index element. Also print the updated list after removal of special element."
   ]
  },
  {
   "cell_type": "code",
   "execution_count": 82,
   "metadata": {},
   "outputs": [
    {
     "name": "stdout",
     "output_type": "stream",
     "text": [
      "Index to be removed : 3\n",
      "List after removal of index 3 is : [5, 2, 5, 8]\n",
      "\n",
      "Index to be removed : 3\n",
      "List after removal of index 3 is : [5, 2, 5, 8]\n",
      "\n",
      "Total special element : 2\n"
     ]
    }
   ],
   "source": [
    "l = [5,5,2,5,8]\n",
    "sp=0\n",
    "es,os=0,0\n",
    "\n",
    "for i in range(len(l)):\n",
    "    if i%2==0:\n",
    "        es+=l[i]\n",
    "    else:\n",
    "        os+=l[i]\n",
    "\n",
    "if es!=os:\n",
    "    for i in range(len(l)):\n",
    "        es,os=0,0\n",
    "        l1 = l.copy()\n",
    "        l1.pop(i)\n",
    "        for i in range(len(l1)):\n",
    "            if i%2==0:\n",
    "                es+=l1[i]\n",
    "            else:\n",
    "                os+=l1[i]\n",
    "        if es==os:\n",
    "            sp += 1\n",
    "            print('Index to be removed :',i)\n",
    "            print('List after removal of index',i,\"is :\",l1)\n",
    "            print()\n",
    "    \n",
    "print('Total special element :',sp)"
   ]
  },
  {
   "cell_type": "code",
   "execution_count": null,
   "metadata": {},
   "outputs": [],
   "source": [
    "# print(\"Total special element\",sp)\n",
    "\n",
    "even = list(filter(lambda x:x%2==0,l))\n",
    "odd = list(filter(lambda x:x%2==1,l))"
   ]
  }
 ],
 "metadata": {
  "kernelspec": {
   "display_name": "Python 3",
   "language": "python",
   "name": "python3"
  },
  "language_info": {
   "codemirror_mode": {
    "name": "ipython",
    "version": 3
   },
   "file_extension": ".py",
   "mimetype": "text/x-python",
   "name": "python",
   "nbconvert_exporter": "python",
   "pygments_lexer": "ipython3",
   "version": "3.8.5"
  }
 },
 "nbformat": 4,
 "nbformat_minor": 4
}
