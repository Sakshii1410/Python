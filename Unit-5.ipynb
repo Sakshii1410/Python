{
 "cells": [
  {
   "cell_type": "markdown",
   "metadata": {},
   "source": [
    "# <center><font size=7><b>Unit-5 Mutable Data Structures</b></font></center>\n",
    "\n",
    "#### Mutable data structures are those whose state can be modified as per our need.<br><br><b>Example:<br> list, dictionary, Sets.\n",
    "\n"
   ]
  },
  {
   "cell_type": "markdown",
   "metadata": {},
   "source": [
    "# <b Style='color:#e80538'>List\n",
    "\n",
    "- List is dynamic because based on our requirement we can increase and decrease the size.\n",
    "- Square brackets and with comma separator"
   ]
  },
  {
   "cell_type": "code",
   "execution_count": 15,
   "metadata": {},
   "outputs": [
    {
     "name": "stdin",
     "output_type": "stream",
     "text": [
      "Enter List:  [\"S\",\"P\"]\n"
     ]
    },
    {
     "name": "stdout",
     "output_type": "stream",
     "text": [
      "['S', 'P']\n"
     ]
    }
   ],
   "source": [
    "l = eval(input(\"Enter List: \"))\n",
    "print(l)"
   ]
  },
  {
   "cell_type": "markdown",
   "metadata": {},
   "source": [
    "## <b Style='color:#4A89DC'><u>List Mutability\n"
   ]
  },
  {
   "cell_type": "code",
   "execution_count": 9,
   "metadata": {},
   "outputs": [
    {
     "name": "stdout",
     "output_type": "stream",
     "text": [
      "[1, 10, 10, 0, 3, 0]\n"
     ]
    }
   ],
   "source": [
    "l=[1,10,2,0,3,0]\n",
    "l[2] =10\n",
    "print(l)"
   ]
  },
  {
   "cell_type": "markdown",
   "metadata": {},
   "source": [
    "## <b Style='color:#4A89DC'><u>Accessing elements of list\n",
    "### 1. by using <b>Index</b>"
   ]
  },
  {
   "cell_type": "code",
   "execution_count": 2,
   "metadata": {},
   "outputs": [
    {
     "name": "stdout",
     "output_type": "stream",
     "text": [
      "10\n",
      "40\n"
     ]
    }
   ],
   "source": [
    "list = [10, 20, 30, 40]\n",
    "print(list[0])\n",
    "print(list[-1])\n",
    "# print(list[10]) #IndexError: list index out of range"
   ]
  },
  {
   "cell_type": "markdown",
   "metadata": {},
   "source": [
    "### 2. by using <b>Slicing operator</b>"
   ]
  },
  {
   "cell_type": "code",
   "execution_count": 25,
   "metadata": {},
   "outputs": [
    {
     "name": "stdout",
     "output_type": "stream",
     "text": [
      "[2, 4, 6]\n",
      "[4, 6, 8]\n",
      "[3, 4, 5, 6]\n",
      "[8, 6, 4]\n",
      "[4, 5, 6, 7, 8, 9]\n"
     ]
    }
   ],
   "source": [
    "n=[0,1,2,3,4,5,6,7,8,9]\n",
    "print(n[2:7:2])\n",
    "print(n[4::2])\n",
    "print(n[3:7])\n",
    "print(n[8:2:-2])\n",
    "print(n[4:100])"
   ]
  },
  {
   "cell_type": "markdown",
   "metadata": {},
   "source": [
    "## <b Style='color:#4A89DC'><u>Important Functions of List\n",
    "\n",
    "### <b>1. len()"
   ]
  },
  {
   "cell_type": "code",
   "execution_count": 16,
   "metadata": {},
   "outputs": [
    {
     "name": "stdout",
     "output_type": "stream",
     "text": [
      "8\n"
     ]
    }
   ],
   "source": [
    "n =[10,20,30,20,50,60,70,80]\n",
    "print(len(n))"
   ]
  },
  {
   "cell_type": "markdown",
   "metadata": {},
   "source": [
    "### <b>2. count()"
   ]
  },
  {
   "cell_type": "code",
   "execution_count": 7,
   "metadata": {},
   "outputs": [
    {
     "name": "stdout",
     "output_type": "stream",
     "text": [
      "2\n"
     ]
    }
   ],
   "source": [
    "print(n.count(20))"
   ]
  },
  {
   "cell_type": "markdown",
   "metadata": {},
   "source": [
    "### <b>3. index()"
   ]
  },
  {
   "cell_type": "code",
   "execution_count": 8,
   "metadata": {},
   "outputs": [
    {
     "name": "stdout",
     "output_type": "stream",
     "text": [
      "1\n"
     ]
    }
   ],
   "source": [
    "print(n.index(20))\n",
    "# print(n.index(90)) ValueError: 90 is not in list"
   ]
  },
  {
   "cell_type": "markdown",
   "metadata": {},
   "source": [
    "### <b>4. append()"
   ]
  },
  {
   "cell_type": "code",
   "execution_count": 27,
   "metadata": {},
   "outputs": [
    {
     "name": "stdout",
     "output_type": "stream",
     "text": [
      "['S', 'P', 'A', 'B', 'C']\n"
     ]
    }
   ],
   "source": [
    "l =[\"S\", \"P\"]\n",
    "l.append(\"A\")\n",
    "l.append(\"B\")\n",
    "l.append(\"C\")\n",
    "\n",
    "print(l)"
   ]
  },
  {
   "cell_type": "markdown",
   "metadata": {},
   "source": [
    "### <b>5. insert()"
   ]
  },
  {
   "cell_type": "code",
   "execution_count": 20,
   "metadata": {},
   "outputs": [
    {
     "name": "stdout",
     "output_type": "stream",
     "text": [
      "['S', 'a', 'P', 'b']\n"
     ]
    }
   ],
   "source": [
    "l =[\"S\", \"P\"]\n",
    "l.insert(-1,\"a\") # second last insert \n",
    "l.insert(7,\"b\")\n",
    "print(l)"
   ]
  },
  {
   "cell_type": "markdown",
   "metadata": {},
   "source": [
    "### <b>6. extend()"
   ]
  },
  {
   "cell_type": "code",
   "execution_count": 31,
   "metadata": {},
   "outputs": [
    {
     "name": "stdout",
     "output_type": "stream",
     "text": [
      "['Apple', 'Mango', 'Banana']\n",
      "['Banana', 'Apple', 'Mango', 'Banana']\n"
     ]
    }
   ],
   "source": [
    "l1 = ['Apple',\"Mango\"]\n",
    "l2 = ['Banana']\n",
    "\n",
    "l1.extend(l2)\n",
    "l2.extend(l1)\n",
    "\n",
    "print(l1)\n",
    "print(l2)"
   ]
  },
  {
   "cell_type": "markdown",
   "metadata": {},
   "source": [
    "### <b>7. remove(value)"
   ]
  },
  {
   "cell_type": "code",
   "execution_count": 36,
   "metadata": {},
   "outputs": [
    {
     "name": "stdout",
     "output_type": "stream",
     "text": [
      "[10, 30, 20, 50, 60, 70, 80]\n"
     ]
    }
   ],
   "source": [
    "l=[10,20,30,20,50,60,70,80]\n",
    "l.remove(20) \n",
    "# l.remove(90) #ValueError: list.remove(x): x not in list\n",
    "print(l)"
   ]
  },
  {
   "cell_type": "markdown",
   "metadata": {},
   "source": [
    "### <b>8. pop()"
   ]
  },
  {
   "cell_type": "code",
   "execution_count": 38,
   "metadata": {},
   "outputs": [
    {
     "name": "stdout",
     "output_type": "stream",
     "text": [
      "50\n",
      "20\n",
      "[10, 30, 40]\n"
     ]
    }
   ],
   "source": [
    "n = [10,20,30,40,50]\n",
    "print(n.pop()) \n",
    "print(n.pop(1))\n",
    "# print(n.pop(10)) # IndexError: pop index out of range\n",
    "print(n)"
   ]
  },
  {
   "cell_type": "code",
   "execution_count": 39,
   "metadata": {},
   "outputs": [
    {
     "ename": "IndexError",
     "evalue": "pop from empty list",
     "output_type": "error",
     "traceback": [
      "\u001b[1;31m---------------------------------------------------------------------------\u001b[0m",
      "\u001b[1;31mIndexError\u001b[0m                                Traceback (most recent call last)",
      "Cell \u001b[1;32mIn[39], line 2\u001b[0m\n\u001b[0;32m      1\u001b[0m y\u001b[38;5;241m=\u001b[39m[]\n\u001b[1;32m----> 2\u001b[0m \u001b[38;5;28mprint\u001b[39m(\u001b[43my\u001b[49m\u001b[38;5;241;43m.\u001b[39;49m\u001b[43mpop\u001b[49m\u001b[43m(\u001b[49m\u001b[43m)\u001b[49m)\n",
      "\u001b[1;31mIndexError\u001b[0m: pop from empty list"
     ]
    }
   ],
   "source": [
    "y=[]\n",
    "print(y.pop())"
   ]
  },
  {
   "cell_type": "markdown",
   "metadata": {},
   "source": [
    "### <b>9. clear()"
   ]
  },
  {
   "cell_type": "code",
   "execution_count": 22,
   "metadata": {},
   "outputs": [
    {
     "name": "stdout",
     "output_type": "stream",
     "text": [
      "[]\n"
     ]
    }
   ],
   "source": [
    "n = [1,2,3,4,5]\n",
    "n.clear()\n",
    "print(n)"
   ]
  },
  {
   "cell_type": "markdown",
   "metadata": {},
   "source": [
    "### <b>10. reverse()"
   ]
  },
  {
   "cell_type": "code",
   "execution_count": 13,
   "metadata": {},
   "outputs": [
    {
     "name": "stdout",
     "output_type": "stream",
     "text": [
      "[2, 4, 5, 3, 1]\n"
     ]
    }
   ],
   "source": [
    "n = [1,3,5,4,2]\n",
    "n.reverse()\n",
    "print(n)"
   ]
  },
  {
   "cell_type": "markdown",
   "metadata": {},
   "source": [
    "### <b>11. sort()"
   ]
  },
  {
   "cell_type": "code",
   "execution_count": 12,
   "metadata": {},
   "outputs": [
    {
     "name": "stdout",
     "output_type": "stream",
     "text": [
      "[0, 1, 2, 5, 15]\n",
      "[15, 5, 2, 1, 0]\n"
     ]
    }
   ],
   "source": [
    "n = [2,5,1,15,0]\n",
    "n.sort()\n",
    "print(n)\n",
    "\n",
    "n.sort(reverse=True)\n",
    "print(n)"
   ]
  },
  {
   "cell_type": "code",
   "execution_count": 14,
   "metadata": {},
   "outputs": [
    {
     "name": "stdout",
     "output_type": "stream",
     "text": [
      "['A', 'B', 'C', 'D']\n"
     ]
    }
   ],
   "source": [
    "x = [\"D\",\"A\",\"B\",\"C\"]\n",
    "x.sort()\n",
    "print(x)"
   ]
  },
  {
   "cell_type": "markdown",
   "metadata": {},
   "source": [
    "## <b Style='color:#4A89DC'><u>Mathematical Operators for List\n",
    "\n",
    "    + - concatenation\n",
    "    * - Repetition"
   ]
  },
  {
   "cell_type": "code",
   "execution_count": 40,
   "metadata": {},
   "outputs": [
    {
     "name": "stdout",
     "output_type": "stream",
     "text": [
      "[1, 2, 3, 4, 5, 6]\n",
      "[1, 2, 3, 4]\n",
      "[1, 2, 3, 1, 2, 3, 1, 2, 3]\n"
     ]
    }
   ],
   "source": [
    "a = [1,2,3]\n",
    "b = [4,5,6]\n",
    "print(a+b)\n",
    "print(a+[4])\n",
    "# print(a+4) # TypeError: can only concatenate list (not \"int\") to list\n",
    "print(a*3)"
   ]
  },
  {
   "cell_type": "markdown",
   "metadata": {},
   "source": [
    "## <b Style='color:#4A89DC'><u>Comparison operators for List"
   ]
  },
  {
   "cell_type": "code",
   "execution_count": 21,
   "metadata": {},
   "outputs": [
    {
     "name": "stdout",
     "output_type": "stream",
     "text": [
      "True\n",
      "False\n",
      "True\n"
     ]
    }
   ],
   "source": [
    "x = [\"Dog\",\"Cat\",\"Rat\"]\n",
    "y = [\"Dog\",\"Cat\",\"Rat\"]\n",
    "z = [\"DOG\",\"CAT\",\"RAT\"]\n",
    "\n",
    "print(x==y)\n",
    "print(x==z)\n",
    "print(x!=z)"
   ]
  },
  {
   "cell_type": "code",
   "execution_count": 43,
   "metadata": {},
   "outputs": [
    {
     "name": "stdout",
     "output_type": "stream",
     "text": [
      "False\n",
      "False\n",
      "True\n",
      "True\n"
     ]
    }
   ],
   "source": [
    "x = [\"Dog\",\"Cat\",\"Rat\"]\n",
    "y = [\"Dog\",\"Rat\",\"Cat\"] \n",
    "\n",
    "print(x>y)\n",
    "print(x>=y)\n",
    "print(x<y)\n",
    "print(x<=y)"
   ]
  },
  {
   "cell_type": "code",
   "execution_count": 23,
   "metadata": {},
   "outputs": [
    {
     "name": "stdout",
     "output_type": "stream",
     "text": [
      "False\n",
      "False\n",
      "True\n",
      "True\n"
     ]
    }
   ],
   "source": [
    "x = [50,20,30]\n",
    "y = [50,20,30,60,100,200]\n",
    "\n",
    "print(x>y)\n",
    "print(x>=y)\n",
    "print(x<y)\n",
    "print(x<=y)"
   ]
  },
  {
   "cell_type": "markdown",
   "metadata": {},
   "source": [
    "## <b Style='color:#4A89DC'><u>Membership operators for List\n",
    "\n",
    "1. in\n",
    "2. not in"
   ]
  },
  {
   "cell_type": "code",
   "execution_count": 27,
   "metadata": {},
   "outputs": [
    {
     "name": "stdout",
     "output_type": "stream",
     "text": [
      "True\n",
      "False\n",
      "False\n"
     ]
    }
   ],
   "source": [
    "l = [10,20,30,40]\n",
    "print(10 in l)\n",
    "print(40 not in l)\n",
    "print(50 in l)"
   ]
  },
  {
   "cell_type": "markdown",
   "metadata": {},
   "source": [
    "### <b Style='color:#4A89DC'><u>Aliasing of list"
   ]
  },
  {
   "cell_type": "code",
   "execution_count": 45,
   "metadata": {},
   "outputs": [
    {
     "name": "stdout",
     "output_type": "stream",
     "text": [
      "[10, 20, 100, 40, 50]\n",
      "[10, 20, 100, 40, 50]\n"
     ]
    }
   ],
   "source": [
    "l = [10,20,30,40,50]\n",
    "x=l \n",
    "x[2] = 100\n",
    "print(x)\n",
    "print(l)"
   ]
  },
  {
   "cell_type": "markdown",
   "metadata": {},
   "source": [
    "### <b Style='color:#4A89DC'><u>Cloning of list"
   ]
  },
  {
   "cell_type": "code",
   "execution_count": 47,
   "metadata": {},
   "outputs": [
    {
     "name": "stdout",
     "output_type": "stream",
     "text": [
      "[10, 20, 100, 40, 50]\n",
      "[10, 20, 30, 40, 50]\n"
     ]
    }
   ],
   "source": [
    "l = [10,20,30,40,50]\n",
    "x = l[:] # or l.copy()\n",
    "x[2] = 100\n",
    "print(x)\n",
    "print(l)"
   ]
  },
  {
   "cell_type": "markdown",
   "metadata": {},
   "source": [
    "## <b Style='color:#4A89DC'><u>Nested List"
   ]
  },
  {
   "cell_type": "code",
   "execution_count": 49,
   "metadata": {},
   "outputs": [
    {
     "name": "stdout",
     "output_type": "stream",
     "text": [
      "10\n",
      "[40, 20]\n",
      "80\n"
     ]
    }
   ],
   "source": [
    "n = [10,20,30,[40,20],[60,70,80]]\n",
    "print(n[0])\n",
    "print(n[3])\n",
    "print(n[4][2])"
   ]
  },
  {
   "cell_type": "code",
   "execution_count": 50,
   "metadata": {},
   "outputs": [
    {
     "name": "stdout",
     "output_type": "stream",
     "text": [
      "200\n"
     ]
    }
   ],
   "source": [
    "n = [10,20,30,[40,20],[60,70,80,[100,200]]]\n",
    "print(n[4][3][1])"
   ]
  },
  {
   "cell_type": "markdown",
   "metadata": {},
   "source": [
    "#### Nested list as matrix"
   ]
  },
  {
   "cell_type": "code",
   "execution_count": 51,
   "metadata": {},
   "outputs": [
    {
     "name": "stdout",
     "output_type": "stream",
     "text": [
      "10 20 30 \n",
      "40 50 60 \n",
      "70 80 90 \n"
     ]
    }
   ],
   "source": [
    "n = [[10,20,30],[40,50,60],[70,80,90]]\n",
    "\n",
    "for i in n:\n",
    "    for j in i:\n",
    "        print(j,end=\" \")\n",
    "    print()"
   ]
  },
  {
   "cell_type": "code",
   "execution_count": 53,
   "metadata": {},
   "outputs": [
    {
     "name": "stdout",
     "output_type": "stream",
     "text": [
      "[1, 4, 7]\n",
      "[2, 5, 8]\n",
      "[3, 6, 9]\n"
     ]
    }
   ],
   "source": [
    "n = [[1,2,3],[4,5,6],[7,8,9]]\n",
    "\n",
    "for i in range(len(n[0])): \n",
    "    new = [row[i] for row in n]\n",
    "    print(new)"
   ]
  },
  {
   "cell_type": "markdown",
   "metadata": {},
   "source": [
    "## <b Style='color:#4A89DC'><u>List Comprehension\n",
    "\n",
    "    Syntax: l = [expression for item in list if condition]"
   ]
  },
  {
   "cell_type": "code",
   "execution_count": 54,
   "metadata": {},
   "outputs": [
    {
     "name": "stdout",
     "output_type": "stream",
     "text": [
      "[1, 4, 9, 16, 25, 36, 49, 64, 81, 100]\n",
      "[2, 4, 8, 16, 32]\n",
      "[4, 16, 36, 64, 100]\n"
     ]
    }
   ],
   "source": [
    "s = [x*x for x in range(1,11)]\n",
    "print(s)\n",
    "v = [2**x for x in range(1,6)]\n",
    "print(v)\n",
    "m = [x for x in s if x%2==0]\n",
    "print(m)"
   ]
  },
  {
   "cell_type": "markdown",
   "metadata": {},
   "source": [
    "#### <b><span style='color:orange'>Task-1: </span>WAP to print element with frequency greater than a given value of key"
   ]
  },
  {
   "cell_type": "code",
   "execution_count": 59,
   "metadata": {},
   "outputs": [
    {
     "name": "stdout",
     "output_type": "stream",
     "text": [
      "[1, 2, 5]\n"
     ]
    }
   ],
   "source": [
    "l = [1,1,1,1,2,2,2,2,3,3,5,5,5,6,7]\n",
    "n = []\n",
    "k = 2\n",
    "\n",
    "for i in l:\n",
    "    if l.count(i)>k and i not in n:\n",
    "        n.append(i)\n",
    "        \n",
    "print(n)"
   ]
  },
  {
   "cell_type": "markdown",
   "metadata": {},
   "source": [
    "# <b Style='color:#e80538'>Dictionary\n",
    "\n",
    "- Represent a group of object as key-value pairs <br>\n",
    "  Ex. rollno-name\n",
    "- Duplicate keys not allowed but values can be duplicated.\n",
    "- Heterogeneous object are allowed for both key and values.\n",
    "- Insertion Order not preserved.\n",
    "- Mutable\n",
    "- Index and slicing concepts are not applicable.<br>\n",
    "Eg. d = {10: \"Lucky\", 20: \"Arman\", 30: \"Aryan\"}"
   ]
  },
  {
   "cell_type": "code",
   "execution_count": 63,
   "metadata": {},
   "outputs": [
    {
     "name": "stdout",
     "output_type": "stream",
     "text": [
      "<class 'dict'>\n",
      "<class 'set'>\n",
      "{10: 'Arman', 20: 'Aryan', 30: 'Lucky'}\n"
     ]
    }
   ],
   "source": [
    "d = {} # dict()\n",
    "print(type(d))\n",
    "\n",
    "s = set()\n",
    "print(type(s))\n",
    "\n",
    "d[10] = \"Arman\"\n",
    "d[20] = \"Aryan\"\n",
    "d[30] = \"Lucky\"\n",
    "print(d)"
   ]
  },
  {
   "cell_type": "code",
   "execution_count": 73,
   "metadata": {},
   "outputs": [
    {
     "name": "stdout",
     "output_type": "stream",
     "text": [
      "Arman\n",
      "{10: 'Arman', 20: 'Aryan', 30: 'Lucky', 40: 'Sumit'}\n",
      "{10: 'Sachin', 20: 'Aryan', 30: 'Lucky', 40: 'Sumit'}\n",
      "{10: 'Sachin', 20: 'Aryan', 30: 'Lucky'}\n",
      "{}\n"
     ]
    }
   ],
   "source": [
    "d = {10: 'Arman', 20: 'Aryan', 30: 'Lucky'}\n",
    "print(d[10])\n",
    "# print(d[40]) # KeyError: 40\n",
    "\n",
    "d[40] = \"Sumit\"\n",
    "print(d)\n",
    "\n",
    "d[10] = \"Sachin\"\n",
    "print(d)\n",
    "\n",
    "del d[40] # if not present then KeyError\n",
    "print(d)\n",
    "\n",
    "d.clear()\n",
    "print(d)\n",
    "\n",
    "del d\n",
    "# print(d) # NameError: name 'd' is not defined"
   ]
  },
  {
   "cell_type": "markdown",
   "metadata": {},
   "source": [
    "## <b Style='color:#4A89DC'><u>Dictionary Comprehension"
   ]
  },
  {
   "cell_type": "code",
   "execution_count": 74,
   "metadata": {},
   "outputs": [
    {
     "name": "stdout",
     "output_type": "stream",
     "text": [
      "{1: 1, 2: 4, 3: 9, 4: 16, 5: 25}\n"
     ]
    }
   ],
   "source": [
    "square = {x:x*x for x in range(1,6)}\n",
    "print(square)"
   ]
  },
  {
   "cell_type": "markdown",
   "metadata": {},
   "source": [
    "## <b Style='color:#4A89DC'><u>Important Functions of Dictionary \n",
    "\n",
    "### <b>1. dict()\n"
   ]
  },
  {
   "cell_type": "code",
   "execution_count": 62,
   "metadata": {},
   "outputs": [
    {
     "name": "stdout",
     "output_type": "stream",
     "text": [
      "{10: 'Lucky', 20: 'Arman', 30: 'Aryan'}\n"
     ]
    }
   ],
   "source": [
    "s = dict([(10,\"Lucky\"),(20,\"Arman\"),(30,\"Aryan\")])\n",
    "print(s)"
   ]
  },
  {
   "cell_type": "markdown",
   "metadata": {},
   "source": [
    "### <b>2. len()"
   ]
  },
  {
   "cell_type": "code",
   "execution_count": 63,
   "metadata": {},
   "outputs": [
    {
     "name": "stdout",
     "output_type": "stream",
     "text": [
      "5\n"
     ]
    }
   ],
   "source": [
    "l = {1: 1, 2: 4, 3: 9, 4: 16, 5: 25}\n",
    "print(len(l))"
   ]
  },
  {
   "cell_type": "markdown",
   "metadata": {},
   "source": [
    "### <b>3. clear()"
   ]
  },
  {
   "cell_type": "code",
   "execution_count": 64,
   "metadata": {},
   "outputs": [
    {
     "name": "stdout",
     "output_type": "stream",
     "text": [
      "{}\n"
     ]
    }
   ],
   "source": [
    "s.clear()\n",
    "print(s)"
   ]
  },
  {
   "cell_type": "markdown",
   "metadata": {},
   "source": [
    "### <b>4. copy()"
   ]
  },
  {
   "cell_type": "code",
   "execution_count": 65,
   "metadata": {},
   "outputs": [
    {
     "name": "stdout",
     "output_type": "stream",
     "text": [
      "{1: 1, 2: 4, 3: 9, 4: 16, 5: 25}\n",
      "{1: 50, 2: 4, 3: 9, 4: 16, 5: 25}\n"
     ]
    }
   ],
   "source": [
    "x = l.copy()\n",
    "x[1] = 50\n",
    "print(l)\n",
    "print(x)"
   ]
  },
  {
   "cell_type": "markdown",
   "metadata": {},
   "source": [
    "### <b>5. update()"
   ]
  },
  {
   "cell_type": "code",
   "execution_count": 80,
   "metadata": {},
   "outputs": [
    {
     "name": "stdout",
     "output_type": "stream",
     "text": [
      "{10: 50, 30: 40, 50: 60, 200: 40, 300: 600}\n"
     ]
    }
   ],
   "source": [
    "d = {10:20,30:40,50:60}\n",
    "x = {10:50,200:40,300:600}\n",
    "d.update(x)\n",
    "print(d)"
   ]
  },
  {
   "cell_type": "markdown",
   "metadata": {},
   "source": [
    "### <b>6. get()"
   ]
  },
  {
   "cell_type": "code",
   "execution_count": 82,
   "metadata": {},
   "outputs": [
    {
     "name": "stdout",
     "output_type": "stream",
     "text": [
      "Arman\n",
      "Arman\n",
      "None\n",
      "Arman\n",
      "Guest\n"
     ]
    }
   ],
   "source": [
    "d = {10: 'Arman', 20: 'Aryan', 30: 'Lucky'}\n",
    "print(d[10])\n",
    "print(d.get(10))\n",
    "print(d.get(40))\n",
    "\n",
    "print(d.get(10,\"Guest\"))\n",
    "print(d.get(40,\"Guest\"))"
   ]
  },
  {
   "cell_type": "markdown",
   "metadata": {},
   "source": [
    "### <B>7. popitem()"
   ]
  },
  {
   "cell_type": "code",
   "execution_count": 27,
   "metadata": {},
   "outputs": [
    {
     "name": "stdout",
     "output_type": "stream",
     "text": [
      "(30, 'Lucky')\n",
      "{10: 'Arman', 20: 'Aryan'}\n"
     ]
    }
   ],
   "source": [
    "d = {10: 'Arman', 20: 'Aryan', 30: 'Lucky'}\n",
    "print(d.popitem())\n",
    "print(d)\n",
    "\n",
    "d = {}\n",
    "# print(d.popitem()) # KeyError: 'popitem(): dictionary is empty'"
   ]
  },
  {
   "cell_type": "markdown",
   "metadata": {},
   "source": [
    "### <b>8. keys()"
   ]
  },
  {
   "cell_type": "code",
   "execution_count": 69,
   "metadata": {},
   "outputs": [
    {
     "name": "stdout",
     "output_type": "stream",
     "text": [
      "dict_keys([10, 20, 30])\n",
      "10 20 30 \n"
     ]
    }
   ],
   "source": [
    "d = {10: 'Arman', 20: 'Aryan', 30: 'Lucky'}\n",
    "print(d.keys())\n",
    "\n",
    "for i in d.keys():\n",
    "    print(i,end=\" \")\n",
    "print()"
   ]
  },
  {
   "cell_type": "markdown",
   "metadata": {},
   "source": [
    "### <B>9. values()"
   ]
  },
  {
   "cell_type": "code",
   "execution_count": 70,
   "metadata": {},
   "outputs": [
    {
     "name": "stdout",
     "output_type": "stream",
     "text": [
      "dict_values(['Arman', 'Aryan', 'Lucky'])\n",
      "Arman Aryan Lucky \n"
     ]
    }
   ],
   "source": [
    "print(d.values())\n",
    "\n",
    "for i in d.values():\n",
    "    print(i,end=\" \")\n",
    "print()"
   ]
  },
  {
   "cell_type": "markdown",
   "metadata": {},
   "source": [
    "### <B>10. items()"
   ]
  },
  {
   "cell_type": "code",
   "execution_count": 72,
   "metadata": {},
   "outputs": [
    {
     "name": "stdout",
     "output_type": "stream",
     "text": [
      "dict_items([(10, 'Arman'), (20, 'Aryan'), (30, 'Lucky')])\n",
      "\n",
      "10 - Arman  20 - Aryan  30 - Lucky  "
     ]
    }
   ],
   "source": [
    "print(d.items())\n",
    "print()\n",
    "\n",
    "for i,j in d.items():\n",
    "    print(i,\"-\",j,end=\"  \")"
   ]
  },
  {
   "cell_type": "markdown",
   "metadata": {},
   "source": [
    "### <b>11. setdefault()"
   ]
  },
  {
   "cell_type": "code",
   "execution_count": 89,
   "metadata": {},
   "outputs": [
    {
     "name": "stdout",
     "output_type": "stream",
     "text": [
      "Pavan\n",
      "{10: 'Arman', 20: 'Aryan', 30: 'Lucky', 40: 'Pavan'}\n",
      "Arman\n",
      "{10: 'Arman', 20: 'Aryan', 30: 'Lucky', 40: 'Pavan'}\n"
     ]
    }
   ],
   "source": [
    "d = {10: 'Arman', 20: 'Aryan', 30: 'Lucky'}\n",
    "print(d.setdefault(40,\"Pavan\"))\n",
    "print(d)\n",
    "print(d.setdefault(10,\"Sachin\"))\n",
    "print(d)"
   ]
  },
  {
   "cell_type": "markdown",
   "metadata": {},
   "source": [
    "#### <b><span style='color:orange'>Task-2: </span>WAP that stores words from paragraph as keys in dictionary and count of frequency as value"
   ]
  },
  {
   "cell_type": "code",
   "execution_count": 73,
   "metadata": {},
   "outputs": [
    {
     "name": "stdout",
     "output_type": "stream",
     "text": [
      "{'dog': 2, 'the': 2, 'quick': 1, 'brown': 1, 'fox': 1, 'jumps': 1, 'over': 1, 'lazy': 1}\n"
     ]
    }
   ],
   "source": [
    "s = \"Dog the quick brown fox jumps over the lazy dog\".lower()\n",
    "d = {}\n",
    "\n",
    "for i in s.split():\n",
    "    d[i] = s.count(i)\n",
    "print(d)"
   ]
  },
  {
   "cell_type": "markdown",
   "metadata": {},
   "source": [
    "#### <b><span style='color:orange'>Task-3: </span>WAP to create a dictionary with the key as first character and value as a list of words starting with that character"
   ]
  },
  {
   "cell_type": "code",
   "execution_count": 74,
   "metadata": {},
   "outputs": [
    {
     "name": "stdout",
     "output_type": "stream",
     "text": [
      "{'D': [\"Don't\"], 'w': ['wait'], 'f': ['for', 'feelings'], 'y': ['your'], 't': ['to', 'to', 'take', 'the'], 'c': ['change'], 'a': ['action']}\n"
     ]
    }
   ],
   "source": [
    "s = \"Don't wait for your feelings to change to take the action\"\n",
    "words = s.split()\n",
    "d = {}\n",
    "\n",
    "for i in words:\n",
    "    temp=[]\n",
    "    for j in words:\n",
    "        if j[0]==i[0]:\n",
    "            temp.append(j)\n",
    "    d[i[0]]=temp\n",
    "    \n",
    "print(d)"
   ]
  },
  {
   "cell_type": "code",
   "execution_count": 75,
   "metadata": {},
   "outputs": [
    {
     "name": "stdout",
     "output_type": "stream",
     "text": [
      "{'D': [\"Don't\"], 'w': ['wait'], 'f': ['for', 'feelings'], 'y': ['your'], 't': ['to', 'to', 'take', 'the'], 'c': ['change'], 'a': ['action']}\n"
     ]
    }
   ],
   "source": [
    "s = \"Don't wait for your feelings to change to take the action\"\n",
    "words = s.split()\n",
    "d = {}\n",
    "\n",
    "for word in words:\n",
    "    key = word[0]\n",
    "    if key in d:\n",
    "        d[key].append(word)\n",
    "    else:\n",
    "        d[key] = [word]\n",
    "print(d)"
   ]
  },
  {
   "cell_type": "markdown",
   "metadata": {},
   "source": [
    "# <b Style='color:#e80538'>Set\n",
    "\n",
    "- Represent a group of unique values as a single entity.\n",
    "- Duplicates are not allowed.\n",
    "- Insertion order is not preseved.\n",
    "- Indexing and Slicing not allowed.\n",
    "- Heterogeneous elements allowed.\n",
    "- Mutable\n",
    "- Curly braces with comma separator\n",
    "- Mathematical operations like union, intersection, difference etc..."
   ]
  },
  {
   "cell_type": "code",
   "execution_count": 30,
   "metadata": {},
   "outputs": [
    {
     "name": "stdout",
     "output_type": "stream",
     "text": [
      "{1, 2, 3, 4, 5, 6}\n",
      "<class 'set'>\n",
      "{1, 4, 7, 8, 10, 20, 22, 24, 25, 26, 28}\n"
     ]
    }
   ],
   "source": [
    "s = {4,2,3,3,4,4,4,1,2,5,5,6}\n",
    "print(s)\n",
    "print(type(s))\n",
    "\n",
    "s = {20,25,1,4,4,7,8,10,10,22,24,26,28}\n",
    "print(s)"
   ]
  },
  {
   "cell_type": "code",
   "execution_count": 16,
   "metadata": {},
   "outputs": [
    {
     "name": "stdout",
     "output_type": "stream",
     "text": [
      "{1, 2, 3, 4, 5, 6}\n"
     ]
    }
   ],
   "source": [
    "s = set()\n",
    "l = [1,3,6,4,5,2]\n",
    "s = set(l)\n",
    "print(s)"
   ]
  },
  {
   "cell_type": "code",
   "execution_count": 18,
   "metadata": {},
   "outputs": [
    {
     "name": "stdout",
     "output_type": "stream",
     "text": [
      "{'L', 'I', 'J', 'T', 'E'}\n"
     ]
    }
   ],
   "source": [
    "x = 'LJIET'\n",
    "s = set(x)\n",
    "print(s)"
   ]
  },
  {
   "cell_type": "code",
   "execution_count": 19,
   "metadata": {},
   "outputs": [
    {
     "name": "stdout",
     "output_type": "stream",
     "text": [
      "{1, 2, 3, 4, 5}\n"
     ]
    }
   ],
   "source": [
    "y = range(1,6)\n",
    "s = set(y)\n",
    "print(s)"
   ]
  },
  {
   "cell_type": "code",
   "execution_count": 20,
   "metadata": {},
   "outputs": [
    {
     "name": "stdout",
     "output_type": "stream",
     "text": [
      "{40, 10, 20, 30}\n"
     ]
    }
   ],
   "source": [
    "l = [10,20,30,40,10,20,30]\n",
    "print(set(l))"
   ]
  },
  {
   "cell_type": "markdown",
   "metadata": {},
   "source": [
    "## <b Style='color:#4A89DC'><u>Mathematical Operations on Set\n",
    "\n",
    "### <b>1. union()"
   ]
  },
  {
   "cell_type": "code",
   "execution_count": 23,
   "metadata": {},
   "outputs": [
    {
     "name": "stdout",
     "output_type": "stream",
     "text": [
      "{40, 10, 50, 20, 60, 30}\n",
      "{40, 10, 50, 20, 60, 30}\n",
      "{40, 10, 50, 20, 60, 30}\n"
     ]
    }
   ],
   "source": [
    "x = {10,20,30,40}\n",
    "y = {30,40,50,60}\n",
    "print(x.union(y))\n",
    "print(x | y)\n",
    "print(y.union(x))"
   ]
  },
  {
   "cell_type": "markdown",
   "metadata": {},
   "source": [
    "### <b>2. intersection()"
   ]
  },
  {
   "cell_type": "code",
   "execution_count": 26,
   "metadata": {},
   "outputs": [
    {
     "name": "stdout",
     "output_type": "stream",
     "text": [
      "{40, 30}\n",
      "{40, 30}\n"
     ]
    }
   ],
   "source": [
    "print(x.intersection(y))\n",
    "print(x & y)"
   ]
  },
  {
   "cell_type": "markdown",
   "metadata": {},
   "source": [
    "### <B>3. difference()"
   ]
  },
  {
   "cell_type": "code",
   "execution_count": 28,
   "metadata": {},
   "outputs": [
    {
     "name": "stdout",
     "output_type": "stream",
     "text": [
      "{10, 20}\n",
      "{10, 20}\n",
      "\n",
      "{50, 60}\n",
      "{50, 60}\n"
     ]
    }
   ],
   "source": [
    "print(x.difference(y))\n",
    "print(x - y)\n",
    "print()\n",
    "\n",
    "print(y.difference(x))\n",
    "print(y - x)"
   ]
  },
  {
   "cell_type": "markdown",
   "metadata": {},
   "source": [
    "### <b>4. symmetric_difference()"
   ]
  },
  {
   "cell_type": "code",
   "execution_count": 29,
   "metadata": {},
   "outputs": [
    {
     "name": "stdout",
     "output_type": "stream",
     "text": [
      "{10, 50, 20, 60}\n",
      "{10, 50, 20, 60}\n"
     ]
    }
   ],
   "source": [
    "print(x.symmetric_difference(y))\n",
    "print(x^y)"
   ]
  },
  {
   "cell_type": "markdown",
   "metadata": {},
   "source": [
    "### <b>5. issubset()"
   ]
  },
  {
   "cell_type": "code",
   "execution_count": 79,
   "metadata": {},
   "outputs": [
    {
     "name": "stdout",
     "output_type": "stream",
     "text": [
      "True\n"
     ]
    }
   ],
   "source": [
    "x = {'a','b','c'}\n",
    "y = {'f','e','d','c','b','a'}\n",
    "\n",
    "print(x.issubset(y))"
   ]
  },
  {
   "cell_type": "markdown",
   "metadata": {},
   "source": [
    "### <b>6. issuperset()"
   ]
  },
  {
   "cell_type": "code",
   "execution_count": 80,
   "metadata": {},
   "outputs": [
    {
     "name": "stdout",
     "output_type": "stream",
     "text": [
      "True\n"
     ]
    }
   ],
   "source": [
    "print(y.issuperset(x))"
   ]
  },
  {
   "cell_type": "markdown",
   "metadata": {},
   "source": [
    "## <b Style='color:#4A89DC'><U>Membership Operator in set\n",
    "\n",
    "1. in\n",
    "2. not in"
   ]
  },
  {
   "cell_type": "code",
   "execution_count": 81,
   "metadata": {},
   "outputs": [
    {
     "name": "stdout",
     "output_type": "stream",
     "text": [
      "True\n",
      "False\n",
      "False\n"
     ]
    }
   ],
   "source": [
    "s = set(\"LJIET\")\n",
    "print('L' in s)\n",
    "print('T' not in s)\n",
    "print('X' in s)"
   ]
  },
  {
   "cell_type": "markdown",
   "metadata": {},
   "source": [
    "## <b Style='color:#4A89DC'><U>Important functions of Set\n",
    "\n",
    "### <B>1. add(x)"
   ]
  },
  {
   "cell_type": "code",
   "execution_count": 82,
   "metadata": {},
   "outputs": [
    {
     "name": "stdout",
     "output_type": "stream",
     "text": [
      "{40, 10, 20, 30}\n"
     ]
    }
   ],
   "source": [
    "s = {10,20,30}\n",
    "s.add(40)\n",
    "print(s)"
   ]
  },
  {
   "cell_type": "markdown",
   "metadata": {},
   "source": [
    "### <b>2. update(x,y,z)"
   ]
  },
  {
   "cell_type": "code",
   "execution_count": 39,
   "metadata": {},
   "outputs": [
    {
     "name": "stdout",
     "output_type": "stream",
     "text": [
      "{1, 2, 3, 4, 5, 70, 40, 10, 12, 14, 16, 50, 18, 20, 60, 30}\n"
     ]
    }
   ],
   "source": [
    "s = {10,20,30}\n",
    "l = [40,50,60,70]\n",
    "s.update(l,range(10,20,2),range(1,6))\n",
    "print(s)"
   ]
  },
  {
   "cell_type": "markdown",
   "metadata": {},
   "source": [
    "### <b>3. copy()"
   ]
  },
  {
   "cell_type": "code",
   "execution_count": 84,
   "metadata": {},
   "outputs": [
    {
     "name": "stdout",
     "output_type": "stream",
     "text": [
      "{40, 10, 20, 30}\n",
      "{70, 40, 10, 20, 30}\n"
     ]
    }
   ],
   "source": [
    "s = {10,20,30,40}\n",
    "x = s.copy()\n",
    "x.add(70)\n",
    "print(s)\n",
    "print(x)"
   ]
  },
  {
   "cell_type": "markdown",
   "metadata": {},
   "source": [
    "### <b>4. pop()"
   ]
  },
  {
   "cell_type": "code",
   "execution_count": 42,
   "metadata": {},
   "outputs": [
    {
     "name": "stdout",
     "output_type": "stream",
     "text": [
      "{40, 10, 50, 20, 30}\n",
      "40\n",
      "{10, 50, 20, 30}\n"
     ]
    }
   ],
   "source": [
    "s = {40,30,20,10,50}\n",
    "print(s)\n",
    "print(s.pop())\n",
    "print(s)"
   ]
  },
  {
   "cell_type": "markdown",
   "metadata": {},
   "source": [
    "### <b>5. remove(x)"
   ]
  },
  {
   "cell_type": "code",
   "execution_count": 45,
   "metadata": {},
   "outputs": [
    {
     "name": "stdout",
     "output_type": "stream",
     "text": [
      "{40, 10, 20}\n"
     ]
    }
   ],
   "source": [
    "s = {10,20,30,40}\n",
    "s.remove(30)\n",
    "print(s)\n",
    "# s.remove(60) #KeyError: 60"
   ]
  },
  {
   "cell_type": "markdown",
   "metadata": {},
   "source": [
    "### <B>6. discard(x)"
   ]
  },
  {
   "cell_type": "code",
   "execution_count": 40,
   "metadata": {},
   "outputs": [
    {
     "name": "stdout",
     "output_type": "stream",
     "text": [
      "{40, 10, 20}\n",
      "None\n",
      "{40, 10, 20}\n"
     ]
    }
   ],
   "source": [
    "s = {10,20,30,40}\n",
    "s.discard(30)\n",
    "print(s)\n",
    "print(s.discard(60))\n",
    "print(s)"
   ]
  },
  {
   "cell_type": "markdown",
   "metadata": {},
   "source": [
    "### <b>7. clear()"
   ]
  },
  {
   "cell_type": "code",
   "execution_count": 47,
   "metadata": {},
   "outputs": [
    {
     "name": "stdout",
     "output_type": "stream",
     "text": [
      "set()\n"
     ]
    }
   ],
   "source": [
    "s.clear()\n",
    "print(s)"
   ]
  },
  {
   "cell_type": "markdown",
   "metadata": {},
   "source": [
    "## <b Style='color:#4A89DC'><u>Set Comprehension"
   ]
  },
  {
   "cell_type": "code",
   "execution_count": 85,
   "metadata": {},
   "outputs": [
    {
     "name": "stdout",
     "output_type": "stream",
     "text": [
      "{64, 1, 4, 36, 100, 9, 16, 49, 81, 25}\n",
      "{32, 2, 4, 8, 16}\n"
     ]
    }
   ],
   "source": [
    "s = {x*x for x in range(1,11)}\n",
    "print(s)\n",
    "v = {2**x for x in range(1,6)}\n",
    "print(v)"
   ]
  },
  {
   "cell_type": "markdown",
   "metadata": {},
   "source": [
    "## <b Style='color:#e80538'>frozenset()\n",
    "\n",
    "- It is a immutable version of set"
   ]
  },
  {
   "cell_type": "code",
   "execution_count": 50,
   "metadata": {},
   "outputs": [
    {
     "name": "stdout",
     "output_type": "stream",
     "text": [
      "{'Cherry', 'Pineaple', 'Banana', 'Apple'}\n"
     ]
    }
   ],
   "source": [
    "x = [\"Apple\",\"Banana\",\"Cherry\"]\n",
    "s = set(x)\n",
    "s.add(\"Pineaple\")\n",
    "print(s)"
   ]
  },
  {
   "cell_type": "code",
   "execution_count": 51,
   "metadata": {},
   "outputs": [
    {
     "ename": "AttributeError",
     "evalue": "'frozenset' object has no attribute 'add'",
     "output_type": "error",
     "traceback": [
      "\u001b[1;31m---------------------------------------------------------------------------\u001b[0m",
      "\u001b[1;31mAttributeError\u001b[0m                            Traceback (most recent call last)",
      "\u001b[1;32m<ipython-input-51-fc474a2c6022>\u001b[0m in \u001b[0;36m<module>\u001b[1;34m\u001b[0m\n\u001b[0;32m      1\u001b[0m \u001b[0mf\u001b[0m \u001b[1;33m=\u001b[0m \u001b[0mfrozenset\u001b[0m\u001b[1;33m(\u001b[0m\u001b[0mx\u001b[0m\u001b[1;33m)\u001b[0m\u001b[1;33m\u001b[0m\u001b[1;33m\u001b[0m\u001b[0m\n\u001b[1;32m----> 2\u001b[1;33m \u001b[0mf\u001b[0m\u001b[1;33m.\u001b[0m\u001b[0madd\u001b[0m\u001b[1;33m(\u001b[0m\u001b[1;34m\"Pineaple\"\u001b[0m\u001b[1;33m)\u001b[0m\u001b[1;33m\u001b[0m\u001b[1;33m\u001b[0m\u001b[0m\n\u001b[0m\u001b[0;32m      3\u001b[0m \u001b[0mprint\u001b[0m\u001b[1;33m(\u001b[0m\u001b[0mf\u001b[0m\u001b[1;33m)\u001b[0m\u001b[1;33m\u001b[0m\u001b[1;33m\u001b[0m\u001b[0m\n",
      "\u001b[1;31mAttributeError\u001b[0m: 'frozenset' object has no attribute 'add'"
     ]
    }
   ],
   "source": [
    "f = frozenset(x) \n",
    "f.add(\"Pineaple\")\n",
    "print(f)"
   ]
  },
  {
   "cell_type": "markdown",
   "metadata": {},
   "source": [
    "#### <b><span style='color:orange'>Task-4: </span>WAP to find a index at which the elements of list does not match."
   ]
  },
  {
   "cell_type": "code",
   "execution_count": 56,
   "metadata": {},
   "outputs": [
    {
     "name": "stdout",
     "output_type": "stream",
     "text": [
      "[1, 3, 4, 6]\n"
     ]
    }
   ],
   "source": [
    "x = [1,2,3,4,6,7,8]\n",
    "y = [1,5,3,6,4,7,3]\n",
    "l = []\n",
    "\n",
    "if len(x)==len(y):\n",
    "    for i in range(len(x)):\n",
    "        if x[i]!=y[i]:\n",
    "            l.append(i)\n",
    "    print(l)\n",
    "else:\n",
    "    print('Length must be same...!!')"
   ]
  },
  {
   "cell_type": "markdown",
   "metadata": {},
   "source": [
    "#### <b><span style='color:orange'>Task-5: </span>WAP to replace words from dictionary in a given string with its words from lookup dictionary."
   ]
  },
  {
   "cell_type": "code",
   "execution_count": 122,
   "metadata": {},
   "outputs": [
    {
     "name": "stdout",
     "output_type": "stream",
     "text": [
      "CompusX is the best channel for Data-Science students\n"
     ]
    }
   ],
   "source": [
    "s = \"CompusX is best for DS students\"\n",
    "d = {\"best\":\"the best channel\", \"DS\":\"Data-Science\"}\n",
    "l = []\n",
    "\n",
    "for i in s.split():\n",
    "    if i in d:\n",
    "        l.append(d[i])\n",
    "    else:\n",
    "        l.append(i)\n",
    "print(\" \".join(l))       "
   ]
  },
  {
   "cell_type": "code",
   "execution_count": 95,
   "metadata": {},
   "outputs": [
    {
     "name": "stdout",
     "output_type": "stream",
     "text": [
      "1\n"
     ]
    }
   ],
   "source": [
    "l = [1,2,3,[1,2],'abcd']\n",
    "print(l[-1:-3:-1][-1][-2])"
   ]
  },
  {
   "cell_type": "markdown",
   "metadata": {},
   "source": [
    "## <b Style='color:#e80538'>Lambda Function\n",
    "\n",
    "- Function without any name\n",
    "- nameless function, anonymous function<br><br><b>Syntax :</b> lambda argument_list : expression\n",
    "\n",
    "#### <B>Normal Function"
   ]
  },
  {
   "cell_type": "code",
   "execution_count": 96,
   "metadata": {},
   "outputs": [
    {
     "name": "stdout",
     "output_type": "stream",
     "text": [
      "25\n"
     ]
    }
   ],
   "source": [
    "def square(n):\n",
    "    return n*n\n",
    "print(square(5))"
   ]
  },
  {
   "cell_type": "markdown",
   "metadata": {},
   "source": [
    "#### <B>Lambda Function"
   ]
  },
  {
   "cell_type": "code",
   "execution_count": 97,
   "metadata": {},
   "outputs": [
    {
     "name": "stdout",
     "output_type": "stream",
     "text": [
      "16\n",
      "25\n"
     ]
    }
   ],
   "source": [
    "s = lambda n:n*n\n",
    "print(s(4))\n",
    "print(s(5))"
   ]
  },
  {
   "cell_type": "markdown",
   "metadata": {},
   "source": [
    "### <b Style='color:#4A89DC'><U>Lambda function to find sum of two number"
   ]
  },
  {
   "cell_type": "code",
   "execution_count": 99,
   "metadata": {},
   "outputs": [
    {
     "name": "stdout",
     "output_type": "stream",
     "text": [
      "30\n",
      "30\n"
     ]
    }
   ],
   "source": [
    "def sum(a,b):\n",
    "    return a+b\n",
    "print(sum(10,20))\n",
    "\n",
    "s = lambda a,b:a+b\n",
    "print(s(10,20))"
   ]
  },
  {
   "cell_type": "markdown",
   "metadata": {},
   "source": [
    "### <b>1. map() function\n",
    "\n",
    "- for every element present in given sequence, apply some functionality and generate new element with required modification.\n",
    "\n",
    "    Syntax : map(function,sequence)"
   ]
  },
  {
   "cell_type": "code",
   "execution_count": 1,
   "metadata": {},
   "outputs": [
    {
     "name": "stdout",
     "output_type": "stream",
     "text": [
      "[2, 4, 6, 8, 10]\n",
      "[2, 4, 6, 8, 10]\n"
     ]
    }
   ],
   "source": [
    "l = [1,2,3,4,5]\n",
    "\n",
    "def double(x):\n",
    "    return 2*x\n",
    "\n",
    "l1 = list(map(double,l))\n",
    "print(l1)\n",
    "\n",
    "l1 = list(map(lambda x:2*x,l))\n",
    "print(l1)"
   ]
  },
  {
   "cell_type": "code",
   "execution_count": 2,
   "metadata": {},
   "outputs": [
    {
     "name": "stdout",
     "output_type": "stream",
     "text": [
      "[4, 6, 8]\n"
     ]
    }
   ],
   "source": [
    "l1 = [1,2,3,4]\n",
    "l2 = [3,4,5]\n",
    "\n",
    "l3 = list(map(lambda x,y:x+y,l1,l2))\n",
    "print(l3)\n",
    "\n",
    "# ans length = smallest length of function"
   ]
  },
  {
   "cell_type": "markdown",
   "metadata": {},
   "source": [
    "### <b>2. reduce() function\n",
    "\n",
    "- Reduces sequence of element into a single element by applying the specified function.\n",
    "\n",
    "    Syntax : reduce(function,sequence)\n",
    "    \n",
    "- present in functools module so need import that module to use the reduce() function."
   ]
  },
  {
   "cell_type": "code",
   "execution_count": 3,
   "metadata": {},
   "outputs": [
    {
     "name": "stdout",
     "output_type": "stream",
     "text": [
      "21\n",
      "720\n"
     ]
    }
   ],
   "source": [
    "from functools import *\n",
    "import functools\n",
    "\n",
    "l = [1,2,3,4,5,6]\n",
    "\n",
    "sum = reduce(lambda x,y:x+y,l)\n",
    "print(sum)\n",
    "\n",
    "mul = reduce(lambda x,y:x*y,l)\n",
    "print(mul)\n"
   ]
  },
  {
   "cell_type": "markdown",
   "metadata": {},
   "source": [
    "### <b>3. filter() function\n",
    "\n",
    "- filter values from given sequence based on some condition.\n",
    "- function argument is responsible to check condition.\n",
    "\n",
    "    Syntax : filter(function,sequence)"
   ]
  },
  {
   "cell_type": "code",
   "execution_count": 4,
   "metadata": {},
   "outputs": [
    {
     "name": "stdout",
     "output_type": "stream",
     "text": [
      "[0, 2, 4, 6, 8, 10]\n",
      "[0, 2, 4, 6, 8, 10]\n"
     ]
    }
   ],
   "source": [
    "def isEven(x):\n",
    "    if x%2==0:\n",
    "        return True\n",
    "    else:\n",
    "        return False\n",
    "    \n",
    "l = [0,1,2,3,4,5,6,7,8,9,10]\n",
    "\n",
    "l1 = list(filter(isEven,l))\n",
    "print(l1)\n",
    "\n",
    "l1 = list(filter(lambda x:x%2==0,l))\n",
    "print(l1)"
   ]
  },
  {
   "cell_type": "code",
   "execution_count": 5,
   "metadata": {},
   "outputs": [
    {
     "name": "stdout",
     "output_type": "stream",
     "text": [
      "['APPLE', 'BANANA', 'CHERRY']\n",
      "['APPLE', 'BANANA', 'CHERRY']\n"
     ]
    }
   ],
   "source": [
    "# convert words to uppercase\n",
    "words = [\"apple\",\"banana\",\"cherry\"]\n",
    "l = list(map(str.upper,words))\n",
    "print(l)\n",
    "l = list(map(lambda x:x.upper(),words))\n",
    "print(l)"
   ]
  },
  {
   "cell_type": "code",
   "execution_count": 6,
   "metadata": {},
   "outputs": [
    {
     "name": "stdout",
     "output_type": "stream",
     "text": [
      "['banana', 'cherry', 'orange']\n"
     ]
    }
   ],
   "source": [
    "# store words which have length>5\n",
    "l = [\"apple\",\"banana\",\"cherry\",\"date\",\"kiwi\",\"orange\"]\n",
    "l1 = list(filter(lambda x:len(x)>5,l))\n",
    "print(l1)"
   ]
  },
  {
   "cell_type": "code",
   "execution_count": 7,
   "metadata": {},
   "outputs": [
    {
     "name": "stdout",
     "output_type": "stream",
     "text": [
      "9996\n"
     ]
    }
   ],
   "source": [
    "min = (lambda x,y:x if x<y else y)\n",
    "print(min(101*99,102*98))"
   ]
  },
  {
   "cell_type": "markdown",
   "metadata": {},
   "source": [
    "#### <b><span style='color:orange'>Task-6: </span>WAP to find numbers which divisible by 19 or 13 from list of numbers using lambda function"
   ]
  },
  {
   "cell_type": "code",
   "execution_count": 12,
   "metadata": {},
   "outputs": [
    {
     "name": "stdout",
     "output_type": "stream",
     "text": [
      "[26, 65, 190]\n"
     ]
    }
   ],
   "source": [
    "l = [10, 26, 54, 65, 84, 190]\n",
    "l1 = list(filter(lambda x:x%13==0 or x%19==0,l))\n",
    "print(l1)"
   ]
  },
  {
   "cell_type": "markdown",
   "metadata": {},
   "source": [
    "#### sorted() using key\n",
    "- for tuple, string, list"
   ]
  },
  {
   "cell_type": "code",
   "execution_count": 9,
   "metadata": {},
   "outputs": [
    {
     "name": "stdout",
     "output_type": "stream",
     "text": [
      "['date', 'apple', 'cherry', 'banana']\n"
     ]
    }
   ],
   "source": [
    "l = [\"apple\",\"cherry\",\"banana\",\"date\"]\n",
    "l1 = sorted(l,key=len)\n",
    "print(l1)"
   ]
  },
  {
   "cell_type": "code",
   "execution_count": 10,
   "metadata": {},
   "outputs": [
    {
     "name": "stdout",
     "output_type": "stream",
     "text": [
      "['banana', 'apple', 'pineaple', 'cherry']\n",
      "['banana', 'apple', 'pineaple', 'cherry']\n"
     ]
    }
   ],
   "source": [
    "a = [\"apple\",\"banana\",\"cherry\",\"pineaple\"]\n",
    "\n",
    "def fun(word):\n",
    "    return word[-1]\n",
    "l = sorted(a,key=fun)\n",
    "print(l)\n",
    "\n",
    "l =  sorted(a,key=lambda word:word[-1]) \n",
    "print(l)"
   ]
  },
  {
   "cell_type": "code",
   "execution_count": 11,
   "metadata": {},
   "outputs": [
    {
     "name": "stdout",
     "output_type": "stream",
     "text": [
      "[(4, 1), (2, 3), (1, 5), (3, 8)]\n"
     ]
    }
   ],
   "source": [
    "l = [(1,5),(2,3),(3,8),(4,1)]\n",
    "l1 = sorted(l,key=lambda x:x[1])\n",
    "print(l1)"
   ]
  },
  {
   "cell_type": "markdown",
   "metadata": {},
   "source": [
    "#### sort() using key\n",
    "- Only for list"
   ]
  },
  {
   "cell_type": "code",
   "execution_count": 15,
   "metadata": {},
   "outputs": [
    {
     "name": "stdout",
     "output_type": "stream",
     "text": [
      "['apple', 'cherry', 'banana']\n"
     ]
    }
   ],
   "source": [
    "a = [\"apple\", \"cherry\",\"banana\",]\n",
    "a.sort(key=len)\n",
    "print(a)"
   ]
  },
  {
   "cell_type": "code",
   "execution_count": 16,
   "metadata": {},
   "outputs": [
    {
     "name": "stdout",
     "output_type": "stream",
     "text": [
      "[(3, 1), (2, 2), (1, 3)]\n"
     ]
    }
   ],
   "source": [
    "l = [(1,3),(2,2),(3,1)]\n",
    "\n",
    "def fun(val):\n",
    "    return val[1]\n",
    "l.sort(key=fun)\n",
    "print(l)"
   ]
  },
  {
   "cell_type": "code",
   "execution_count": 17,
   "metadata": {},
   "outputs": [
    {
     "name": "stdout",
     "output_type": "stream",
     "text": [
      "['banana', 'apple', 'pineaple', 'kiwi']\n"
     ]
    }
   ],
   "source": [
    "a = [\"apple\",\"banana\",\"kiwi\",\"pineaple\"]\n",
    "a.sort(key = lambda x:x[-1])\n",
    "print(a)"
   ]
  },
  {
   "cell_type": "markdown",
   "metadata": {},
   "source": [
    "#### split() with limit"
   ]
  },
  {
   "cell_type": "code",
   "execution_count": 56,
   "metadata": {},
   "outputs": [
    {
     "name": "stdout",
     "output_type": "stream",
     "text": [
      "['apple', 'banana', 'cherry', 'orange']\n",
      "['apple', 'banana#cherry#orange']\n",
      "['apple', 'banana', 'cherry#orange']\n",
      "['apple', 'banana', 'cherry', 'orange']\n",
      "['apple', 'banana', 'cherry', 'orange']\n"
     ]
    }
   ],
   "source": [
    "t = \"apple#banana#cherry#orange\"\n",
    "x = t.split(\"#\")\n",
    "print(x)\n",
    "x = t.split(\"#\",1)\n",
    "print(x)\n",
    "x = t.split(\"#\",2)\n",
    "print(x)\n",
    "x = t.split(\"#\",3)\n",
    "print(x)"
   ]
  },
  {
   "cell_type": "markdown",
   "metadata": {},
   "source": [
    "#### <b><span style='color:orange'>Task-7: </span>Given a list l of size n. You need to count number of special elements in given list. An element is special if removal of that element makes the list will be balanced if sum of even index element is equal to sum of odd index element. Also print the updated list after removal of special element."
   ]
  },
  {
   "cell_type": "code",
   "execution_count": 20,
   "metadata": {},
   "outputs": [
    {
     "name": "stdout",
     "output_type": "stream",
     "text": [
      "Index to be removed : 0\n",
      "List after removal of index 0 is : [5, 2, 5, 8]\n",
      "\n",
      "Index to be removed : 1\n",
      "List after removal of index 1 is : [5, 2, 5, 8]\n",
      "\n",
      "Total special element : 2\n"
     ]
    }
   ],
   "source": [
    "l = [5,5,2,5,8]\n",
    "sp=0\n",
    "es,os=0,0\n",
    "\n",
    "for i in range(len(l)):\n",
    "    if i%2==0:\n",
    "        es+=l[i]\n",
    "    else:\n",
    "        os+=l[i]\n",
    "\n",
    "if es!=os:\n",
    "    for i in range(len(l)):\n",
    "        es,os=0,0\n",
    "        l1 = l.copy()\n",
    "        l1.pop(i)\n",
    "        for j in range(len(l1)):\n",
    "            if j%2==0:\n",
    "                es+=l1[j]\n",
    "            else:\n",
    "                os+=l1[j]\n",
    "        if es==os:\n",
    "            sp += 1\n",
    "            print('Index to be removed :',i)\n",
    "            print('List after removal of index',i,\"is :\",l1)\n",
    "            print()\n",
    "    \n",
    "print('Total special element :',sp)"
   ]
  }
 ],
 "metadata": {
  "kernelspec": {
   "display_name": "Python 3 (ipykernel)",
   "language": "python",
   "name": "python3"
  },
  "language_info": {
   "codemirror_mode": {
    "name": "ipython",
    "version": 3
   },
   "file_extension": ".py",
   "mimetype": "text/x-python",
   "name": "python",
   "nbconvert_exporter": "python",
   "pygments_lexer": "ipython3",
   "version": "3.13.0"
  }
 },
 "nbformat": 4,
 "nbformat_minor": 4
}
