{
 "cells": [
  {
   "cell_type": "markdown",
   "metadata": {
    "jp-MarkdownHeadingCollapsed": true
   },
   "source": [
    "# <center><font size=7><b>Unit-4 Immutable Data Structure</b></font></center>\n",
    "\n",
    "<h4>Immutable Data types are those that can never change their value in place.<br><br>\n",
    "<b>Examples:<br>\n",
    "String, Tuple etc</h4>"
   ]
  },
  {
   "cell_type": "markdown",
   "metadata": {},
   "source": [
    "<h1 Style='color:#e80538;'><b>1. String</b></h1> \n",
    "\n",
    "- Any sequence of characters within either single quotes or double quotes is considered as a String.\n",
    "- We can define multi-line String literals by using triple single or double quotes.\n",
    "\n",
    "<h2 Style='color:#4A89DC'><b><u>Accessing charecters of string</u></b></h2>\n",
    "          \n",
    "<h3>1. by using <b>Index</b></h3>"
   ]
  },
  {
   "cell_type": "code",
   "execution_count": 12,
   "metadata": {},
   "outputs": [
    {
     "name": "stdout",
     "output_type": "stream",
     "text": [
      "J\n",
      "y\n",
      "r\n"
     ]
    }
   ],
   "source": [
    "a = \"LJ University\"\n",
    "print(a[1])\n",
    "print(a[-1])\n",
    "print(a[-5])\n",
    "# print(a[20]) #IndexError: string index out of range"
   ]
  },
  {
   "cell_type": "markdown",
   "metadata": {},
   "source": [
    "<h3>2. by using <b>Slicing operator</b></h3>\n",
    "\n",
    "    Syntax: S[beginindex : endindex : step]"
   ]
  },
  {
   "cell_type": "code",
   "execution_count": 21,
   "metadata": {},
   "outputs": [
    {
     "name": "stdout",
     "output_type": "stream",
     "text": [
      "earnin\n",
      "eri\n",
      "Learnin\n",
      "Python is very easy\n",
      "Learning Python is very easy\n",
      "Learning Python is very easy\n",
      "Lann yhni eyes\n",
      "ysae yrev si nohtyP gninraeL\n",
      "ysa\n",
      "\n"
     ]
    }
   ],
   "source": [
    "s = \"Learning Python is very easy\"\n",
    "print(s[1:7:1])\n",
    "print(s[1:7:2])\n",
    "print(s[:7])\n",
    "print(s[9:])\n",
    "print(s[::])\n",
    "print(s[:])\n",
    "print(s[::2])\n",
    "print(s[::-1])\n",
    "print(s[-1:-4:-1])\n",
    "print(s[-1:-4])"
   ]
  },
  {
   "cell_type": "markdown",
   "metadata": {},
   "source": [
    "<h2 Style='color:#4A89DC'><u><b>Mathematical operation for String</b></h2>\n",
    "\n",
    "<pre><b>+ -> Concatenation\n",
    "* -> Repetition or String Multiplication\n",
    "</b></pre>\n",
    "    "
   ]
  },
  {
   "cell_type": "code",
   "execution_count": 22,
   "metadata": {},
   "outputs": [
    {
     "name": "stdout",
     "output_type": "stream",
     "text": [
      "Sakshi Panchal\n",
      "okokok\n"
     ]
    }
   ],
   "source": [
    "print(\"Sakshi\" + \" Panchal\")\n",
    "print(\"ok\"*3)"
   ]
  },
  {
   "cell_type": "markdown",
   "metadata": {},
   "source": [
    "<h2 Style='color:#4A89DC'><b><u>Comparison of String</u></b></h2>"
   ]
  },
  {
   "cell_type": "code",
   "execution_count": 3,
   "metadata": {},
   "outputs": [
    {
     "name": "stdin",
     "output_type": "stream",
     "text": [
      "Enter First String :  qw\n",
      "Enter Second String :  qw\n"
     ]
    },
    {
     "name": "stdout",
     "output_type": "stream",
     "text": [
      "Both Strings are same\n"
     ]
    }
   ],
   "source": [
    "s1 = input(\"Enter First String : \")\n",
    "s2 = input(\"Enter Second String : \")\n",
    "\n",
    "if s1==s2:\n",
    "    print(\"Both Strings are same\")\n",
    "elif s1<s2:\n",
    "    print(\"Second Strings is greater\")  \n",
    "else:\n",
    "    print(\"First Strings is greater\")  \n",
    "    "
   ]
  },
  {
   "cell_type": "markdown",
   "metadata": {},
   "source": [
    "<h2 Style='color:#4A89DC'><b><u>Joining of String</u></b></h2>\n",
    "\n",
    "    Syntax : s = separator.join (group of string)"
   ]
  },
  {
   "cell_type": "code",
   "execution_count": 32,
   "metadata": {},
   "outputs": [
    {
     "name": "stdout",
     "output_type": "stream",
     "text": [
      "Apple-Banana-Cherry\n"
     ]
    }
   ],
   "source": [
    "t = (\"Apple\", \"Banana\", \"Cherry\")\n",
    "x = \"-\".join(t)\n",
    "print(x)"
   ]
  },
  {
   "cell_type": "markdown",
   "metadata": {},
   "source": [
    "<h2 Style='color:#4A89DC'><b><u>Formatting of string</u></b></h2>"
   ]
  },
  {
   "cell_type": "code",
   "execution_count": 6,
   "metadata": {},
   "outputs": [
    {
     "name": "stdout",
     "output_type": "stream",
     "text": [
      "Arman's salary is 50000 and age is 25\n",
      "50000's salary is 25 and age is Arman\n"
     ]
    }
   ],
   "source": [
    "name = \"Arman\"\n",
    "salary = 50000\n",
    "age = 25\n",
    "print(\"{}'s salary is {} and age is {}\".format(name,salary,age))\n",
    "\n",
    "print(\"{1}'s salary is {2} and age is {0}\".format(name,salary,age))"
   ]
  },
  {
   "cell_type": "markdown",
   "metadata": {},
   "source": [
    "<h2 Style='color:#4A89DC'><b><u>Important functions of String</u></b></h2>\n",
    "\n",
    "<h4><b>1. len()</h4>"
   ]
  },
  {
   "cell_type": "code",
   "execution_count": 4,
   "metadata": {},
   "outputs": [
    {
     "name": "stdout",
     "output_type": "stream",
     "text": [
      "5\n"
     ]
    }
   ],
   "source": [
    "a = \"LJIET\"\n",
    "print(len(a))"
   ]
  },
  {
   "cell_type": "markdown",
   "metadata": {},
   "source": [
    "<h3>⇨<u>Removing spaces from String</u></h3>\n",
    "    \n",
    "<h4><b>1. rstrip()</u></h4>"
   ]
  },
  {
   "cell_type": "code",
   "execution_count": 17,
   "metadata": {},
   "outputs": [
    {
     "name": "stdout",
     "output_type": "stream",
     "text": [
      "banana   is a Fruit\n",
      "banana is a Fruit\n",
      "8\n",
      "6\n"
     ]
    }
   ],
   "source": [
    "t = \"banana  \"\n",
    "x = t.rstrip()\n",
    "print(t,\"is a Fruit\")\n",
    "print(x,\"is a Fruit\")\n",
    "print(len(t))\n",
    "print(len(x))"
   ]
  },
  {
   "cell_type": "markdown",
   "metadata": {},
   "source": [
    "<h4><b>2. lstrip()</h4>"
   ]
  },
  {
   "cell_type": "code",
   "execution_count": 1,
   "metadata": {},
   "outputs": [
    {
     "name": "stdout",
     "output_type": "stream",
     "text": [
      "  banana is a Fruit\n",
      "banana is a Fruit\n"
     ]
    }
   ],
   "source": [
    "t = \"  banana\"\n",
    "x = t.lstrip()\n",
    "print(t,\"is a Fruit\")\n",
    "print(x,\"is a Fruit\")"
   ]
  },
  {
   "cell_type": "markdown",
   "metadata": {},
   "source": [
    "<h4><b>3. strip()</h4>"
   ]
  },
  {
   "cell_type": "code",
   "execution_count": 2,
   "metadata": {},
   "outputs": [
    {
     "name": "stdout",
     "output_type": "stream",
     "text": [
      "  banana   is a Fruit\n",
      "banana is a Fruit\n"
     ]
    }
   ],
   "source": [
    "t = \"  banana  \"\n",
    "x = t.strip()\n",
    "print(t,\"is a Fruit\")\n",
    "print(x,\"is a Fruit\")"
   ]
  },
  {
   "cell_type": "markdown",
   "metadata": {},
   "source": [
    "<b>Different Cases:</b>"
   ]
  },
  {
   "cell_type": "code",
   "execution_count": 15,
   "metadata": {},
   "outputs": [
    {
     "name": "stdout",
     "output_type": "stream",
     "text": [
      "banan\n",
      "anana\n",
      "nan\n",
      "\n",
      " banana \n",
      " banana \n",
      " banana \n",
      "\n",
      "b\n",
      "nana\n",
      "\n",
      "\n",
      "banad\n",
      "dana\n",
      "d\n",
      "\n"
     ]
    }
   ],
   "source": [
    "t = \"banana\"\n",
    "x = t.rstrip(\"a\")\n",
    "y = t.lstrip(\"b\")\n",
    "z = t.strip(\"ab\")\n",
    "print(x)\n",
    "print(y)\n",
    "print(z)\n",
    "print()\n",
    "\n",
    "t = \" banana \"\n",
    "x = t.rstrip(\"a\")\n",
    "y = t.lstrip(\"b\")\n",
    "z = t.strip(\"ab\")\n",
    "print(x)\n",
    "print(y)\n",
    "print(z)\n",
    "print()\n",
    "\n",
    "t = \"banana\"\n",
    "x = t.rstrip(\"an\")\n",
    "y = t.lstrip(\"ab\")\n",
    "z = t.strip(\"anb\")\n",
    "\n",
    "print(x)\n",
    "print(y)\n",
    "print(z)\n",
    "print()\n",
    "\n",
    "t = \"banadana\"\n",
    "x = t.rstrip(\"an\")\n",
    "y = t.lstrip(\"ban\")\n",
    "z = t.strip(\"anb\")\n",
    "print(x)\n",
    "print(y)\n",
    "print(z)\n",
    "print()"
   ]
  },
  {
   "cell_type": "markdown",
   "metadata": {},
   "source": [
    "<h3>⇨<u>Changing the case of string</u></h3>\n",
    "<h4><b>1. upper()</h4>"
   ]
  },
  {
   "cell_type": "code",
   "execution_count": 31,
   "metadata": {},
   "outputs": [
    {
     "name": "stdout",
     "output_type": "stream",
     "text": [
      "HELLO FRIENDS\n"
     ]
    }
   ],
   "source": [
    "s = \"Hello Friends\"\n",
    "x = s.upper()\n",
    "print(x)"
   ]
  },
  {
   "cell_type": "markdown",
   "metadata": {},
   "source": [
    "<h4><b>2.lower()</b></h4>"
   ]
  },
  {
   "cell_type": "code",
   "execution_count": 33,
   "metadata": {},
   "outputs": [
    {
     "name": "stdout",
     "output_type": "stream",
     "text": [
      "hello friends\n"
     ]
    }
   ],
   "source": [
    "s = \"HELLO FRIENDS\"\n",
    "x = s.lower()\n",
    "print(x)"
   ]
  },
  {
   "cell_type": "markdown",
   "metadata": {},
   "source": [
    "<h4><b>3.swapcase()</h4>"
   ]
  },
  {
   "cell_type": "code",
   "execution_count": 34,
   "metadata": {},
   "outputs": [
    {
     "name": "stdout",
     "output_type": "stream",
     "text": [
      "hELLO mY NAME IS sakshi\n"
     ]
    }
   ],
   "source": [
    "s = \"Hello My name is SAKSHI\"\n",
    "x = s.swapcase()\n",
    "print(x)"
   ]
  },
  {
   "cell_type": "markdown",
   "metadata": {},
   "source": [
    "<h4><b>4.title()</h4>"
   ]
  },
  {
   "cell_type": "code",
   "execution_count": 42,
   "metadata": {},
   "outputs": [
    {
     "name": "stdout",
     "output_type": "stream",
     "text": [
      "Hello How Are You?\n"
     ]
    }
   ],
   "source": [
    "s = \"Hello how are you?\"\n",
    "x = s.title()\n",
    "print(x)"
   ]
  },
  {
   "cell_type": "markdown",
   "metadata": {},
   "source": [
    "<h4><b>5.capitalize()</h4>"
   ]
  },
  {
   "cell_type": "code",
   "execution_count": 35,
   "metadata": {},
   "outputs": [
    {
     "name": "stdout",
     "output_type": "stream",
     "text": [
      "Hello how are you?\n"
     ]
    }
   ],
   "source": [
    "s = \"hello how are you?\"\n",
    "x = s.capitalize()\n",
    "print(x)"
   ]
  },
  {
   "cell_type": "markdown",
   "metadata": {},
   "source": [
    "<h3>⇨<u>To check Type of characters in a string (check function)</u></h3>\n",
    "\n",
    "    → Answer only in True or False\n",
    "    \n",
    "<h4><b>1. isalnum()</b></h4> \n",
    "\n",
    "- (A-Z, a-z, 0-9)\n"
   ]
  },
  {
   "cell_type": "code",
   "execution_count": 48,
   "metadata": {},
   "outputs": [
    {
     "name": "stdout",
     "output_type": "stream",
     "text": [
      "True\n"
     ]
    }
   ],
   "source": [
    "t = \"company123\"\n",
    "x = t.isalnum()\n",
    "print(x)"
   ]
  },
  {
   "cell_type": "markdown",
   "metadata": {},
   "source": [
    "<h4><b>2. isalpha()</b></h4>\n",
    "\n",
    "- (A-Z, a-z)"
   ]
  },
  {
   "cell_type": "code",
   "execution_count": 50,
   "metadata": {},
   "outputs": [
    {
     "name": "stdout",
     "output_type": "stream",
     "text": [
      "True\n"
     ]
    }
   ],
   "source": [
    "t = \"company\"\n",
    "x = t.isalpha()\n",
    "print(x)"
   ]
  },
  {
   "cell_type": "markdown",
   "metadata": {},
   "source": [
    "<h4><b>3. isdigit() or isnumeric()</b></h4>\n",
    "\n",
    "- isdigit --> (0-9, superscript, subscript)\n",
    "- isnumeric --> (0-9, superscript, subscript, roman, vulgur function)\n"
   ]
  },
  {
   "cell_type": "code",
   "execution_count": 51,
   "metadata": {},
   "outputs": [
    {
     "name": "stdout",
     "output_type": "stream",
     "text": [
      "True\n"
     ]
    }
   ],
   "source": [
    "t = \"5080\"\n",
    "x = t.isdigit()\n",
    "print(x)"
   ]
  },
  {
   "cell_type": "markdown",
   "metadata": {},
   "source": [
    "<h4><b>4. islower()</h4>"
   ]
  },
  {
   "cell_type": "code",
   "execution_count": 55,
   "metadata": {},
   "outputs": [
    {
     "name": "stdout",
     "output_type": "stream",
     "text": [
      "True\n"
     ]
    }
   ],
   "source": [
    "t = \"hello world!\"\n",
    "x = t.islower()\n",
    "print(x)"
   ]
  },
  {
   "cell_type": "markdown",
   "metadata": {},
   "source": [
    "<h4><b>5. isupper()</h4>"
   ]
  },
  {
   "cell_type": "code",
   "execution_count": 56,
   "metadata": {},
   "outputs": [
    {
     "name": "stdout",
     "output_type": "stream",
     "text": [
      "True\n"
     ]
    }
   ],
   "source": [
    "t = \"HELLO WORLD\"\n",
    "x = t.isupper()\n",
    "print(x)"
   ]
  },
  {
   "cell_type": "markdown",
   "metadata": {},
   "source": [
    "<h4><b>6. istitle()</h4>\n",
    "\n",
    "- Only First Character of each Word should be Capital otherwise answer is False."
   ]
  },
  {
   "cell_type": "code",
   "execution_count": 21,
   "metadata": {},
   "outputs": [
    {
     "name": "stdout",
     "output_type": "stream",
     "text": [
      "False\n",
      "True\n",
      "True\n",
      "True\n"
     ]
    }
   ],
   "source": [
    "a = \"HELLO WELCOME\"\n",
    "b = \"Hello\"\n",
    "c = \"22 Names\"\n",
    "d = \"This Is  %$\"\n",
    "print(a.istitle())\n",
    "print(b.istitle())\n",
    "print(c.istitle())\n",
    "print(d.istitle())"
   ]
  },
  {
   "cell_type": "markdown",
   "metadata": {},
   "source": [
    "<h4><b>7. isidentifier()</h4>"
   ]
  },
  {
   "cell_type": "code",
   "execution_count": 64,
   "metadata": {},
   "outputs": [
    {
     "name": "stdout",
     "output_type": "stream",
     "text": [
      "True\n",
      "True\n",
      "False\n",
      "False\n"
     ]
    }
   ],
   "source": [
    "a = \"MyDemo\"\n",
    "b = \"Demo20\"\n",
    "c = \"2Demo\"\n",
    "d = \"My Demo\"\n",
    "print(a.isidentifier())\n",
    "print(b.isidentifier())\n",
    "print(c.isidentifier())\n",
    "print(d.isidentifier())"
   ]
  },
  {
   "cell_type": "markdown",
   "metadata": {},
   "source": [
    "<h4><b>8. isspace()</h4>"
   ]
  },
  {
   "cell_type": "code",
   "execution_count": 65,
   "metadata": {},
   "outputs": [
    {
     "name": "stdout",
     "output_type": "stream",
     "text": [
      "True\n"
     ]
    }
   ],
   "source": [
    "s = \" \"\n",
    "x = s.isspace()\n",
    "print(x)"
   ]
  },
  {
   "cell_type": "markdown",
   "metadata": {},
   "source": [
    "<h4><b><span style='color:orange'>Task 1 : </span>Calculate a count of alphabets, upper-case & lower-case letters, digits, spaces, special characters and words in String.</b></h4>"
   ]
  },
  {
   "cell_type": "code",
   "execution_count": 11,
   "metadata": {},
   "outputs": [
    {
     "name": "stdout",
     "output_type": "stream",
     "text": [
      "Alphabets : 16\n",
      "Upper-case letters : 3\n",
      "lower-case letters : 13\n",
      "Digits : 5\n",
      "Spaces : 4\n",
      "Special characters : 4\n",
      "words : 5\n"
     ]
    }
   ],
   "source": [
    "s = \"Pyt@h$%on is 124 Very Ea$sy43\"\n",
    "alpha,up,low,dig,space,sp,word=0,0,0,0,0,0,0\n",
    "\n",
    "for i in s:\n",
    "    if i.isalpha():\n",
    "        alpha += 1;\n",
    "        if i.isupper():\n",
    "            up += 1;\n",
    "        else:\n",
    "            low += 1;\n",
    "    elif i.isdigit():\n",
    "        dig += 1;\n",
    "    elif i.isspace():\n",
    "        space += 1;\n",
    "    else:\n",
    "        sp += 1\n",
    "word = space+1\n",
    "\n",
    "print('Alphabets :',alpha)\n",
    "print('Upper-case letters :',up)\n",
    "print('lower-case letters :',low)\n",
    "print('Digits :',dig)\n",
    "print('Spaces :',space)\n",
    "print('Special characters :',sp)\n",
    "print(\"words :\",word)"
   ]
  },
  {
   "cell_type": "markdown",
   "metadata": {},
   "source": [
    "<h3><b>find()</b></h3>\n",
    "    \n",
    "    Syntax : s.find(substring)\n",
    "             s.find(substring, begin, end)"
   ]
  },
  {
   "cell_type": "code",
   "execution_count": 14,
   "metadata": {},
   "outputs": [
    {
     "name": "stdout",
     "output_type": "stream",
     "text": [
      "2\n",
      "25\n",
      "-1\n",
      "9\n"
     ]
    }
   ],
   "source": [
    "s = \"Learning Python is very easy\"\n",
    "print(s.find(\"a\"))\n",
    "print(s.find(\"a\",3,50))\n",
    "print(s.find(\"d\"))\n",
    "print(s.find(\"Python\"))"
   ]
  },
  {
   "cell_type": "markdown",
   "metadata": {},
   "source": [
    "<h3><b>count()</b></h3>\n",
    "\n",
    "    Syntax : s.count(substring)\n",
    "             s.count(substring, begin, end)"
   ]
  },
  {
   "cell_type": "code",
   "execution_count": 83,
   "metadata": {},
   "outputs": [
    {
     "name": "stdout",
     "output_type": "stream",
     "text": [
      "3\n",
      "1\n"
     ]
    }
   ],
   "source": [
    "s = \"abcdabcdefgabcxyz\"\n",
    "print(s.count(\"a\"))\n",
    "print(s.count(\"a\",5,20))"
   ]
  },
  {
   "cell_type": "markdown",
   "metadata": {},
   "source": [
    "<h3><b>replace()</b></h3>\n",
    "\n",
    "    Syntax : s.replace(old string, new string)\n"
   ]
  },
  {
   "cell_type": "code",
   "execution_count": 18,
   "metadata": {},
   "outputs": [
    {
     "name": "stdout",
     "output_type": "stream",
     "text": [
      "Learning Python is very easy\n"
     ]
    }
   ],
   "source": [
    "s = \"Learning Java is very easy\"\n",
    "s1 = s.replace(\"Java\",\"Python\")\n",
    "print(s1)"
   ]
  },
  {
   "cell_type": "markdown",
   "metadata": {},
   "source": [
    "<h3><b>split()</h3>\n",
    "\n",
    "    Syntax: s.spilt(separator)\n",
    "    \n",
    "    → Strings are stored in list"
   ]
  },
  {
   "cell_type": "code",
   "execution_count": 19,
   "metadata": {},
   "outputs": [
    {
     "name": "stdout",
     "output_type": "stream",
     "text": [
      "['LJ', 'University']\n",
      "LJ\n",
      "University\n",
      "['11', '11', '2024']\n"
     ]
    }
   ],
   "source": [
    "s = \"LJ University\"\n",
    "s1 = s.split()\n",
    "print(s1)\n",
    "\n",
    "for i in s1:\n",
    "    print(i)\n",
    "    \n",
    "s = \"11-11-2024\"\n",
    "l = s.split(\"-\")\n",
    "print(l)"
   ]
  },
  {
   "cell_type": "markdown",
   "metadata": {},
   "source": [
    "<h3>⇨<u>Remove punctuation using translate() function</h3>\n",
    "<h4><b>translate() with maketrans function</h4>\n",
    "\n",
    "    maketrans → Static method on Str type\n",
    "              → 3 argument version\n",
    "              → First two equal length strings\n",
    "              → Third-each special character in string is mapped to none"
   ]
  },
  {
   "cell_type": "code",
   "execution_count": 22,
   "metadata": {},
   "outputs": [
    {
     "name": "stdout",
     "output_type": "stream",
     "text": [
      "!\"#$%&'()*+,-./:;<=>?@[\\]^_`{|}~\n",
      "32\n",
      "\n",
      "{33: None, 34: None, 35: None, 36: None, 37: None, 38: None, 39: None, 40: None, 41: None, 42: None, 43: None, 44: None, 45: None, 46: None, 47: None, 58: None, 59: None, 60: None, 61: None, 62: None, 63: None, 64: None, 91: None, 92: None, 93: None, 94: None, 95: None, 96: None, 123: None, 124: None, 125: None, 126: None}\n",
      "\n",
      "{97: 98, 33: None, 34: None, 35: None, 36: None, 37: None, 38: None, 39: None, 40: None, 41: None, 42: None, 43: None, 44: None, 45: None, 46: None, 47: None, 58: None, 59: None, 60: None, 61: None, 62: None, 63: None, 64: None, 91: None, 92: None, 93: None, 94: None, 95: None, 96: None, 123: None, 124: None, 125: None, 126: None}\n"
     ]
    }
   ],
   "source": [
    "import string\n",
    "print(string.punctuation)\n",
    "print(len(string.punctuation))\n",
    "print()\n",
    "\n",
    "print(str.maketrans(\"\",\"\",string.punctuation))\n",
    "print()\n",
    "print(str.maketrans(\"a\",\"b\",string.punctuation))"
   ]
  },
  {
   "cell_type": "code",
   "execution_count": 21,
   "metadata": {},
   "outputs": [
    {
     "name": "stdout",
     "output_type": "stream",
     "text": [
      "{101: 32, 36: None, 33: None}\n",
      "Pyt@hon is v ry  asy\n"
     ]
    }
   ],
   "source": [
    "s = \"Pyt@$hon is very$ easy!!\"\n",
    "x = str.maketrans(\"e\",\" \",\"$!\")\n",
    "print(x)\n",
    "s = s.translate(x)\n",
    "print(s)"
   ]
  },
  {
   "cell_type": "code",
   "execution_count": 22,
   "metadata": {},
   "outputs": [
    {
     "name": "stdout",
     "output_type": "stream",
     "text": [
      "Hi Joe!!\n"
     ]
    }
   ],
   "source": [
    "t = \"Hi Sam!!\"\n",
    "x = \"mSa\"\n",
    "y = \"eJo\"\n",
    "table = t.maketrans(x,y)\n",
    "print(t.translate(table))"
   ]
  },
  {
   "cell_type": "markdown",
   "metadata": {},
   "source": [
    "<h1 Style='color:#e80538;'><b>2. Tuple</b></h1>  \n",
    "\n",
    "- Same as list except it is immutable\n",
    "- Read only version of list\n",
    "- Data is fixed and never changes then we should go for tuple\n",
    "- Insertion order is preserved\n",
    "- Duplicate are allowed\n",
    "- Heterogeneous object are allowed\n",
    "- Index will play important role in tuple\n",
    "- Supports both +ve and -ve index\n",
    "- Represent with () paranthesis with comma separator"
   ]
  },
  {
   "cell_type": "markdown",
   "metadata": {},
   "source": [
    "<h2 Style='color:#4A89DC'><u><b>Creation of Tuple</h2>"
   ]
  },
  {
   "cell_type": "code",
   "execution_count": 23,
   "metadata": {},
   "outputs": [
    {
     "name": "stdout",
     "output_type": "stream",
     "text": [
      "<class 'tuple'>\n",
      "<class 'int'>\n",
      "<class 'tuple'>\n"
     ]
    }
   ],
   "source": [
    "t = ()\n",
    "print(type(t))\n",
    "\n",
    "t = (10)\n",
    "print(type(t))\n",
    "\n",
    "t = (10,)\n",
    "print(type(t))"
   ]
  },
  {
   "cell_type": "code",
   "execution_count": 24,
   "metadata": {},
   "outputs": [
    {
     "name": "stdout",
     "output_type": "stream",
     "text": [
      "(10, 12, 14, 16, 18)\n"
     ]
    }
   ],
   "source": [
    "t = tuple(range(10,20,2))\n",
    "print(t)"
   ]
  },
  {
   "cell_type": "markdown",
   "metadata": {},
   "source": [
    "<h2 Style='color:#4A89DC'><b><u>Accessing Element of Tuple</u></b></h2>\n",
    "<h3>1. by using <b>Index</b></h3>"
   ]
  },
  {
   "cell_type": "code",
   "execution_count": 26,
   "metadata": {},
   "outputs": [
    {
     "name": "stdout",
     "output_type": "stream",
     "text": [
      "30\n",
      "60\n",
      "20\n"
     ]
    }
   ],
   "source": [
    "t = (10,20,30,40,50,60)\n",
    "print(t[2])\n",
    "print(t[-1])\n",
    "print(t[-5])\n",
    "# print(t[10]) # IndexError: tuple index out of range"
   ]
  },
  {
   "cell_type": "markdown",
   "metadata": {},
   "source": [
    "<h3>2. by using <b>Slicing operator</b></h3>"
   ]
  },
  {
   "cell_type": "code",
   "execution_count": 27,
   "metadata": {},
   "outputs": [
    {
     "name": "stdout",
     "output_type": "stream",
     "text": [
      "(30, 40, 50)\n",
      "(40, 50, 60)\n",
      "(10, 30, 50)\n",
      "(60, 50, 40)\n",
      "()\n"
     ]
    }
   ],
   "source": [
    "t = (10,20,30,40,50,60)\n",
    "print(t[2:5])\n",
    "print(t[3:100])\n",
    "print(t[::2])\n",
    "print(t[-1:-4:-1])\n",
    "print(t[-1:-4])"
   ]
  },
  {
   "cell_type": "markdown",
   "metadata": {},
   "source": [
    "<h2 Style='color:#4A89DC'><b><u>Immutability</h2>"
   ]
  },
  {
   "cell_type": "code",
   "execution_count": 29,
   "metadata": {},
   "outputs": [
    {
     "ename": "TypeError",
     "evalue": "'tuple' object does not support item assignment",
     "output_type": "error",
     "traceback": [
      "\u001b[1;31m---------------------------------------------------------------------------\u001b[0m",
      "\u001b[1;31mTypeError\u001b[0m                                 Traceback (most recent call last)",
      "Cell \u001b[1;32mIn[29], line 2\u001b[0m\n\u001b[0;32m      1\u001b[0m t \u001b[38;5;241m=\u001b[39m (\u001b[38;5;241m10\u001b[39m,\u001b[38;5;241m20\u001b[39m,\u001b[38;5;241m30\u001b[39m,\u001b[38;5;241m40\u001b[39m)\n\u001b[1;32m----> 2\u001b[0m \u001b[43mt\u001b[49m\u001b[43m[\u001b[49m\u001b[38;5;241;43m2\u001b[39;49m\u001b[43m]\u001b[49m \u001b[38;5;241m=\u001b[39m \u001b[38;5;241m70\u001b[39m\n\u001b[0;32m      3\u001b[0m \u001b[38;5;28mprint\u001b[39m(t)\n",
      "\u001b[1;31mTypeError\u001b[0m: 'tuple' object does not support item assignment"
     ]
    }
   ],
   "source": [
    "t = (10,20,30,40)\n",
    "t[2] = 70\n",
    "print(t)"
   ]
  },
  {
   "cell_type": "markdown",
   "metadata": {},
   "source": [
    "<h2 Style='color:#4A89DC'><u><b>Mathematical operators for Tuple</b></h2>\n",
    "\n",
    "<pre><b>+ -> Concatenation\n",
    "* -> Repetition\n",
    "</b></pre>"
   ]
  },
  {
   "cell_type": "code",
   "execution_count": 25,
   "metadata": {},
   "outputs": [
    {
     "name": "stdout",
     "output_type": "stream",
     "text": [
      "(101, 20, 30, 40, 50, 60)\n",
      "(101, 20, 30, 101, 20, 30, 101, 20, 30)\n"
     ]
    }
   ],
   "source": [
    "t1 = (101,20,30)\n",
    "t2 = (40,50,60)\n",
    "\n",
    "print(t1+t2)\n",
    "print(t1*3)"
   ]
  },
  {
   "cell_type": "markdown",
   "metadata": {},
   "source": [
    "<h2 Style='color:#4A89DC'><b><u>Important functions of Tuple</u></b></h2>\n",
    "<h3><b>1. len()</h3>"
   ]
  },
  {
   "cell_type": "code",
   "execution_count": 33,
   "metadata": {},
   "outputs": [
    {
     "name": "stdout",
     "output_type": "stream",
     "text": [
      "4\n"
     ]
    }
   ],
   "source": [
    "t = (10,20,30,40)\n",
    "print(len(t))"
   ]
  },
  {
   "cell_type": "markdown",
   "metadata": {},
   "source": [
    "<h3><b>2. count()</b></h3>"
   ]
  },
  {
   "cell_type": "code",
   "execution_count": 34,
   "metadata": {},
   "outputs": [
    {
     "name": "stdout",
     "output_type": "stream",
     "text": [
      "2\n",
      "1\n",
      "0\n"
     ]
    }
   ],
   "source": [
    "t = (10,20,30,10,20,40)\n",
    "print(t.count(10))\n",
    "print(t.count(40))\n",
    "print(t.count(50))"
   ]
  },
  {
   "cell_type": "markdown",
   "metadata": {},
   "source": [
    "<h3><b>3. index()</b></h3>"
   ]
  },
  {
   "cell_type": "code",
   "execution_count": 35,
   "metadata": {},
   "outputs": [
    {
     "name": "stdout",
     "output_type": "stream",
     "text": [
      "0\n"
     ]
    }
   ],
   "source": [
    "t = (10,20,10,10,20)\n",
    "print(t.index(10))\n",
    "# print(t.index(30)) # ValueError: tuple.index(x): x not in tuple"
   ]
  },
  {
   "cell_type": "markdown",
   "metadata": {},
   "source": [
    "<h3><b>4. sorted()</b></h3>\n",
    "\n",
    "- Answer stored in list form"
   ]
  },
  {
   "cell_type": "code",
   "execution_count": 24,
   "metadata": {},
   "outputs": [
    {
     "name": "stdout",
     "output_type": "stream",
     "text": [
      "[10, 20, 30, 40]\n",
      "[40, 30, 20, 10]\n"
     ]
    }
   ],
   "source": [
    "t = (40,10,30,20)\n",
    "t1 = sorted(t)\n",
    "print(t1)\n",
    "t1 = sorted(t, reverse=True)\n",
    "print(t1)"
   ]
  },
  {
   "cell_type": "markdown",
   "metadata": {},
   "source": [
    "<h3><b>5. min() or max()</b></h3>"
   ]
  },
  {
   "cell_type": "code",
   "execution_count": 37,
   "metadata": {},
   "outputs": [
    {
     "name": "stdout",
     "output_type": "stream",
     "text": [
      "10\n",
      "70\n",
      "ABC\n",
      "def\n"
     ]
    }
   ],
   "source": [
    "t = (10,20,30,60,70,40)\n",
    "print(min(t))\n",
    "print(max(t))\n",
    "\n",
    "t = (\"abc\",\"ABC\",\"def\",\"dXZ\")\n",
    "print(min(t))\n",
    "print(max(t))\n",
    "\n",
    "t = (1,2,43,'a',\"sa\")\n",
    "# print(min(t)) #TypeError: '<' not supported between instances of 'str' and 'int'"
   ]
  },
  {
   "cell_type": "markdown",
   "metadata": {},
   "source": [
    "<h2 Style='color:#4A89DC'><b><u>Tuple Packing</u></b></h2>"
   ]
  },
  {
   "cell_type": "code",
   "execution_count": 26,
   "metadata": {},
   "outputs": [
    {
     "name": "stdout",
     "output_type": "stream",
     "text": [
      "(10, 20, 30, 40)\n"
     ]
    }
   ],
   "source": [
    "a = 10\n",
    "b =20\n",
    "c = 30\n",
    "d = 40\n",
    "t = a,b,c,d\n",
    "print(t)"
   ]
  },
  {
   "cell_type": "markdown",
   "metadata": {},
   "source": [
    "<h2 Style='color:#4A89DC'><b><u>Tuple Unpacking</u></b></h2>"
   ]
  },
  {
   "cell_type": "code",
   "execution_count": 32,
   "metadata": {},
   "outputs": [
    {
     "name": "stdout",
     "output_type": "stream",
     "text": [
      "10 20 30 40\n"
     ]
    }
   ],
   "source": [
    "t = (10,20,30,40)\n",
    "\n",
    "a,b,c,d=t\n",
    "print(a,b,c,d)\n",
    "\n",
    "# a,b,c = t # ValueError: too many values to unpack (expected 3)"
   ]
  },
  {
   "cell_type": "markdown",
   "metadata": {},
   "source": [
    "<h2 Style='color:#4A89DC'><b><u>Loop through Tuples</u></b></h2>"
   ]
  },
  {
   "cell_type": "code",
   "execution_count": 37,
   "metadata": {},
   "outputs": [
    {
     "name": "stdout",
     "output_type": "stream",
     "text": [
      "apple banana cherry \n",
      "apple banana cherry "
     ]
    }
   ],
   "source": [
    "t = \"apple\",\"banana\",\"cherry\"\n",
    "\n",
    "for i in t :\n",
    "    print(i,end=\" \")\n",
    "print()\n",
    "\n",
    "i=0\n",
    "while i<len(t):\n",
    "    print(t[i],end=\" \")\n",
    "    i += 1"
   ]
  },
  {
   "cell_type": "markdown",
   "metadata": {},
   "source": [
    "<h3><b>reversed()</h3>\n",
    "\n",
    "- Method computes reverse of given sequence object and return in the form of list"
   ]
  },
  {
   "cell_type": "code",
   "execution_count": 43,
   "metadata": {},
   "outputs": [
    {
     "name": "stdout",
     "output_type": "stream",
     "text": [
      "['n', 'o', 'h', 't', 'y', 'P']\n",
      "['h', 't', 'y', 'p']\n",
      "[8, 7, 6, 5]\n",
      "[4, 3, 5, 2, 1]\n"
     ]
    }
   ],
   "source": [
    "s =\"Python\"\n",
    "print(list(reversed(s)))\n",
    "\n",
    "x = (\"p\",\"y\",\"t\",\"h\")\n",
    "print(list(reversed(x)))\n",
    "\n",
    "y = range(5,9)\n",
    "print(list(reversed(y)))\n",
    "\n",
    "z = [1,2,5,3,4]\n",
    "print(list(reversed(z)))"
   ]
  },
  {
   "cell_type": "markdown",
   "metadata": {},
   "source": [
    "<h3><b>enumerate()</h3>\n",
    "\n",
    "- Syntax : enumerate(iterable, start)\n",
    "- If you pass a string to enumerate(), the output will show you the index and value for each character of the string."
   ]
  },
  {
   "cell_type": "code",
   "execution_count": 54,
   "metadata": {},
   "outputs": [
    {
     "name": "stdout",
     "output_type": "stream",
     "text": [
      "[(0, 'eat'), (1, 'sleep'), (2, 'work')]\n",
      "[(5, 'eat'), (6, 'sleep'), (7, 'work')]\n",
      "[(0, 'e'), (1, 'a'), (2, 't')]\n"
     ]
    }
   ],
   "source": [
    "l1 = (\"eat\",\"sleep\",\"work\")\n",
    "print(list(enumerate(l1)))\n",
    "print(list(enumerate(l1,5)))\n",
    "\n",
    "l1 = (\"eat\")\n",
    "print(list(enumerate(l1)))"
   ]
  },
  {
   "cell_type": "code",
   "execution_count": 52,
   "metadata": {},
   "outputs": [
    {
     "name": "stdout",
     "output_type": "stream",
     "text": [
      "0 → h\n",
      "1 → i\n",
      "2 →  \n",
      "3 → h\n",
      "4 → o\n",
      "5 → w\n",
      "6 →  \n",
      "7 → a\n",
      "8 → r\n",
      "9 → e\n",
      "10 →  \n",
      "11 → y\n",
      "12 → o\n",
      "13 → u\n",
      "(0, 'h') (1, 'i') (2, ' ') (3, 'h') (4, 'o') (5, 'w') (6, ' ') (7, 'a') (8, 'r') (9, 'e') (10, ' ') (11, 'y') (12, 'o') (13, 'u') "
     ]
    }
   ],
   "source": [
    "s = \"hi how are you\"\n",
    "for a,b in enumerate(s): \n",
    "    print(a,\"→\",b)\n",
    "\n",
    "for a in enumerate(s): \n",
    "    print(a,end=\" \") # tuple form"
   ]
  },
  {
   "cell_type": "markdown",
   "metadata": {},
   "source": [
    "<h4><b><span style='color:orange'>Task-2 : </span>WAP to remove ith character from string.</b></h4>"
   ]
  },
  {
   "cell_type": "code",
   "execution_count": 55,
   "metadata": {},
   "outputs": [
    {
     "name": "stdin",
     "output_type": "stream",
     "text": [
      "Enter index to remove:  4\n"
     ]
    },
    {
     "name": "stdout",
     "output_type": "stream",
     "text": [
      "Hell World\n"
     ]
    }
   ],
   "source": [
    "s = \"Hello World\"\n",
    "\n",
    "n = int(input(\"Enter index to remove: \"))\n",
    "print(s[0:n] + s[n+1:])"
   ]
  },
  {
   "cell_type": "markdown",
   "metadata": {},
   "source": [
    "<h4><b><span style='color:orange'>Task-3 : </span>WAP to find all accurances of a sub-string in a given String by ignoring the case.</b></h4>"
   ]
  },
  {
   "cell_type": "code",
   "execution_count": 3,
   "metadata": {},
   "outputs": [
    {
     "name": "stdout",
     "output_type": "stream",
     "text": [
      "Enter String: Usain is from usa.\n",
      "Enter Sub-String: usa\n",
      "2\n"
     ]
    }
   ],
   "source": [
    "s = input(\"Enter String: \").lower()\n",
    "ss = input(\"Enter Sub-String: \").lower()\n",
    "print(s.count(ss))"
   ]
  },
  {
   "cell_type": "markdown",
   "metadata": {},
   "source": [
    "<h4><b><span style='color:orange'>Task-4 : </span>WAP to replace each special symbol with # in the String."
   ]
  },
  {
   "cell_type": "code",
   "execution_count": 18,
   "metadata": {},
   "outputs": [
    {
     "name": "stdout",
     "output_type": "stream",
     "text": [
      "qw###er#t y### dw##GJJ\n"
     ]
    }
   ],
   "source": [
    "import string\n",
    "\n",
    "s = 'qw!@$er$t y*&^ dw*&GJJ'\n",
    "\n",
    "for i in string.punctuation:\n",
    "    s = s.replace(i,\"#\")\n",
    "print(s)       "
   ]
  },
  {
   "cell_type": "markdown",
   "metadata": {},
   "source": [
    "<h4><b><span style='color:orange'>Task-5 : </span>WAP to print Minimum and Maximum element in given tuple without use of min/max/sorting function."
   ]
  },
  {
   "cell_type": "code",
   "execution_count": 21,
   "metadata": {},
   "outputs": [
    {
     "name": "stdout",
     "output_type": "stream",
     "text": [
      "Min =  abc\n",
      "Max =  qwe\n"
     ]
    }
   ],
   "source": [
    "t = (\"abc\",\"def\",\"qwe\")\n",
    "min=max=t[0]\n",
    "\n",
    "for i in t:\n",
    "    if i>max:\n",
    "        max = i;\n",
    "    if i<min:\n",
    "        min = i;\n",
    "print(\"Min = \",min)\n",
    "print(\"Max = \",max)"
   ]
  },
  {
   "cell_type": "markdown",
   "metadata": {},
   "source": [
    "<h4><b><span style='color:orange'>Task-6 : </span>WAP to print Even length words of string."
   ]
  },
  {
   "cell_type": "code",
   "execution_count": 57,
   "metadata": {},
   "outputs": [
    {
     "name": "stdout",
     "output_type": "stream",
     "text": [
      "to\n",
      "LJ\n",
      "University\n"
     ]
    }
   ],
   "source": [
    "s = 'Welcome to LJ University'\n",
    "\n",
    "for i in  s.split():\n",
    "    if len(i)%2==0:\n",
    "        print(i)"
   ]
  },
  {
   "cell_type": "markdown",
   "metadata": {},
   "source": [
    "<h4><b><span style='color:orange'>Task-7 : </span>WAP to capitalize fist and last letter of each word. "
   ]
  },
  {
   "cell_type": "code",
   "execution_count": 60,
   "metadata": {},
   "outputs": [
    {
     "name": "stdout",
     "output_type": "stream",
     "text": [
      "WelcomE TO LJ UniversitY\n"
     ]
    }
   ],
   "source": [
    "s = 'Welcome to LJ University'.title()\n",
    "s1=\"\"\n",
    "for i in s.split():\n",
    "    s1 += i[:-1] + i[-1].upper()+\" \"\n",
    "print(s1.rstrip())"
   ]
  },
  {
   "cell_type": "markdown",
   "metadata": {},
   "source": [
    "<h4><b><span style='color:orange'>Task-8 : </span>WAP to check two Strings are balanced or not."
   ]
  },
  {
   "cell_type": "code",
   "execution_count": 1,
   "metadata": {},
   "outputs": [
    {
     "name": "stdout",
     "output_type": "stream",
     "text": [
      "Balanced\n"
     ]
    }
   ],
   "source": [
    "s1 = \"Note\"\n",
    "s2 = \"Not your type\"\n",
    "temp=0\n",
    "for i in s1:\n",
    "    if s2.find(i)==-1:\n",
    "        temp=1\n",
    "        break\n",
    "if temp==0:\n",
    "    print(\"Balanced\")\n",
    "else:\n",
    "    print(\"Not Balanced\")"
   ]
  },
  {
   "cell_type": "markdown",
   "metadata": {},
   "source": [
    "<h4><b><span style='color:orange'>Task-9: </span>WAP to shift decimal digit and places to left rapping the extra digit around. if shift > number of digit then reverse the number"
   ]
  },
  {
   "cell_type": "code",
   "execution_count": 15,
   "metadata": {},
   "outputs": [
    {
     "name": "stdout",
     "output_type": "stream",
     "text": [
      "Enter number: 56789\n",
      "Enter shift: 3\n",
      "89567\n"
     ]
    }
   ],
   "source": [
    "num = int(input(\"Enter number: \")) \n",
    "s = int(input(\"Enter shift: \"))\n",
    "n = str(num)\n",
    "\n",
    "if s>len(n):\n",
    "    s1 = n[::-1]\n",
    "else:\n",
    "    s1 = n[s:] + n[:s]\n",
    "print(s1)"
   ]
  },
  {
   "cell_type": "markdown",
   "metadata": {},
   "source": [
    "<h4><b><span style='color:orange'>Task-10 : </span>WAP to check the validity of password:</b></h4>\n",
    "    \n",
    "1. Minimum 8 characters\n",
    "2. The alphabets must be between [a-z]\n",
    "3. Atleast one alphabet should be uppercase\n",
    "4. Atleast 1 number between [0-9]\n",
    "5. Atleast 1 character from ( _ or @_$)"
   ]
  },
  {
   "cell_type": "code",
   "execution_count": 69,
   "metadata": {},
   "outputs": [
    {
     "name": "stdin",
     "output_type": "stream",
     "text": [
      "Enter Password:  Sakshi@123\n"
     ]
    },
    {
     "name": "stdout",
     "output_type": "stream",
     "text": [
      "Valid\n"
     ]
    }
   ],
   "source": [
    "pw = input(\"Enter Password: \")\n",
    "l,uc,lc,d,sp = 0,0,0,0,0\n",
    "\n",
    "if len(pw)>7:\n",
    "    l=1\n",
    "    for i in pw:\n",
    "        if i.isupper():\n",
    "            uc = 1\n",
    "        elif  i.islower():\n",
    "            lc=1\n",
    "        elif i.isdigit():\n",
    "            d=1\n",
    "        elif i in '@_$':\n",
    "            sp=1\n",
    "        else:\n",
    "            sp=0\n",
    "            break\n",
    "if l==1 and uc==1 and lc==1 and d==1 and sp == 1:\n",
    "    print(\"Valid\")\n",
    "else:\n",
    "    print(\"Not Valid\")"
   ]
  },
  {
   "cell_type": "code",
   "execution_count": 70,
   "metadata": {},
   "outputs": [
    {
     "name": "stdin",
     "output_type": "stream",
     "text": [
      "Enter Password:  Sakshi_12*\n"
     ]
    },
    {
     "name": "stdout",
     "output_type": "stream",
     "text": [
      "Not Valid\n"
     ]
    }
   ],
   "source": [
    "pw = input(\"Enter Password: \")\n",
    "count = 0\n",
    "if len(pw)>7:\n",
    "    for i in pw:\n",
    "        if i.isupper() or i.islower() or i.isdigit() or i in '@_$':\n",
    "            count += 1\n",
    "if count==len(pw):\n",
    "    print(\"Valid\")\n",
    "else:\n",
    "    print(\"Not Valid\")"
   ]
  },
  {
   "cell_type": "markdown",
   "metadata": {},
   "source": [
    "<h4><b><span style='color:orange'>Task-11: </span>WAP to display all positions of a sub string in a given string</b></h4>"
   ]
  },
  {
   "cell_type": "code",
   "execution_count": 2,
   "metadata": {},
   "outputs": [
    {
     "name": "stdout",
     "output_type": "stream",
     "text": [
      "Position :  0\n",
      "Position :  3\n",
      "Position :  13\n",
      "Position :  16\n",
      "4\n"
     ]
    }
   ],
   "source": [
    "s = \"abcabcdhgfdcbabca\"\n",
    "\n",
    "temp=0\n",
    "for i in range(s.count(\"a\")): \n",
    "    temp = s.find('a',temp, len(s))\n",
    "    print(\"Position : \", temp)\n",
    "    temp += 1\n",
    "    \n",
    "print(s.count(\"a\"))"
   ]
  },
  {
   "cell_type": "markdown",
   "metadata": {},
   "source": [
    "<h4><b><span style='color:orange'>Task-12: </span>WAP to short the characters of the strings : First alphabet symbols followed by numerical values.</b></h4>"
   ]
  },
  {
   "cell_type": "code",
   "execution_count": 5,
   "metadata": {},
   "outputs": [
    {
     "name": "stdin",
     "output_type": "stream",
     "text": [
      "Enter String :  1234qwert\n"
     ]
    },
    {
     "name": "stdout",
     "output_type": "stream",
     "text": [
      "eqrtw1234\n"
     ]
    }
   ],
   "source": [
    "s = input(\"Enter String : \")\n",
    "alpha = \"\"\n",
    "num = \"\"\n",
    "\n",
    "for i in sorted(s) : \n",
    "    if i.isalpha() :\n",
    "        alpha = alpha + i\n",
    "    elif i.isdigit():\n",
    "        num = num + i\n",
    "\n",
    "print(alpha + num)  "
   ]
  },
  {
   "cell_type": "markdown",
   "metadata": {},
   "source": [
    "<h4><b><span style='color:orange'>Task-13: </span>WAP for Input = a4b4c2 : Output = aaaabbbcc</b></h4>"
   ]
  },
  {
   "cell_type": "code",
   "execution_count": 6,
   "metadata": {},
   "outputs": [
    {
     "name": "stdout",
     "output_type": "stream",
     "text": [
      "Output: aaaabbbbcc\n"
     ]
    }
   ],
   "source": [
    "s = 'a4b4c2'\n",
    "op = ''\n",
    "\n",
    "for i in range(0,len(s),2):\n",
    "    op += s[i]*int(s[i+1])\n",
    "\n",
    "print('Output:',op)"
   ]
  },
  {
   "cell_type": "markdown",
   "metadata": {},
   "source": [
    "<h4><b><span style='color:orange'>Task-14: </span>WAP to count number of strings where the length is 3 or more & the first and last character are same from given list of string</b></h4>"
   ]
  },
  {
   "cell_type": "code",
   "execution_count": 14,
   "metadata": {},
   "outputs": [
    {
     "name": "stdout",
     "output_type": "stream",
     "text": [
      "Count of string: 3\n"
     ]
    }
   ],
   "source": [
    "l = [\"abc\",\"xyz\",\"2112\",\"aba\",\"1234551\",\"123456\"]\n",
    "count=0\n",
    "\n",
    "for i in l:\n",
    "    if len(i)>=3 and i[0]==i[len(i)-1]:\n",
    "        count += 1\n",
    "\n",
    "print('Count of string:',count)"
   ]
  }
 ],
 "metadata": {
  "kernelspec": {
   "display_name": "Python 3 (ipykernel)",
   "language": "python",
   "name": "python3"
  },
  "language_info": {
   "codemirror_mode": {
    "name": "ipython",
    "version": 3
   },
   "file_extension": ".py",
   "mimetype": "text/x-python",
   "name": "python",
   "nbconvert_exporter": "python",
   "pygments_lexer": "ipython3",
   "version": "3.13.0"
  }
 },
 "nbformat": 4,
 "nbformat_minor": 4
}
