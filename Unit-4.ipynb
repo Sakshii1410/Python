{
 "cells": [
  {
   "cell_type": "markdown",
   "metadata": {
    "jp-MarkdownHeadingCollapsed": true
   },
   "source": [
    "# <center><font size=7><b>Unit-4 Immutable Data Structure</b></font></center>"
   ]
  },
  {
   "cell_type": "markdown",
   "metadata": {},
   "source": [
    "<h1><b>1. String</b></h1>  \n",
    "\n",
    "<h2 Style='color:#4A89DC'><b><u>Accessing charecters of string</u></b></h2>\n",
    "          \n",
    "<h3>1. by using <b>Index</b></h3>"
   ]
  },
  {
   "cell_type": "code",
   "execution_count": 1,
   "metadata": {},
   "outputs": [
    {
     "name": "stdout",
     "output_type": "stream",
     "text": [
      "J\n",
      "y\n",
      "r\n"
     ]
    }
   ],
   "source": [
    "a = \"LJ University\"\n",
    "print(a[1])\n",
    "print(a[-1])\n",
    "print(a[-5])\n",
    "# print(a[20]) #IndexError: string index out of range"
   ]
  },
  {
   "cell_type": "markdown",
   "metadata": {},
   "source": [
    "<h3>2. by using <b>Slicing operator</b></h3>\n",
    "\n",
    "    Syntax: S[beginindex : endindex : step]"
   ]
  },
  {
   "cell_type": "code",
   "execution_count": 21,
   "metadata": {},
   "outputs": [
    {
     "name": "stdout",
     "output_type": "stream",
     "text": [
      "earnin\n",
      "eri\n",
      "Learnin\n",
      "Python is very easy\n",
      "Learning Python is very easy\n",
      "Learning Python is very easy\n",
      "Lann yhni eyes\n",
      "ysae yrev si nohtyP gninraeL\n",
      "ysa\n",
      "\n"
     ]
    }
   ],
   "source": [
    "s = \"Learning Python is very easy\"\n",
    "print(s[1:7:1])\n",
    "print(s[1:7:2])\n",
    "print(s[:7])\n",
    "print(s[9:])\n",
    "print(s[::])\n",
    "print(s[:])\n",
    "print(s[::2])\n",
    "print(s[::-1])\n",
    "print(s[-1:-4:-1])\n",
    "print(s[-1:-4])"
   ]
  },
  {
   "cell_type": "markdown",
   "metadata": {},
   "source": [
    "<h2 Style='color:#4A89DC'><u><b>Mathematical operation for String</b></h2>\n",
    "\n",
    "<pre><b>+ -> Concatenation\n",
    "* -> Repetition or String Multiplication\n",
    "</b></pre>\n",
    "    "
   ]
  },
  {
   "cell_type": "code",
   "execution_count": 22,
   "metadata": {},
   "outputs": [
    {
     "name": "stdout",
     "output_type": "stream",
     "text": [
      "Sakshi Panchal\n",
      "okokok\n"
     ]
    }
   ],
   "source": [
    "print(\"Sakshi\" + \" Panchal\")\n",
    "print(\"ok\"*3)"
   ]
  },
  {
   "cell_type": "markdown",
   "metadata": {},
   "source": [
    "<h2 Style='color:#4A89DC'><b><u>Comparison of String</u></b></h2>"
   ]
  },
  {
   "cell_type": "code",
   "execution_count": 3,
   "metadata": {},
   "outputs": [
    {
     "name": "stdin",
     "output_type": "stream",
     "text": [
      "Enter First String :  qw\n",
      "Enter Second String :  qw\n"
     ]
    },
    {
     "name": "stdout",
     "output_type": "stream",
     "text": [
      "Both Strings are same\n"
     ]
    }
   ],
   "source": [
    "s1 = input(\"Enter First String : \")\n",
    "s2 = input(\"Enter Second String : \")\n",
    "\n",
    "if s1==s2:\n",
    "    print(\"Both Strings are same\")\n",
    "elif s1<s2:\n",
    "    print(\"Second Strings is greater\")  \n",
    "else:\n",
    "    print(\"First Strings is greater\")  \n",
    "    "
   ]
  },
  {
   "cell_type": "markdown",
   "metadata": {},
   "source": [
    "<h2 Style='color:#4A89DC'><b><u>Joining of String</u></b></h2>\n",
    "\n",
    "    Syntax : s = separator.join (group of string)"
   ]
  },
  {
   "cell_type": "code",
   "execution_count": 32,
   "metadata": {},
   "outputs": [
    {
     "name": "stdout",
     "output_type": "stream",
     "text": [
      "Apple-Banana-Cherry\n"
     ]
    }
   ],
   "source": [
    "t = (\"Apple\", \"Banana\", \"Cherry\")\n",
    "x = \"-\".join(t)\n",
    "print(x)"
   ]
  },
  {
   "cell_type": "markdown",
   "metadata": {},
   "source": [
    "<h2 Style='color:#4A89DC'><b><u>Formatting of string</u></b></h2>"
   ]
  },
  {
   "cell_type": "code",
   "execution_count": 6,
   "metadata": {},
   "outputs": [
    {
     "name": "stdout",
     "output_type": "stream",
     "text": [
      "Arman's salary is 50000 and age is 25\n",
      "50000's salary is 25 and age is Arman\n"
     ]
    }
   ],
   "source": [
    "name = \"Arman\"\n",
    "salary = 50000\n",
    "age = 25\n",
    "print(\"{}'s salary is {} and age is {}\".format(name,salary,age))\n",
    "\n",
    "print(\"{1}'s salary is {2} and age is {0}\".format(name,salary,age))"
   ]
  },
  {
   "cell_type": "markdown",
   "metadata": {},
   "source": [
    "<h2 Style='color:#4A89DC'><b><u>Important functions of String</u></b></h2>\n",
    "\n",
    "<h4>1.len()</h4>"
   ]
  },
  {
   "cell_type": "code",
   "execution_count": 4,
   "metadata": {},
   "outputs": [
    {
     "name": "stdout",
     "output_type": "stream",
     "text": [
      "5\n"
     ]
    }
   ],
   "source": [
    "a = \"LJIET\"\n",
    "print(len(a))"
   ]
  },
  {
   "cell_type": "markdown",
   "metadata": {},
   "source": [
    "<h3>⇨<u>Removing spaces from String</u></h3>\n",
    "    \n",
    "<h4><b>1. rstrip()</u></h4>"
   ]
  },
  {
   "cell_type": "code",
   "execution_count": 17,
   "metadata": {},
   "outputs": [
    {
     "name": "stdout",
     "output_type": "stream",
     "text": [
      "banana   is a Fruit\n",
      "banana is a Fruit\n",
      "8\n",
      "6\n"
     ]
    }
   ],
   "source": [
    "t = \"banana  \"\n",
    "x = t.rstrip()\n",
    "print(t,\"is a Fruit\")\n",
    "print(x,\"is a Fruit\")\n",
    "print(len(t))\n",
    "print(len(x))"
   ]
  },
  {
   "cell_type": "markdown",
   "metadata": {},
   "source": [
    "<h4><b>2. lstrip()</h4>"
   ]
  },
  {
   "cell_type": "code",
   "execution_count": 1,
   "metadata": {},
   "outputs": [
    {
     "name": "stdout",
     "output_type": "stream",
     "text": [
      "  banana is a Fruit\n",
      "banana is a Fruit\n"
     ]
    }
   ],
   "source": [
    "t = \"  banana\"\n",
    "x = t.lstrip()\n",
    "print(t,\"is a Fruit\")\n",
    "print(x,\"is a Fruit\")"
   ]
  },
  {
   "cell_type": "markdown",
   "metadata": {},
   "source": [
    "<h4><b>3. strip()</h4>"
   ]
  },
  {
   "cell_type": "code",
   "execution_count": 2,
   "metadata": {},
   "outputs": [
    {
     "name": "stdout",
     "output_type": "stream",
     "text": [
      "  banana   is a Fruit\n",
      "banana is a Fruit\n"
     ]
    }
   ],
   "source": [
    "t = \"  banana  \"\n",
    "x = t.strip()\n",
    "print(t,\"is a Fruit\")\n",
    "print(x,\"is a Fruit\")"
   ]
  },
  {
   "cell_type": "markdown",
   "metadata": {},
   "source": [
    "<b>Different Cases:</b>"
   ]
  },
  {
   "cell_type": "code",
   "execution_count": 15,
   "metadata": {},
   "outputs": [
    {
     "name": "stdout",
     "output_type": "stream",
     "text": [
      "banan\n",
      "anana\n",
      "nan\n",
      "\n",
      " banana \n",
      " banana \n",
      " banana \n",
      "\n",
      "b\n",
      "nana\n",
      "\n",
      "\n",
      "banad\n",
      "dana\n",
      "d\n",
      "\n"
     ]
    }
   ],
   "source": [
    "t = \"banana\"\n",
    "x = t.rstrip(\"a\")\n",
    "y = t.lstrip(\"b\")\n",
    "z = t.strip(\"ab\")\n",
    "print(x)\n",
    "print(y)\n",
    "print(z)\n",
    "print()\n",
    "\n",
    "t = \" banana \"\n",
    "x = t.rstrip(\"a\")\n",
    "y = t.lstrip(\"b\")\n",
    "z = t.strip(\"ab\")\n",
    "print(x)\n",
    "print(y)\n",
    "print(z)\n",
    "print()\n",
    "\n",
    "t = \"banana\"\n",
    "x = t.rstrip(\"an\")\n",
    "y = t.lstrip(\"ab\")\n",
    "z = t.strip(\"anb\")\n",
    "\n",
    "print(x)\n",
    "print(y)\n",
    "print(z)\n",
    "print()\n",
    "\n",
    "t = \"banadana\"\n",
    "x = t.rstrip(\"an\")\n",
    "y = t.lstrip(\"ban\")\n",
    "z = t.strip(\"anb\")\n",
    "print(x)\n",
    "print(y)\n",
    "print(z)\n",
    "print()"
   ]
  },
  {
   "cell_type": "markdown",
   "metadata": {},
   "source": [
    "<h3>⇨<u>Changing the case of string</u></h3>\n",
    "<h4><b>1. upper()</h4>"
   ]
  },
  {
   "cell_type": "code",
   "execution_count": 31,
   "metadata": {},
   "outputs": [
    {
     "name": "stdout",
     "output_type": "stream",
     "text": [
      "HELLO FRIENDS\n"
     ]
    }
   ],
   "source": [
    "s = \"Hello Friends\"\n",
    "x = s.upper()\n",
    "print(x)"
   ]
  },
  {
   "cell_type": "markdown",
   "metadata": {},
   "source": [
    "<h4><b>2.lower()</b></h4>"
   ]
  },
  {
   "cell_type": "code",
   "execution_count": 33,
   "metadata": {},
   "outputs": [
    {
     "name": "stdout",
     "output_type": "stream",
     "text": [
      "hello friends\n"
     ]
    }
   ],
   "source": [
    "s = \"HELLO FRIENDS\"\n",
    "x = s.lower()\n",
    "print(x)"
   ]
  },
  {
   "cell_type": "markdown",
   "metadata": {},
   "source": [
    "<h4><b>3.swapcase()</h4>"
   ]
  },
  {
   "cell_type": "code",
   "execution_count": 34,
   "metadata": {},
   "outputs": [
    {
     "name": "stdout",
     "output_type": "stream",
     "text": [
      "hELLO mY NAME IS sakshi\n"
     ]
    }
   ],
   "source": [
    "s = \"Hello My name is SAKSHI\"\n",
    "x = s.swapcase()\n",
    "print(x)"
   ]
  },
  {
   "cell_type": "markdown",
   "metadata": {},
   "source": [
    "<h4><b>4.title()</h4>"
   ]
  },
  {
   "cell_type": "code",
   "execution_count": 42,
   "metadata": {},
   "outputs": [
    {
     "name": "stdout",
     "output_type": "stream",
     "text": [
      "Hello How Are You?\n"
     ]
    }
   ],
   "source": [
    "s = \"Hello how are you?\"\n",
    "x = s.title()\n",
    "print(x)"
   ]
  },
  {
   "cell_type": "markdown",
   "metadata": {},
   "source": [
    "<h4><b>5.capitalize()</h4>"
   ]
  },
  {
   "cell_type": "code",
   "execution_count": 35,
   "metadata": {},
   "outputs": [
    {
     "name": "stdout",
     "output_type": "stream",
     "text": [
      "Hello how are you?\n"
     ]
    }
   ],
   "source": [
    "s = \"hello how are you?\"\n",
    "x = s.capitalize()\n",
    "print(x)"
   ]
  },
  {
   "cell_type": "markdown",
   "metadata": {},
   "source": [
    "<h3>⇨<u>To check Type of characters in a string (check function)</u></h3>\n",
    "\n",
    "    → Answer only in True or False\n",
    "    \n",
    "<h4><b>1. isalnum()</b></h4> \n",
    "\n",
    "- (A-Z, a-z, 0-9)\n"
   ]
  },
  {
   "cell_type": "code",
   "execution_count": 48,
   "metadata": {},
   "outputs": [
    {
     "name": "stdout",
     "output_type": "stream",
     "text": [
      "True\n"
     ]
    }
   ],
   "source": [
    "t = \"company123\"\n",
    "x = t.isalnum()\n",
    "print(x)"
   ]
  },
  {
   "cell_type": "markdown",
   "metadata": {},
   "source": [
    "<h4><b>2. isalpha()</b></h4>\n",
    "\n",
    "- (A-Z, a-z)"
   ]
  },
  {
   "cell_type": "code",
   "execution_count": 50,
   "metadata": {},
   "outputs": [
    {
     "name": "stdout",
     "output_type": "stream",
     "text": [
      "True\n"
     ]
    }
   ],
   "source": [
    "t = \"company\"\n",
    "x = t.isalpha()\n",
    "print(x)"
   ]
  },
  {
   "cell_type": "markdown",
   "metadata": {},
   "source": [
    "<h4><b>3. isdigit() or isnumeric()</b></h4>\n",
    "\n",
    "- isdigit --> (0-9, superscript, subscript)\n",
    "- isnumeric --> (0-9, superscript, subscript, roman, vulgur function)\n"
   ]
  },
  {
   "cell_type": "code",
   "execution_count": 51,
   "metadata": {},
   "outputs": [
    {
     "name": "stdout",
     "output_type": "stream",
     "text": [
      "True\n"
     ]
    }
   ],
   "source": [
    "t = \"5080\"\n",
    "x = t.isdigit()\n",
    "print(x)"
   ]
  },
  {
   "cell_type": "markdown",
   "metadata": {},
   "source": [
    "<h4><b>4. islower()</h4>"
   ]
  },
  {
   "cell_type": "code",
   "execution_count": 55,
   "metadata": {},
   "outputs": [
    {
     "name": "stdout",
     "output_type": "stream",
     "text": [
      "True\n"
     ]
    }
   ],
   "source": [
    "t = \"hello world!\"\n",
    "x = t.islower()\n",
    "print(x)"
   ]
  },
  {
   "cell_type": "markdown",
   "metadata": {},
   "source": [
    "<h4><b>5. isupper()</h4>"
   ]
  },
  {
   "cell_type": "code",
   "execution_count": 56,
   "metadata": {},
   "outputs": [
    {
     "name": "stdout",
     "output_type": "stream",
     "text": [
      "True\n"
     ]
    }
   ],
   "source": [
    "t = \"HELLO WORLD\"\n",
    "x = t.isupper()\n",
    "print(x)"
   ]
  },
  {
   "cell_type": "markdown",
   "metadata": {},
   "source": [
    "<h4><b>6. istitle()</h4>"
   ]
  },
  {
   "cell_type": "code",
   "execution_count": 58,
   "metadata": {},
   "outputs": [
    {
     "name": "stdout",
     "output_type": "stream",
     "text": [
      "False\n",
      "True\n",
      "True\n",
      "True\n"
     ]
    }
   ],
   "source": [
    "a = \" HELLO WELCOME\"\n",
    "b = \" Hello\"\n",
    "c = \" 22 Names\"\n",
    "d = \"This Is  %$\"\n",
    "print(a.istitle())\n",
    "print(b.istitle())\n",
    "print(c.istitle())\n",
    "print(d.istitle())"
   ]
  },
  {
   "cell_type": "markdown",
   "metadata": {},
   "source": [
    "<h4><b>7. isidentifier()</h4>"
   ]
  },
  {
   "cell_type": "code",
   "execution_count": 64,
   "metadata": {},
   "outputs": [
    {
     "name": "stdout",
     "output_type": "stream",
     "text": [
      "True\n",
      "True\n",
      "False\n",
      "False\n"
     ]
    }
   ],
   "source": [
    "a = \"MyDemo\"\n",
    "b = \"Demo20\"\n",
    "c = \"2Demo\"\n",
    "d = \"My Demo\"\n",
    "print(a.isidentifier())\n",
    "print(b.isidentifier())\n",
    "print(c.isidentifier())\n",
    "print(d.isidentifier())"
   ]
  },
  {
   "cell_type": "markdown",
   "metadata": {},
   "source": [
    "<h4><b>8. isspace()</h4>"
   ]
  },
  {
   "cell_type": "code",
   "execution_count": 65,
   "metadata": {},
   "outputs": [
    {
     "name": "stdout",
     "output_type": "stream",
     "text": [
      "True\n"
     ]
    }
   ],
   "source": [
    "s = \" \"\n",
    "x = s.isspace()\n",
    "print(x)"
   ]
  },
  {
   "cell_type": "markdown",
   "metadata": {},
   "source": [
    "<h3 style='color:#'><b>Task 1 : Calculate a count of alphabets, upper-case & lower-case letters, digits, spaces, special characters and words in String."
   ]
  },
  {
   "cell_type": "code",
   "execution_count": 11,
   "metadata": {},
   "outputs": [
    {
     "name": "stdout",
     "output_type": "stream",
     "text": [
      "Alphabets : 16\n",
      "Upper-case letters : 3\n",
      "lower-case letters : 13\n",
      "Digits : 5\n",
      "Spaces : 4\n",
      "Special characters : 4\n",
      "words : 5\n"
     ]
    }
   ],
   "source": [
    "s = \"Pyt@h$%on is 124 Very Ea$sy43\"\n",
    "alpha,up,low,dig,space,sp,word=0,0,0,0,0,0,0\n",
    "\n",
    "for i in s:\n",
    "    if i.isalpha():\n",
    "        alpha += 1;\n",
    "        if i.isupper():\n",
    "            up += 1;\n",
    "        else:\n",
    "            low += 1;\n",
    "    elif i.isdigit():\n",
    "        dig += 1;\n",
    "    elif i.isspace():\n",
    "        space += 1;\n",
    "    else:\n",
    "        sp += 1\n",
    "word = space+1\n",
    "\n",
    "print('Alphabets :',alpha)\n",
    "print('Upper-case letters :',up)\n",
    "print('lower-case letters :',low)\n",
    "print('Digits :',dig)\n",
    "print('Spaces :',space)\n",
    "print('Special characters :',sp)\n",
    "print(\"words :\",word)"
   ]
  },
  {
   "cell_type": "markdown",
   "metadata": {},
   "source": [
    "<h4><b>find()</b></h4>\n",
    "    \n",
    "    Syntax : s.find(substring)\n",
    "             s.find(substring, begin, end)"
   ]
  },
  {
   "cell_type": "code",
   "execution_count": 14,
   "metadata": {},
   "outputs": [
    {
     "name": "stdout",
     "output_type": "stream",
     "text": [
      "2\n",
      "25\n",
      "-1\n",
      "9\n"
     ]
    }
   ],
   "source": [
    "s = \"Learning Python is very easy\"\n",
    "print(s.find(\"a\"))\n",
    "print(s.find(\"a\",3,50))\n",
    "print(s.find(\"d\"))\n",
    "print(s.find(\"Python\"))"
   ]
  },
  {
   "cell_type": "markdown",
   "metadata": {},
   "source": [
    "<h4><b>count()</b></h4>\n",
    "\n",
    "    Syntax : s.count(substring)\n",
    "             s.count(substring, begin, end)"
   ]
  },
  {
   "cell_type": "code",
   "execution_count": 83,
   "metadata": {},
   "outputs": [
    {
     "name": "stdout",
     "output_type": "stream",
     "text": [
      "3\n",
      "1\n"
     ]
    }
   ],
   "source": [
    "s = \"abcdabcdefgabcxyz\"\n",
    "print(s.count(\"a\"))\n",
    "print(s.count(\"a\",5,20))"
   ]
  },
  {
   "cell_type": "markdown",
   "metadata": {},
   "source": [
    "<h4><b>replace()</b></h4>\n",
    "\n",
    "    Syntax : s.replace(old string, new string)\n"
   ]
  },
  {
   "cell_type": "code",
   "execution_count": 18,
   "metadata": {},
   "outputs": [
    {
     "name": "stdout",
     "output_type": "stream",
     "text": [
      "Learning Python is very easy\n"
     ]
    }
   ],
   "source": [
    "s = \"Learning Java is very easy\"\n",
    "s1 = s.replace(\"Java\",\"Python\")\n",
    "print(s1)"
   ]
  },
  {
   "cell_type": "markdown",
   "metadata": {},
   "source": [
    "<h4><b>split()</h4>\n",
    "\n",
    "    Syntax: s.spilt(separator)\n",
    "    \n",
    "    → Strings are stored in list"
   ]
  },
  {
   "cell_type": "code",
   "execution_count": 19,
   "metadata": {},
   "outputs": [
    {
     "name": "stdout",
     "output_type": "stream",
     "text": [
      "['LJ', 'University']\n",
      "LJ\n",
      "University\n",
      "['11', '11', '2024']\n"
     ]
    }
   ],
   "source": [
    "s = \"LJ University\"\n",
    "s1 = s.split()\n",
    "print(s1)\n",
    "\n",
    "for i in s1:\n",
    "    print(i)\n",
    "    \n",
    "s = \"11-11-2024\"\n",
    "l = s.split(\"-\")\n",
    "print(l)"
   ]
  },
  {
   "cell_type": "markdown",
   "metadata": {},
   "source": [
    "<h3>⇨<u>Remove punctuation using translate() function</h3>\n",
    "<h4><b>translate() with maketrans function</h4>\n",
    "\n",
    "        maketrans → Static method on Str type\n",
    "                  → 3 argument version\n",
    "                  → First two equal length strings\n",
    "                  → Third-each special character in string is mapped to none"
   ]
  },
  {
   "cell_type": "code",
   "execution_count": 20,
   "metadata": {},
   "outputs": [
    {
     "name": "stdout",
     "output_type": "stream",
     "text": [
      "!\"#$%&'()*+,-./:;<=>?@[\\]^_`{|}~\n",
      "32\n",
      "{33: None, 34: None, 35: None, 36: None, 37: None, 38: None, 39: None, 40: None, 41: None, 42: None, 43: None, 44: None, 45: None, 46: None, 47: None, 58: None, 59: None, 60: None, 61: None, 62: None, 63: None, 64: None, 91: None, 92: None, 93: None, 94: None, 95: None, 96: None, 123: None, 124: None, 125: None, 126: None}\n",
      "\n",
      "{97: 98, 33: None, 34: None, 35: None, 36: None, 37: None, 38: None, 39: None, 40: None, 41: None, 42: None, 43: None, 44: None, 45: None, 46: None, 47: None, 58: None, 59: None, 60: None, 61: None, 62: None, 63: None, 64: None, 91: None, 92: None, 93: None, 94: None, 95: None, 96: None, 123: None, 124: None, 125: None, 126: None}\n"
     ]
    }
   ],
   "source": [
    "import string\n",
    "print(string.punctuation)\n",
    "print(len(string.punctuation))\n",
    "\n",
    "print(str.maketrans(\"\",\"\",string.punctuation))\n",
    "print()\n",
    "print(str.maketrans(\"a\",\"b\",string.punctuation))"
   ]
  },
  {
   "cell_type": "code",
   "execution_count": 21,
   "metadata": {},
   "outputs": [
    {
     "name": "stdout",
     "output_type": "stream",
     "text": [
      "{101: 32, 36: None, 33: None}\n",
      "Pyt@hon is v ry  asy\n"
     ]
    }
   ],
   "source": [
    "s = \"Pyt@$hon is very$ easy!!\"\n",
    "x = str.maketrans(\"e\",\" \",\"$!\")\n",
    "print(x)\n",
    "s = s.translate(x)\n",
    "print(s)"
   ]
  },
  {
   "cell_type": "code",
   "execution_count": 22,
   "metadata": {},
   "outputs": [
    {
     "name": "stdout",
     "output_type": "stream",
     "text": [
      "Hi Joe!!\n"
     ]
    }
   ],
   "source": [
    "t = \"Hi Sam!!\"\n",
    "x = \"mSa\"\n",
    "y = \"eJo\"\n",
    "table = t.maketrans(x,y)\n",
    "print(t.translate(table))"
   ]
  },
  {
   "cell_type": "markdown",
   "metadata": {},
   "source": [
    "<h1><b>2. Tuple</h1>\n",
    "\n",
    "- Same as list except it is immutable\n",
    "- Read only version of list\n",
    "- Data is fixed and never changes then we should go for tuple\n",
    "- Insertion order is preserved\n",
    "- Duplicate are allowed\n",
    "- Heterogeneous object are allowed\n",
    "- Index will play important role in tuple\n",
    "- Supports both +ve and -ve index\n",
    "- Represent with () paranthesis with comma separator"
   ]
  },
  {
   "cell_type": "markdown",
   "metadata": {},
   "source": [
    "<h2 Style='color:#4A89DC'><u><b>Creation of Tuple</h2>"
   ]
  },
  {
   "cell_type": "code",
   "execution_count": 23,
   "metadata": {},
   "outputs": [
    {
     "name": "stdout",
     "output_type": "stream",
     "text": [
      "<class 'tuple'>\n",
      "<class 'int'>\n",
      "<class 'tuple'>\n"
     ]
    }
   ],
   "source": [
    "t = ()\n",
    "print(type(t))\n",
    "\n",
    "t = (10)\n",
    "print(type(t))\n",
    "\n",
    "t = (10,)\n",
    "print(type(t))"
   ]
  },
  {
   "cell_type": "code",
   "execution_count": 24,
   "metadata": {},
   "outputs": [
    {
     "name": "stdout",
     "output_type": "stream",
     "text": [
      "(10, 12, 14, 16, 18)\n"
     ]
    }
   ],
   "source": [
    "t = tuple(range(10,20,2))\n",
    "print(t)"
   ]
  },
  {
   "cell_type": "markdown",
   "metadata": {},
   "source": [
    "<h2 Style='color:#4A89DC'><b><u>Accessing Element of Tuple</u></b></h2>\n",
    "<h3>1. by using <b>Index</b></h3>"
   ]
  },
  {
   "cell_type": "code",
   "execution_count": 26,
   "metadata": {},
   "outputs": [
    {
     "name": "stdout",
     "output_type": "stream",
     "text": [
      "30\n",
      "60\n",
      "20\n"
     ]
    }
   ],
   "source": [
    "t = (10,20,30,40,50,60)\n",
    "print(t[2])\n",
    "print(t[-1])\n",
    "print(t[-5])\n",
    "# print(t[10]) # IndexError: tuple index out of range"
   ]
  },
  {
   "cell_type": "markdown",
   "metadata": {},
   "source": [
    "<h3>2. by using <b>Slicing operator</b></h3>"
   ]
  },
  {
   "cell_type": "code",
   "execution_count": 27,
   "metadata": {},
   "outputs": [
    {
     "name": "stdout",
     "output_type": "stream",
     "text": [
      "(30, 40, 50)\n",
      "(40, 50, 60)\n",
      "(10, 30, 50)\n",
      "(60, 50, 40)\n",
      "()\n"
     ]
    }
   ],
   "source": [
    "t = (10,20,30,40,50,60)\n",
    "print(t[2:5])\n",
    "print(t[3:100])\n",
    "print(t[::2])\n",
    "print(t[-1:-4:-1])\n",
    "print(t[-1:-4])"
   ]
  },
  {
   "cell_type": "markdown",
   "metadata": {},
   "source": [
    "<h2 Style='color:#4A89DC'><b><u>Immutability</h2>"
   ]
  },
  {
   "cell_type": "code",
   "execution_count": 29,
   "metadata": {},
   "outputs": [
    {
     "ename": "TypeError",
     "evalue": "'tuple' object does not support item assignment",
     "output_type": "error",
     "traceback": [
      "\u001b[1;31m---------------------------------------------------------------------------\u001b[0m",
      "\u001b[1;31mTypeError\u001b[0m                                 Traceback (most recent call last)",
      "Cell \u001b[1;32mIn[29], line 2\u001b[0m\n\u001b[0;32m      1\u001b[0m t \u001b[38;5;241m=\u001b[39m (\u001b[38;5;241m10\u001b[39m,\u001b[38;5;241m20\u001b[39m,\u001b[38;5;241m30\u001b[39m,\u001b[38;5;241m40\u001b[39m)\n\u001b[1;32m----> 2\u001b[0m \u001b[43mt\u001b[49m\u001b[43m[\u001b[49m\u001b[38;5;241;43m2\u001b[39;49m\u001b[43m]\u001b[49m \u001b[38;5;241m=\u001b[39m \u001b[38;5;241m70\u001b[39m\n\u001b[0;32m      3\u001b[0m \u001b[38;5;28mprint\u001b[39m(t)\n",
      "\u001b[1;31mTypeError\u001b[0m: 'tuple' object does not support item assignment"
     ]
    }
   ],
   "source": [
    "t = (10,20,30,40)\n",
    "t[2] = 70\n",
    "print(t)"
   ]
  },
  {
   "cell_type": "markdown",
   "metadata": {},
   "source": [
    "<h2 Style='color:#4A89DC'><u><b>Mathematical operators for Tuple</b></h2>\n",
    "\n",
    "<pre><b>+ -> Concatenation\n",
    "* -> Repetition\n",
    "</b></pre>"
   ]
  },
  {
   "cell_type": "code",
   "execution_count": 30,
   "metadata": {},
   "outputs": [
    {
     "name": "stdout",
     "output_type": "stream",
     "text": [
      "(101, 20, 30, 40, 50, 60)\n",
      "(101, 20, 30, 101, 20, 30, 101, 20, 30)\n"
     ]
    }
   ],
   "source": [
    "t1 = (101,20,30)\n",
    "t2 = (40,50,60)\n",
    "\n",
    "print(t1+t2)\n",
    "print(t1*3)"
   ]
  },
  {
   "cell_type": "markdown",
   "metadata": {},
   "source": [
    "<h2 Style='color:#4A89DC'><b><u>Important functions of Tuple</u></b></h2>\n",
    "<h3><b>1. len()</h3>"
   ]
  },
  {
   "cell_type": "code",
   "execution_count": 33,
   "metadata": {},
   "outputs": [
    {
     "name": "stdout",
     "output_type": "stream",
     "text": [
      "4\n"
     ]
    }
   ],
   "source": [
    "t = (10,20,30,40)\n",
    "print(len(t))"
   ]
  },
  {
   "cell_type": "markdown",
   "metadata": {},
   "source": [
    "<h4><b>2. count()</b></h4>"
   ]
  },
  {
   "cell_type": "code",
   "execution_count": 34,
   "metadata": {},
   "outputs": [
    {
     "name": "stdout",
     "output_type": "stream",
     "text": [
      "2\n",
      "1\n",
      "0\n"
     ]
    }
   ],
   "source": [
    "t = (10,20,30,10,20,40)\n",
    "print(t.count(10))\n",
    "print(t.count(40))\n",
    "print(t.count(50))"
   ]
  },
  {
   "cell_type": "markdown",
   "metadata": {},
   "source": [
    "<h4><b>3. index()</b></h4>"
   ]
  },
  {
   "cell_type": "code",
   "execution_count": 35,
   "metadata": {},
   "outputs": [
    {
     "name": "stdout",
     "output_type": "stream",
     "text": [
      "0\n"
     ]
    }
   ],
   "source": [
    "t = (10,20,10,10,20)\n",
    "print(t.index(10))\n",
    "# print(t.index(30)) # ValueError: tuple.index(x): x not in tuple"
   ]
  },
  {
   "cell_type": "markdown",
   "metadata": {},
   "source": [
    "<h4><b>4.sorted</b></h4>"
   ]
  },
  {
   "cell_type": "code",
   "execution_count": 36,
   "metadata": {},
   "outputs": [
    {
     "name": "stdout",
     "output_type": "stream",
     "text": [
      "[10, 20, 30, 40]\n",
      "[40, 30, 20, 10]\n"
     ]
    }
   ],
   "source": [
    "t = (40,10,30,20)\n",
    "t1 = sorted(t)\n",
    "print(t1)\n",
    "t1 = sorted(t, reverse=True)\n",
    "print(t1)"
   ]
  },
  {
   "cell_type": "markdown",
   "metadata": {},
   "source": [
    "<h4><b>.</b></h4>"
   ]
  },
  {
   "cell_type": "code",
   "execution_count": 37,
   "metadata": {},
   "outputs": [
    {
     "name": "stdout",
     "output_type": "stream",
     "text": [
      "10\n",
      "70\n",
      "ABC\n",
      "def\n"
     ]
    }
   ],
   "source": [
    "t = (10,20,30,60,70,40)\n",
    "print(min(t))\n",
    "print(max(t))\n",
    "\n",
    "t = (\"abc\",\"ABC\",\"def\",\"dXZ\")\n",
    "print(min(t))\n",
    "print(max(t))\n",
    "\n",
    "t = (1,2,43,'a',\"sa\")\n",
    "# print(min(t)) #TypeError: '<' not supported between instances of 'str' and 'int'"
   ]
  },
  {
   "cell_type": "code",
   "execution_count": 38,
   "metadata": {},
   "outputs": [
    {
     "name": "stdout",
     "output_type": "stream",
     "text": [
      "apple\n",
      "banana\n",
      "cherry\n"
     ]
    }
   ],
   "source": [
    "t = \"apple\",\"banana\",\"cherry\"\n",
    "i=0\n",
    "while i<len(t):\n",
    "    print(t[i])\n",
    "    i += 1"
   ]
  },
  {
   "cell_type": "code",
   "execution_count": 44,
   "metadata": {},
   "outputs": [
    {
     "name": "stdout",
     "output_type": "stream",
     "text": [
      "[(0, 'eat'), (1, 'sleep'), (2, 'work')]\n",
      "[(0, 'e'), (1, 'a'), (2, 't')]\n"
     ]
    }
   ],
   "source": [
    "l1 = (\"eat\",\"sleep\",\"work\")\n",
    "print(list(enumerate(l1)))\n",
    "\n",
    "l1 = (\"eat\")\n",
    "print(list(enumerate(l1)))"
   ]
  },
  {
   "cell_type": "code",
   "execution_count": 40,
   "metadata": {},
   "outputs": [
    {
     "name": "stdout",
     "output_type": "stream",
     "text": [
      "0 → h\n",
      "1 → i\n",
      "2 →  \n",
      "3 → h\n",
      "4 → o\n",
      "5 → w\n",
      "6 →  \n",
      "7 → a\n",
      "8 → r\n",
      "9 → e\n",
      "10 →  \n",
      "11 → y\n",
      "12 → o\n",
      "13 → u\n"
     ]
    }
   ],
   "source": [
    "s = \"hi how are you\"\n",
    "for a,b in enumerate(s):\n",
    "    print(a,\"→\",b)"
   ]
  },
  {
   "cell_type": "code",
   "execution_count": 43,
   "metadata": {},
   "outputs": [
    {
     "name": "stdin",
     "output_type": "stream",
     "text": [
      "Enter index to remove:  123\n"
     ]
    },
    {
     "name": "stdout",
     "output_type": "stream",
     "text": [
      "Hello World\n"
     ]
    }
   ],
   "source": [
    "s = \"Hello World\"\n",
    "\n",
    "n = int(input(\"Enter index to remove: \"))\n",
    "print(s[0:n] + s[n+1:])"
   ]
  },
  {
   "cell_type": "markdown",
   "metadata": {},
   "source": [
    "WAP to find all accurances of a sub-string in a given String by ignoring the case."
   ]
  },
  {
   "cell_type": "code",
   "execution_count": 3,
   "metadata": {},
   "outputs": [
    {
     "name": "stdout",
     "output_type": "stream",
     "text": [
      "Enter String: Usain is from usa.\n",
      "Enter Sub-String: usa\n",
      "2\n"
     ]
    }
   ],
   "source": [
    "s = input(\"Enter String: \").lower()\n",
    "ss = input(\"Enter Sub-String: \").lower()\n",
    "print(s.count(ss))"
   ]
  },
  {
   "cell_type": "markdown",
   "metadata": {},
   "source": [
    "WAP to replce each sp symbol with # in the String"
   ]
  },
  {
   "cell_type": "code",
   "execution_count": 18,
   "metadata": {},
   "outputs": [
    {
     "name": "stdout",
     "output_type": "stream",
     "text": [
      "qw###er#t y### dw##GJJ\n"
     ]
    }
   ],
   "source": [
    "import string\n",
    "\n",
    "s = 'qw!@$er$t y*&^ dw*&GJJ'\n",
    "\n",
    "for i in string.punctuation:\n",
    "    s = s.replace(i,\"#\")\n",
    "print(s)       "
   ]
  },
  {
   "cell_type": "markdown",
   "metadata": {},
   "source": [
    "WAP to print min and max element in given tuple without use of min/max/sorting fun"
   ]
  },
  {
   "cell_type": "code",
   "execution_count": 21,
   "metadata": {},
   "outputs": [
    {
     "name": "stdout",
     "output_type": "stream",
     "text": [
      "Min =  abc\n",
      "Max =  qwe\n"
     ]
    }
   ],
   "source": [
    "t = (\"abc\",\"def\",\"qwe\")\n",
    "min=max=t[0]\n",
    "\n",
    "for i in t:\n",
    "    if i>max:\n",
    "        max = i;\n",
    "    if i<min:\n",
    "        min = i;\n",
    "print(\"Min = \",min)\n",
    "print(\"Max = \",max)"
   ]
  },
  {
   "cell_type": "markdown",
   "metadata": {},
   "source": [
    "WAP to print even length words of string"
   ]
  },
  {
   "cell_type": "code",
   "execution_count": 27,
   "metadata": {},
   "outputs": [
    {
     "name": "stdout",
     "output_type": "stream",
     "text": [
      "to\n",
      "LJ\n",
      "University\n"
     ]
    }
   ],
   "source": [
    "s = 'Welcome to LJ University'\n",
    "\n",
    "for i in  s.split():\n",
    "    if len(i)%2==0:\n",
    "        print(i)"
   ]
  },
  {
   "cell_type": "markdown",
   "metadata": {},
   "source": [
    "WAP to capitalize 1 and last letter of each word "
   ]
  },
  {
   "cell_type": "code",
   "execution_count": 39,
   "metadata": {},
   "outputs": [
    {
     "name": "stdout",
     "output_type": "stream",
     "text": [
      "WelcomE TO LJ UniversitY\n"
     ]
    }
   ],
   "source": [
    "s = 'Welcome to LJ University'.title()\n",
    "s1=\"\"\n",
    "for i in s.split():\n",
    "    s1 += i[:-1] + i[-1].upper()+\" \"\n",
    "print(s1.rstrip())"
   ]
  },
  {
   "cell_type": "markdown",
   "metadata": {},
   "source": [
    "WAP to check 2 Strings are balanced or not "
   ]
  },
  {
   "cell_type": "code",
   "execution_count": 45,
   "metadata": {},
   "outputs": [
    {
     "name": "stdout",
     "output_type": "stream",
     "text": [
      "Balanced\n"
     ]
    }
   ],
   "source": [
    "s1 = \"hi\"\n",
    "s2 = \"hello sakshi\"\n",
    "temp=0\n",
    "for i in s1:\n",
    "    if s2.find(i)==-1:\n",
    "        temp=1\n",
    "        break\n",
    "if temp==1:\n",
    "    print(\"Not\")\n",
    "else:\n",
    "    print(\"Balanced\")"
   ]
  },
  {
   "cell_type": "markdown",
   "metadata": {},
   "source": [
    "WAP to shift decimal digit and places to left rapping the extra digit around if shift > no. of digit then reverse"
   ]
  },
  {
   "cell_type": "code",
   "execution_count": 15,
   "metadata": {},
   "outputs": [
    {
     "name": "stdout",
     "output_type": "stream",
     "text": [
      "Enter number: 56789\n",
      "Enter shift: 3\n",
      "89567\n"
     ]
    }
   ],
   "source": [
    "num = int(input(\"Enter number: \")) \n",
    "s = int(input(\"Enter shift: \"))\n",
    "n = str(num)\n",
    "\n",
    "if s>len(n):\n",
    "    s1 = n[::-1]\n",
    "else:\n",
    "    s1 = n[s:] + n[:s]\n",
    "print(s1)"
   ]
  },
  {
   "cell_type": "markdown",
   "metadata": {},
   "source": [
    "WAP to check the validity of password \n",
    "1. Min 8 char\n",
    "2. The alphas must be betn [a-z]\n",
    "3. Atleast one alpha should be uppca\n",
    "4. Atleast 1 num bt [0-9]\n",
    "5. Atleast 1 char from ( _ or @_$)"
   ]
  },
  {
   "cell_type": "code",
   "execution_count": 28,
   "metadata": {},
   "outputs": [
    {
     "name": "stdout",
     "output_type": "stream",
     "text": [
      "Enter Password: gjtg\n"
     ]
    },
    {
     "ename": "TypeError",
     "evalue": "'int' object is not callable",
     "output_type": "error",
     "traceback": [
      "\u001b[1;31m---------------------------------------------------------------------------\u001b[0m",
      "\u001b[1;31mTypeError\u001b[0m                                 Traceback (most recent call last)",
      "\u001b[1;32m<ipython-input-28-91d02a530c3c>\u001b[0m in \u001b[0;36m<module>\u001b[1;34m\u001b[0m\n\u001b[0;32m      2\u001b[0m \u001b[0ml\u001b[0m\u001b[1;33m,\u001b[0m\u001b[0muc\u001b[0m\u001b[1;33m,\u001b[0m\u001b[0mlc\u001b[0m\u001b[1;33m,\u001b[0m\u001b[0md\u001b[0m\u001b[1;33m,\u001b[0m\u001b[0msp\u001b[0m \u001b[1;33m=\u001b[0m \u001b[1;36m0\u001b[0m\u001b[1;33m,\u001b[0m\u001b[1;36m0\u001b[0m\u001b[1;33m,\u001b[0m\u001b[1;36m0\u001b[0m\u001b[1;33m,\u001b[0m\u001b[1;36m0\u001b[0m\u001b[1;33m,\u001b[0m\u001b[1;36m0\u001b[0m\u001b[1;33m\u001b[0m\u001b[1;33m\u001b[0m\u001b[0m\n\u001b[0;32m      3\u001b[0m \u001b[1;33m\u001b[0m\u001b[0m\n\u001b[1;32m----> 4\u001b[1;33m \u001b[1;32mif\u001b[0m \u001b[0mlen\u001b[0m\u001b[1;33m(\u001b[0m\u001b[0mpw\u001b[0m\u001b[1;33m)\u001b[0m\u001b[1;33m>\u001b[0m\u001b[1;36m7\u001b[0m\u001b[1;33m:\u001b[0m\u001b[1;33m\u001b[0m\u001b[1;33m\u001b[0m\u001b[0m\n\u001b[0m\u001b[0;32m      5\u001b[0m     \u001b[0ml\u001b[0m\u001b[1;33m=\u001b[0m\u001b[1;36m1\u001b[0m\u001b[1;33m\u001b[0m\u001b[1;33m\u001b[0m\u001b[0m\n\u001b[0;32m      6\u001b[0m     \u001b[1;32mfor\u001b[0m \u001b[0mi\u001b[0m \u001b[1;32min\u001b[0m \u001b[0mpw\u001b[0m\u001b[1;33m:\u001b[0m\u001b[1;33m\u001b[0m\u001b[1;33m\u001b[0m\u001b[0m\n",
      "\u001b[1;31mTypeError\u001b[0m: 'int' object is not callable"
     ]
    }
   ],
   "source": [
    "pw = input(\"Enter Password: \")\n",
    "l,uc,lc,d,sp = 0,0,0,0,0\n",
    "\n",
    "if len(pw)>7:\n",
    "    l=1\n",
    "    for i in pw:\n",
    "        if i.isupper():\n",
    "            uc = 1\n",
    "        elif  i.islower():\n",
    "            lc=1\n",
    "        elif i.isdigit():\n",
    "            d=1\n",
    "        elif i in '@_$':\n",
    "            sp=1\n",
    "        else:\n",
    "            sp=0\n",
    "            break\n",
    "if l==1 and uc==1 and lc==1 and d==1 and sp == 1:\n",
    "    print(\"valid\")\n",
    "else:\n",
    "    print(\"not\")"
   ]
  },
  {
   "cell_type": "code",
   "execution_count": null,
   "metadata": {},
   "outputs": [],
   "source": []
  }
 ],
 "metadata": {
  "kernelspec": {
   "display_name": "Python 3",
   "language": "python",
   "name": "python3"
  },
  "language_info": {
   "codemirror_mode": {
    "name": "ipython",
    "version": 3
   },
   "file_extension": ".py",
   "mimetype": "text/x-python",
   "name": "python",
   "nbconvert_exporter": "python",
   "pygments_lexer": "ipython3",
   "version": "3.8.5"
  }
 },
 "nbformat": 4,
 "nbformat_minor": 4
}
