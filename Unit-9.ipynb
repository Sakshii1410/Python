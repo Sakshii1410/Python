{
 "cells": [
  {
   "cell_type": "markdown",
   "metadata": {},
   "source": [
    "# <h1 align=\"center\">Unit-9 Advance OOP</h1>"
   ]
  },
  {
   "cell_type": "markdown",
   "metadata": {},
   "source": [
    "# Polymorphism\n",
    "\n",
    "1. Method overloading\n",
    "2. Method overriding\n",
    "3. Operation overloading"
   ]
  },
  {
   "cell_type": "markdown",
   "metadata": {},
   "source": [
    "## Method overloading\n",
    "\n",
    "1. Compile time Polymorphism\n",
    "2. It occurs in same class\n",
    "3. Methods must have same name and different parameters\n",
    "4. Python does not support method overloading "
   ]
  },
  {
   "cell_type": "markdown",
   "metadata": {},
   "source": [
    "## Method overriding\n",
    "\n",
    "1. Run time Polymorphism\n",
    "2. It occurs in two classes via inheritance\n",
    "3. Methods must have same name and same parameters\n",
    "4. Python supports method overloading"
   ]
  },
  {
   "cell_type": "code",
   "execution_count": 5,
   "metadata": {},
   "outputs": [
    {
     "ename": "TypeError",
     "evalue": "add() missing 1 required positional argument: 'c'",
     "output_type": "error",
     "traceback": [
      "\u001b[1;31m---------------------------------------------------------------------------\u001b[0m",
      "\u001b[1;31mTypeError\u001b[0m                                 Traceback (most recent call last)",
      "\u001b[1;32m<ipython-input-5-61c6180749fe>\u001b[0m in \u001b[0;36m<module>\u001b[1;34m\u001b[0m\n\u001b[0;32m      7\u001b[0m \u001b[1;33m\u001b[0m\u001b[0m\n\u001b[0;32m      8\u001b[0m \u001b[0mobj\u001b[0m \u001b[1;33m=\u001b[0m \u001b[0mA\u001b[0m\u001b[1;33m(\u001b[0m\u001b[1;33m)\u001b[0m\u001b[1;33m\u001b[0m\u001b[1;33m\u001b[0m\u001b[0m\n\u001b[1;32m----> 9\u001b[1;33m \u001b[0mobj\u001b[0m\u001b[1;33m.\u001b[0m\u001b[0madd\u001b[0m\u001b[1;33m(\u001b[0m\u001b[1;36m10\u001b[0m\u001b[1;33m,\u001b[0m\u001b[1;36m20\u001b[0m\u001b[1;33m)\u001b[0m\u001b[1;33m\u001b[0m\u001b[1;33m\u001b[0m\u001b[0m\n\u001b[0m\u001b[0;32m     10\u001b[0m \u001b[0mobj\u001b[0m\u001b[1;33m.\u001b[0m\u001b[0madd\u001b[0m\u001b[1;33m(\u001b[0m\u001b[1;36m10\u001b[0m\u001b[1;33m,\u001b[0m\u001b[1;36m20\u001b[0m\u001b[1;33m,\u001b[0m\u001b[1;36m30\u001b[0m\u001b[1;33m)\u001b[0m\u001b[1;33m\u001b[0m\u001b[1;33m\u001b[0m\u001b[0m\n",
      "\u001b[1;31mTypeError\u001b[0m: add() missing 1 required positional argument: 'c'"
     ]
    }
   ],
   "source": [
    "class A:\n",
    "    def add(self,a,b): #Never use\n",
    "        print(a+b)\n",
    "        \n",
    "    def add(self,a,b,c):\n",
    "        print(a+b+c)\n",
    "        \n",
    "obj = A()\n",
    "obj.add(10,20)\n",
    "obj.add(10,20,30)"
   ]
  },
  {
   "cell_type": "code",
   "execution_count": 6,
   "metadata": {},
   "outputs": [
    {
     "name": "stdout",
     "output_type": "stream",
     "text": [
      "First Function of class B\n",
      "Second Function of class A\n",
      "Display Function of class B\n",
      "First Function of class A\n",
      "Second Function of class A\n"
     ]
    },
    {
     "ename": "AttributeError",
     "evalue": "'A' object has no attribute 'display'",
     "output_type": "error",
     "traceback": [
      "\u001b[1;31m---------------------------------------------------------------------------\u001b[0m",
      "\u001b[1;31mAttributeError\u001b[0m                            Traceback (most recent call last)",
      "\u001b[1;32m<ipython-input-6-9171f48f7416>\u001b[0m in \u001b[0;36m<module>\u001b[1;34m\u001b[0m\n\u001b[0;32m     21\u001b[0m \u001b[0mobj\u001b[0m\u001b[1;33m.\u001b[0m\u001b[0mfirst\u001b[0m\u001b[1;33m(\u001b[0m\u001b[1;33m)\u001b[0m\u001b[1;33m\u001b[0m\u001b[1;33m\u001b[0m\u001b[0m\n\u001b[0;32m     22\u001b[0m \u001b[0mobj\u001b[0m\u001b[1;33m.\u001b[0m\u001b[0msecond\u001b[0m\u001b[1;33m(\u001b[0m\u001b[1;33m)\u001b[0m\u001b[1;33m\u001b[0m\u001b[1;33m\u001b[0m\u001b[0m\n\u001b[1;32m---> 23\u001b[1;33m \u001b[0mobj\u001b[0m\u001b[1;33m.\u001b[0m\u001b[0mdisplay\u001b[0m\u001b[1;33m(\u001b[0m\u001b[1;33m)\u001b[0m\u001b[1;33m\u001b[0m\u001b[1;33m\u001b[0m\u001b[0m\n\u001b[0m",
      "\u001b[1;31mAttributeError\u001b[0m: 'A' object has no attribute 'display'"
     ]
    }
   ],
   "source": [
    "class A:\n",
    "    def first(self): \n",
    "        print(\"First Function of class A\")\n",
    "        \n",
    "    def second(self):\n",
    "        print(\"Second Function of class A\")\n",
    "        \n",
    "class B(A):\n",
    "    def first(self): \n",
    "        print(\"First Function of class B\")\n",
    "        \n",
    "    def display(self):\n",
    "        print(\"Display Function of class B\")\n",
    "        \n",
    "obj = B()\n",
    "obj.first()\n",
    "obj.second()\n",
    "obj.display()\n",
    "        \n",
    "obj = A()\n",
    "obj.first()\n",
    "obj.second()\n",
    "obj.display()"
   ]
  },
  {
   "cell_type": "code",
   "execution_count": 10,
   "metadata": {},
   "outputs": [
    {
     "name": "stdout",
     "output_type": "stream",
     "text": [
      "50\n"
     ]
    }
   ],
   "source": [
    "class parent:\n",
    "    def __init__(self):\n",
    "        self.attr1 = 50\n",
    "        self.attr2 = 60 \n",
    "    \n",
    "class child(parent):\n",
    "    def __init__(self):\n",
    "        super().__init__() #To give parent properties\n",
    "        parent.__init__(self)\n",
    "        self.attr3 = 70\n",
    "        \n",
    "obj = child()\n",
    "print(obj.attr1)"
   ]
  },
  {
   "cell_type": "code",
   "execution_count": 15,
   "metadata": {},
   "outputs": [
    {
     "name": "stdout",
     "output_type": "stream",
     "text": [
      "Muitiplication: 200\n",
      "Addition: 30\n",
      "Addition: 30\n"
     ]
    }
   ],
   "source": [
    "class Add():\n",
    "    def result(self,a,b):\n",
    "        print(\"Addition:\",a+b)\n",
    "        \n",
    "class Multi(Add):\n",
    "    def result(self,a,b):\n",
    "        print(\"Muitiplication:\",a*b)\n",
    "        super().result(a,b)\n",
    "        \n",
    "m = Multi()\n",
    "m.result(10,20)\n",
    "m = Add()\n",
    "m.result(10,20)"
   ]
  },
  {
   "cell_type": "markdown",
   "metadata": {},
   "source": [
    "## Operation overloading\n"
   ]
  },
  {
   "cell_type": "code",
   "execution_count": 22,
   "metadata": {},
   "outputs": [
    {
     "name": "stdout",
     "output_type": "stream",
     "text": [
      "5\n",
      "HiHello\n",
      "5\n",
      "HiHello\n",
      "5\n",
      "HiHello\n"
     ]
    }
   ],
   "source": [
    "class A:\n",
    "    def __init__(self,a):\n",
    "        self.a = a\n",
    "        \n",
    "    def __add__(self,other):\n",
    "        return self.a + other.a\n",
    "\n",
    "obj1 = A(2)\n",
    "obj2 = A(3)\n",
    "obj3 = A(\"Hi\")\n",
    "obj4 = A(\"Hello\")\n",
    "\n",
    "print(obj1 + obj2)\n",
    "print(obj3 + obj4)\n",
    "\n",
    "print(A.__add__(obj1,obj2))\n",
    "print(A.__add__(obj3,obj4))\n",
    "\n",
    "print(obj1.__add__(obj2))\n",
    "print(obj3.__add__(obj4)) "
   ]
  },
  {
   "cell_type": "code",
   "execution_count": 27,
   "metadata": {},
   "outputs": [
    {
     "name": "stdout",
     "output_type": "stream",
     "text": [
      "5\n",
      "-1\n",
      "6\n",
      "0.6666666666666666\n",
      "0\n",
      "2\n",
      "8\n"
     ]
    }
   ],
   "source": [
    "class A:\n",
    "    def __init__(self,a):\n",
    "        self.a = a\n",
    "        \n",
    "    def __add__(self,other):\n",
    "        return self.a + other.a\n",
    "    \n",
    "    def __sub__(self,other):\n",
    "        return self.a - other.a\n",
    "    \n",
    "    def __mul__(self,other):\n",
    "        return self.a * other.a\n",
    "    \n",
    "    def __truediv__(self,other):\n",
    "        return self.a / other.a\n",
    "    \n",
    "    def __floordiv__(self,other):\n",
    "        return self.a // other.a\n",
    "    \n",
    "    def __mod__(self,other):\n",
    "        return self.a % other.a\n",
    "    \n",
    "    def __pow__(self,other):\n",
    "        return self.a ** other.a\n",
    "\n",
    "obj1 = A(2)\n",
    "obj2 = A(3)\n",
    "\n",
    "print(obj1 + obj2)\n",
    "print(obj1 - obj2)\n",
    "print(obj1 * obj2)\n",
    "print(obj1 / obj2)\n",
    "print(obj1 // obj2)\n",
    "print(obj1 % obj2)\n",
    "print(obj1 ** obj2)"
   ]
  },
  {
   "cell_type": "code",
   "execution_count": 29,
   "metadata": {},
   "outputs": [
    {
     "name": "stdout",
     "output_type": "stream",
     "text": [
      "False\n",
      "True\n",
      "False\n",
      "True\n",
      "False\n",
      "True\n"
     ]
    }
   ],
   "source": [
    "class A:\n",
    "    def __init__(self,a):\n",
    "        self.a = a\n",
    "        \n",
    "    def __gt__(self,other):\n",
    "        if self.a>other.a:\n",
    "            return True\n",
    "        else:\n",
    "            return False\n",
    "    \n",
    "    def __lt__(self,other):\n",
    "        if self.a<other.a:\n",
    "            return True\n",
    "        else:\n",
    "            return False\n",
    "    \n",
    "    def __ge__(self,other):\n",
    "        if self.a>=other.a:\n",
    "            return True\n",
    "        else:\n",
    "            return False\n",
    "        \n",
    "    def __le__(self,other):\n",
    "        if self.a<=other.a:\n",
    "            return True\n",
    "        else:\n",
    "            return False\n",
    "        \n",
    "    def __eq__(self,other):\n",
    "        if self.a==other.a:\n",
    "            return True\n",
    "        else:\n",
    "            return False\n",
    "        \n",
    "    def __ne__(self,other):\n",
    "        if self.a!=other.a:\n",
    "            return True\n",
    "        else:\n",
    "            return False\n",
    "        \n",
    "obj1 = A(2)\n",
    "obj2 = A(3)\n",
    "\n",
    "print(obj1 > obj2)\n",
    "print(obj1 < obj2)\n",
    "print(obj1 >= obj2)\n",
    "print(obj1 <= obj2)\n",
    "print(obj1 == obj2)\n",
    "print(obj1 != obj2)"
   ]
  },
  {
   "cell_type": "markdown",
   "metadata": {},
   "source": [
    "# Inheritance\n",
    "\n",
    "- Ability to inherit features or attributes from already wrriten classes into newer classes we make.\n",
    "- It promotes code reusability\n",
    "- It makes codebase modular."
   ]
  },
  {
   "cell_type": "markdown",
   "metadata": {},
   "source": [
    "### 5 types of Inheritance\n",
    "- single\n",
    "- multiple\n",
    "- muitilevel\n",
    "- hiearchical\n",
    "- hybrid"
   ]
  },
  {
   "cell_type": "code",
   "execution_count": 31,
   "metadata": {},
   "outputs": [
    {
     "name": "stdout",
     "output_type": "stream",
     "text": [
      "Hello Parent\n",
      "Hello Child\n"
     ]
    }
   ],
   "source": [
    "class parent:\n",
    "    def fun1(self):\n",
    "        print(\"Hello Parent\")\n",
    "        \n",
    "class Child(parent):\n",
    "    def fun2(self):\n",
    "        print(\"Hello Child\")\n",
    "        \n",
    "test = Child()\n",
    "test.fun1()\n",
    "test.fun2()"
   ]
  },
  {
   "cell_type": "code",
   "execution_count": 37,
   "metadata": {},
   "outputs": [
    {
     "name": "stdout",
     "output_type": "stream",
     "text": [
      "Hello Parent1\n",
      "Hello Parent3\n",
      "Hello Child\n",
      "(<class '__main__.Child'>, <class '__main__.parent1'>, <class '__main__.parent3'>, <class '__main__.parent2'>, <class 'object'>)\n",
      "[<class '__main__.Child'>, <class '__main__.parent1'>, <class '__main__.parent3'>, <class '__main__.parent2'>, <class 'object'>]\n"
     ]
    }
   ],
   "source": [
    "class parent1:\n",
    "    def fun1(self):\n",
    "        print(\"Hello Parent1\")\n",
    "        \n",
    "class parent2:\n",
    "    def fun2(self):\n",
    "        print(\"Hello Parent2\")\n",
    "        \n",
    "class parent3:\n",
    "    def fun2(self):\n",
    "        print(\"Hello Parent3\")\n",
    "\n",
    "class Child(parent1,parent3,parent2):\n",
    "    def fun3(self):\n",
    "        print(\"Hello Child\")\n",
    "\n",
    "test = Child()\n",
    "test.fun1()\n",
    "test.fun2()\n",
    "test.fun3()\n",
    "\n",
    "print(Child.__mro__)\n",
    "print(Child.mro())"
   ]
  },
  {
   "cell_type": "code",
   "execution_count": 39,
   "metadata": {},
   "outputs": [
    {
     "name": "stdout",
     "output_type": "stream",
     "text": [
      "Hello Grandparent\n",
      "Hello Parent\n",
      "Hello Child\n"
     ]
    }
   ],
   "source": [
    "class Grandparent:\n",
    "    def fun1(self):\n",
    "        print(\"Hello Grandparent\")\n",
    "        \n",
    "class parent(Grandparent):\n",
    "    def fun2(self):\n",
    "        print(\"Hello Parent\")\n",
    "        \n",
    "class Child(parent):\n",
    "    def fun3(self):\n",
    "        print(\"Hello Child\")\n",
    "        \n",
    "test = Child()\n",
    "test.fun1()\n",
    "test.fun2()\n",
    "test.fun3()"
   ]
  },
  {
   "cell_type": "code",
   "execution_count": 41,
   "metadata": {},
   "outputs": [
    {
     "name": "stdout",
     "output_type": "stream",
     "text": [
      "Hello Parent\n",
      "Hello Child1\n",
      "Hello Parent\n",
      "Hello Child2\n"
     ]
    }
   ],
   "source": [
    "class Parent:\n",
    "    def fun1(self):\n",
    "        print(\"Hello Parent\")\n",
    "        \n",
    "class Child1(Parent):\n",
    "    def fun2(self):\n",
    "        print(\"Hello Child1\")\n",
    "        \n",
    "class Child2(Parent):\n",
    "    def fun2(self):\n",
    "        print(\"Hello Child2\")\n",
    "        \n",
    "test = Child1()\n",
    "test.fun1()\n",
    "test.fun2()\n",
    "\n",
    "test = Child2()\n",
    "test.fun1()\n",
    "test.fun2()"
   ]
  },
  {
   "cell_type": "code",
   "execution_count": 45,
   "metadata": {},
   "outputs": [
    {
     "name": "stdout",
     "output_type": "stream",
     "text": [
      "Hello Parent1\n",
      "Hello Child1\n",
      "Hello Parent1\n",
      "Hello Parent2\n",
      "Hello Child1\n",
      "Hello Child2\n",
      "[<class '__main__.Child1'>, <class '__main__.Parent1'>, <class 'object'>]\n",
      "[<class '__main__.Child2'>, <class '__main__.Child1'>, <class '__main__.Parent1'>, <class '__main__.Parent2'>, <class 'object'>]\n"
     ]
    }
   ],
   "source": [
    "class Parent1:\n",
    "    def fun1(self):\n",
    "        print(\"Hello Parent1\")\n",
    "        \n",
    "class Parent2:\n",
    "    def fun2(self):\n",
    "        print(\"Hello Parent2\")\n",
    "        \n",
    "class Child1(Parent1):\n",
    "    def fun3(self):\n",
    "        print(\"Hello Child1\")\n",
    "        \n",
    "class Child2(Child1,Parent2):\n",
    "    def fun4(self):\n",
    "        print(\"Hello Child2\")\n",
    "        \n",
    "test = Child1()\n",
    "test.fun1()\n",
    "test.fun3()\n",
    "\n",
    "test = Child2()\n",
    "test.fun1()\n",
    "test.fun2()\n",
    "test.fun3()\n",
    "test.fun4()\n",
    "\n",
    "print(Child1.mro())\n",
    "print(Child2.mro())"
   ]
  },
  {
   "cell_type": "code",
   "execution_count": null,
   "metadata": {},
   "outputs": [],
   "source": []
  }
 ],
 "metadata": {
  "kernelspec": {
   "display_name": "Python 3",
   "language": "python",
   "name": "python3"
  },
  "language_info": {
   "codemirror_mode": {
    "name": "ipython",
    "version": 3
   },
   "file_extension": ".py",
   "mimetype": "text/x-python",
   "name": "python",
   "nbconvert_exporter": "python",
   "pygments_lexer": "ipython3",
   "version": "3.8.5"
  }
 },
 "nbformat": 4,
 "nbformat_minor": 4
}
