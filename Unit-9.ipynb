{
 "cells": [
  {
   "cell_type": "markdown",
   "metadata": {},
   "source": [
    "# <h1 align=\"center\">Unit-9 Advance OOP</h1>"
   ]
  },
  {
   "cell_type": "markdown",
   "metadata": {},
   "source": [
    "# Polymorphism\n",
    "\n",
    "1. Method overloading\n",
    "2. Method overriding\n",
    "3. Operation overloading"
   ]
  },
  {
   "cell_type": "markdown",
   "metadata": {},
   "source": [
    "## Method overloading\n",
    "\n",
    "1. Compile time Polymorphism\n",
    "2. It occurs in same class\n",
    "3. Methods must have same name and different parameters\n",
    "4. Python does not support method overloading "
   ]
  },
  {
   "cell_type": "markdown",
   "metadata": {},
   "source": [
    "## Method overriding\n",
    "\n",
    "1. Run time Polymorphism\n",
    "2. It occurs in two classes via inheritance\n",
    "3. Methods must have same name and same parameters\n",
    "4. Python supports method overloading"
   ]
  },
  {
   "cell_type": "code",
   "execution_count": 5,
   "metadata": {},
   "outputs": [
    {
     "ename": "TypeError",
     "evalue": "add() missing 1 required positional argument: 'c'",
     "output_type": "error",
     "traceback": [
      "\u001b[1;31m---------------------------------------------------------------------------\u001b[0m",
      "\u001b[1;31mTypeError\u001b[0m                                 Traceback (most recent call last)",
      "\u001b[1;32m<ipython-input-5-61c6180749fe>\u001b[0m in \u001b[0;36m<module>\u001b[1;34m\u001b[0m\n\u001b[0;32m      7\u001b[0m \u001b[1;33m\u001b[0m\u001b[0m\n\u001b[0;32m      8\u001b[0m \u001b[0mobj\u001b[0m \u001b[1;33m=\u001b[0m \u001b[0mA\u001b[0m\u001b[1;33m(\u001b[0m\u001b[1;33m)\u001b[0m\u001b[1;33m\u001b[0m\u001b[1;33m\u001b[0m\u001b[0m\n\u001b[1;32m----> 9\u001b[1;33m \u001b[0mobj\u001b[0m\u001b[1;33m.\u001b[0m\u001b[0madd\u001b[0m\u001b[1;33m(\u001b[0m\u001b[1;36m10\u001b[0m\u001b[1;33m,\u001b[0m\u001b[1;36m20\u001b[0m\u001b[1;33m)\u001b[0m\u001b[1;33m\u001b[0m\u001b[1;33m\u001b[0m\u001b[0m\n\u001b[0m\u001b[0;32m     10\u001b[0m \u001b[0mobj\u001b[0m\u001b[1;33m.\u001b[0m\u001b[0madd\u001b[0m\u001b[1;33m(\u001b[0m\u001b[1;36m10\u001b[0m\u001b[1;33m,\u001b[0m\u001b[1;36m20\u001b[0m\u001b[1;33m,\u001b[0m\u001b[1;36m30\u001b[0m\u001b[1;33m)\u001b[0m\u001b[1;33m\u001b[0m\u001b[1;33m\u001b[0m\u001b[0m\n",
      "\u001b[1;31mTypeError\u001b[0m: add() missing 1 required positional argument: 'c'"
     ]
    }
   ],
   "source": [
    "class A:\n",
    "    def add(self,a,b): #Never use\n",
    "        print(a+b)\n",
    "        \n",
    "    def add(self,a,b,c):\n",
    "        print(a+b+c)\n",
    "        \n",
    "obj = A()\n",
    "obj.add(10,20)\n",
    "obj.add(10,20,30)"
   ]
  },
  {
   "cell_type": "code",
   "execution_count": 6,
   "metadata": {},
   "outputs": [
    {
     "name": "stdout",
     "output_type": "stream",
     "text": [
      "First Function of class B\n",
      "Second Function of class A\n",
      "Display Function of class B\n",
      "First Function of class A\n",
      "Second Function of class A\n"
     ]
    },
    {
     "ename": "AttributeError",
     "evalue": "'A' object has no attribute 'display'",
     "output_type": "error",
     "traceback": [
      "\u001b[1;31m---------------------------------------------------------------------------\u001b[0m",
      "\u001b[1;31mAttributeError\u001b[0m                            Traceback (most recent call last)",
      "\u001b[1;32m<ipython-input-6-9171f48f7416>\u001b[0m in \u001b[0;36m<module>\u001b[1;34m\u001b[0m\n\u001b[0;32m     21\u001b[0m \u001b[0mobj\u001b[0m\u001b[1;33m.\u001b[0m\u001b[0mfirst\u001b[0m\u001b[1;33m(\u001b[0m\u001b[1;33m)\u001b[0m\u001b[1;33m\u001b[0m\u001b[1;33m\u001b[0m\u001b[0m\n\u001b[0;32m     22\u001b[0m \u001b[0mobj\u001b[0m\u001b[1;33m.\u001b[0m\u001b[0msecond\u001b[0m\u001b[1;33m(\u001b[0m\u001b[1;33m)\u001b[0m\u001b[1;33m\u001b[0m\u001b[1;33m\u001b[0m\u001b[0m\n\u001b[1;32m---> 23\u001b[1;33m \u001b[0mobj\u001b[0m\u001b[1;33m.\u001b[0m\u001b[0mdisplay\u001b[0m\u001b[1;33m(\u001b[0m\u001b[1;33m)\u001b[0m\u001b[1;33m\u001b[0m\u001b[1;33m\u001b[0m\u001b[0m\n\u001b[0m",
      "\u001b[1;31mAttributeError\u001b[0m: 'A' object has no attribute 'display'"
     ]
    }
   ],
   "source": [
    "class A:\n",
    "    def first(self): \n",
    "        print(\"First Function of class A\")\n",
    "        \n",
    "    def second(self):\n",
    "        print(\"Second Function of class A\")\n",
    "        \n",
    "class B(A):\n",
    "    def first(self): \n",
    "        print(\"First Function of class B\")\n",
    "        \n",
    "    def display(self):\n",
    "        print(\"Display Function of class B\")\n",
    "        \n",
    "obj = B()\n",
    "obj.first()\n",
    "obj.second()\n",
    "obj.display()\n",
    "        \n",
    "obj = A()\n",
    "obj.first()\n",
    "obj.second()\n",
    "obj.display()"
   ]
  },
  {
   "cell_type": "code",
   "execution_count": 10,
   "metadata": {},
   "outputs": [
    {
     "name": "stdout",
     "output_type": "stream",
     "text": [
      "50\n"
     ]
    }
   ],
   "source": [
    "class parent:\n",
    "    def __init__(self):\n",
    "        self.attr1 = 50\n",
    "        self.attr2 = 60 \n",
    "    \n",
    "class child(parent):\n",
    "    def __init__(self):\n",
    "        super().__init__() #To give parent properties\n",
    "        parent.__init__(self)\n",
    "        self.attr3 = 70\n",
    "        \n",
    "obj = child()\n",
    "print(obj.attr1)"
   ]
  },
  {
   "cell_type": "code",
   "execution_count": 15,
   "metadata": {},
   "outputs": [
    {
     "name": "stdout",
     "output_type": "stream",
     "text": [
      "Muitiplication: 200\n",
      "Addition: 30\n",
      "Addition: 30\n"
     ]
    }
   ],
   "source": [
    "class Add():\n",
    "    def result(self,a,b):\n",
    "        print(\"Addition:\",a+b)\n",
    "        \n",
    "class Multi(Add):\n",
    "    def result(self,a,b):\n",
    "        print(\"Muitiplication:\",a*b)\n",
    "        super().result(a,b)\n",
    "        \n",
    "m = Multi()\n",
    "m.result(10,20)\n",
    "m = Add()\n",
    "m.result(10,20)"
   ]
  },
  {
   "cell_type": "markdown",
   "metadata": {},
   "source": [
    "## Operation overloading\n"
   ]
  },
  {
   "cell_type": "code",
   "execution_count": 22,
   "metadata": {},
   "outputs": [
    {
     "name": "stdout",
     "output_type": "stream",
     "text": [
      "5\n",
      "HiHello\n",
      "5\n",
      "HiHello\n",
      "5\n",
      "HiHello\n"
     ]
    }
   ],
   "source": [
    "class A:\n",
    "    def __init__(self,a):\n",
    "        self.a = a\n",
    "        \n",
    "    def __add__(self,other):\n",
    "        return self.a + other.a\n",
    "\n",
    "obj1 = A(2)\n",
    "obj2 = A(3)\n",
    "obj3 = A(\"Hi\")\n",
    "obj4 = A(\"Hello\")\n",
    "\n",
    "print(obj1 + obj2)\n",
    "print(obj3 + obj4)\n",
    "\n",
    "print(A.__add__(obj1,obj2))\n",
    "print(A.__add__(obj3,obj4))\n",
    "\n",
    "print(obj1.__add__(obj2))\n",
    "print(obj3.__add__(obj4)) "
   ]
  },
  {
   "cell_type": "code",
   "execution_count": 27,
   "metadata": {},
   "outputs": [
    {
     "name": "stdout",
     "output_type": "stream",
     "text": [
      "5\n",
      "-1\n",
      "6\n",
      "0.6666666666666666\n",
      "0\n",
      "2\n",
      "8\n"
     ]
    }
   ],
   "source": [
    "class A:\n",
    "    def __init__(self,a):\n",
    "        self.a = a\n",
    "        \n",
    "    def __add__(self,other):\n",
    "        return self.a + other.a\n",
    "    \n",
    "    def __sub__(self,other):\n",
    "        return self.a - other.a\n",
    "    \n",
    "    def __mul__(self,other):\n",
    "        return self.a * other.a\n",
    "    \n",
    "    def __truediv__(self,other):\n",
    "        return self.a / other.a\n",
    "    \n",
    "    def __floordiv__(self,other):\n",
    "        return self.a // other.a\n",
    "    \n",
    "    def __mod__(self,other):\n",
    "        return self.a % other.a\n",
    "    \n",
    "    def __pow__(self,other):\n",
    "        return self.a ** other.a\n",
    "\n",
    "obj1 = A(2)\n",
    "obj2 = A(3)\n",
    "\n",
    "print(obj1 + obj2)\n",
    "print(obj1 - obj2)\n",
    "print(obj1 * obj2)\n",
    "print(obj1 / obj2)\n",
    "print(obj1 // obj2)\n",
    "print(obj1 % obj2)\n",
    "print(obj1 ** obj2)"
   ]
  },
  {
   "cell_type": "code",
   "execution_count": 29,
   "metadata": {},
   "outputs": [
    {
     "name": "stdout",
     "output_type": "stream",
     "text": [
      "False\n",
      "True\n",
      "False\n",
      "True\n",
      "False\n",
      "True\n"
     ]
    }
   ],
   "source": [
    "class A:\n",
    "    def __init__(self,a):\n",
    "        self.a = a\n",
    "        \n",
    "    def __gt__(self,other):\n",
    "        if self.a>other.a:\n",
    "            return True\n",
    "        else:\n",
    "            return False\n",
    "    \n",
    "    def __lt__(self,other):\n",
    "        if self.a<other.a:\n",
    "            return True\n",
    "        else:\n",
    "            return False\n",
    "    \n",
    "    def __ge__(self,other):\n",
    "        if self.a>=other.a:\n",
    "            return True\n",
    "        else:\n",
    "            return False\n",
    "        \n",
    "    def __le__(self,other):\n",
    "        if self.a<=other.a:\n",
    "            return True\n",
    "        else:\n",
    "            return False\n",
    "        \n",
    "    def __eq__(self,other):\n",
    "        if self.a==other.a:\n",
    "            return True\n",
    "        else:\n",
    "            return False\n",
    "        \n",
    "    def __ne__(self,other):\n",
    "        if self.a!=other.a:\n",
    "            return True\n",
    "        else:\n",
    "            return False\n",
    "        \n",
    "obj1 = A(2)\n",
    "obj2 = A(3)\n",
    "\n",
    "print(obj1 > obj2)\n",
    "print(obj1 < obj2)\n",
    "print(obj1 >= obj2)\n",
    "print(obj1 <= obj2)\n",
    "print(obj1 == obj2)\n",
    "print(obj1 != obj2)"
   ]
  },
  {
   "cell_type": "markdown",
   "metadata": {},
   "source": [
    "# Inheritance\n",
    "\n",
    "- Ability to inherit features or attributes from already wrriten classes into newer classes we make.\n",
    "- It promotes code reusability\n",
    "- It makes codebase modular."
   ]
  },
  {
   "cell_type": "markdown",
   "metadata": {},
   "source": [
    "### 5 types of Inheritance\n",
    "- single\n",
    "- multiple\n",
    "- muitilevel\n",
    "- hiearchical\n",
    "- hybrid"
   ]
  },
  {
   "cell_type": "code",
   "execution_count": 31,
   "metadata": {},
   "outputs": [
    {
     "name": "stdout",
     "output_type": "stream",
     "text": [
      "Hello Parent\n",
      "Hello Child\n"
     ]
    }
   ],
   "source": [
    "class parent:\n",
    "    def fun1(self):\n",
    "        print(\"Hello Parent\")\n",
    "        \n",
    "class Child(parent):\n",
    "    def fun2(self):\n",
    "        print(\"Hello Child\")\n",
    "        \n",
    "test = Child()\n",
    "test.fun1()\n",
    "test.fun2()"
   ]
  },
  {
   "cell_type": "code",
   "execution_count": 37,
   "metadata": {},
   "outputs": [
    {
     "name": "stdout",
     "output_type": "stream",
     "text": [
      "Hello Parent1\n",
      "Hello Parent3\n",
      "Hello Child\n",
      "(<class '__main__.Child'>, <class '__main__.parent1'>, <class '__main__.parent3'>, <class '__main__.parent2'>, <class 'object'>)\n",
      "[<class '__main__.Child'>, <class '__main__.parent1'>, <class '__main__.parent3'>, <class '__main__.parent2'>, <class 'object'>]\n"
     ]
    }
   ],
   "source": [
    "class parent1:\n",
    "    def fun1(self):\n",
    "        print(\"Hello Parent1\")\n",
    "        \n",
    "class parent2:\n",
    "    def fun2(self):\n",
    "        print(\"Hello Parent2\")\n",
    "        \n",
    "class parent3:\n",
    "    def fun2(self):\n",
    "        print(\"Hello Parent3\")\n",
    "\n",
    "class Child(parent1,parent3,parent2):\n",
    "    def fun3(self):\n",
    "        print(\"Hello Child\")\n",
    "\n",
    "test = Child()\n",
    "test.fun1()\n",
    "test.fun2()\n",
    "test.fun3()\n",
    "\n",
    "print(Child.__mro__)\n",
    "print(Child.mro())"
   ]
  },
  {
   "cell_type": "code",
   "execution_count": 39,
   "metadata": {},
   "outputs": [
    {
     "name": "stdout",
     "output_type": "stream",
     "text": [
      "Hello Grandparent\n",
      "Hello Parent\n",
      "Hello Child\n"
     ]
    }
   ],
   "source": [
    "class Grandparent:\n",
    "    def fun1(self):\n",
    "        print(\"Hello Grandparent\")\n",
    "        \n",
    "class parent(Grandparent):\n",
    "    def fun2(self):\n",
    "        print(\"Hello Parent\")\n",
    "        \n",
    "class Child(parent):\n",
    "    def fun3(self):\n",
    "        print(\"Hello Child\")\n",
    "        \n",
    "test = Child()\n",
    "test.fun1()\n",
    "test.fun2()\n",
    "test.fun3()"
   ]
  },
  {
   "cell_type": "code",
   "execution_count": 41,
   "metadata": {},
   "outputs": [
    {
     "name": "stdout",
     "output_type": "stream",
     "text": [
      "Hello Parent\n",
      "Hello Child1\n",
      "Hello Parent\n",
      "Hello Child2\n"
     ]
    }
   ],
   "source": [
    "class Parent:\n",
    "    def fun1(self):\n",
    "        print(\"Hello Parent\")\n",
    "        \n",
    "class Child1(Parent):\n",
    "    def fun2(self):\n",
    "        print(\"Hello Child1\")\n",
    "        \n",
    "class Child2(Parent):\n",
    "    def fun2(self):\n",
    "        print(\"Hello Child2\")\n",
    "        \n",
    "test = Child1()\n",
    "test.fun1()\n",
    "test.fun2()\n",
    "\n",
    "test = Child2()\n",
    "test.fun1()\n",
    "test.fun2()"
   ]
  },
  {
   "cell_type": "code",
   "execution_count": 45,
   "metadata": {},
   "outputs": [
    {
     "name": "stdout",
     "output_type": "stream",
     "text": [
      "Hello Parent1\n",
      "Hello Child1\n",
      "Hello Parent1\n",
      "Hello Parent2\n",
      "Hello Child1\n",
      "Hello Child2\n",
      "[<class '__main__.Child1'>, <class '__main__.Parent1'>, <class 'object'>]\n",
      "[<class '__main__.Child2'>, <class '__main__.Child1'>, <class '__main__.Parent1'>, <class '__main__.Parent2'>, <class 'object'>]\n"
     ]
    }
   ],
   "source": [
    "class Parent1:\n",
    "    def fun1(self):\n",
    "        print(\"Hello Parent1\")\n",
    "        \n",
    "class Parent2:\n",
    "    def fun2(self):\n",
    "        print(\"Hello Parent2\")\n",
    "        \n",
    "class Child1(Parent1):\n",
    "    def fun3(self):\n",
    "        print(\"Hello Child1\")\n",
    "        \n",
    "class Child2(Child1,Parent2):\n",
    "    def fun4(self):\n",
    "        print(\"Hello Child2\")\n",
    "        \n",
    "test = Child1()\n",
    "test.fun1()\n",
    "test.fun3()\n",
    "\n",
    "test = Child2()\n",
    "test.fun1()\n",
    "test.fun2()\n",
    "test.fun3()\n",
    "test.fun4()\n",
    "\n",
    "print(Child1.mro())\n",
    "print(Child2.mro())"
   ]
  },
  {
   "cell_type": "markdown",
   "metadata": {},
   "source": [
    "### issubclass()\n",
    "### isinstance()"
   ]
  },
  {
   "cell_type": "code",
   "execution_count": 3,
   "metadata": {},
   "outputs": [
    {
     "name": "stdout",
     "output_type": "stream",
     "text": [
      "True\n",
      "False\n",
      "True\n",
      "True\n",
      "False\n",
      "True\n"
     ]
    }
   ],
   "source": [
    "class Parent:\n",
    "    def fun1(self):\n",
    "        print(\"Hello Parent\")\n",
    "        \n",
    "class Child(Parent):\n",
    "    def fun2(self):\n",
    "        print(\"Hello Child\")\n",
    "        \n",
    "print(issubclass(Child,Parent))\n",
    "print(issubclass(Parent,Child))\n",
    "\n",
    "A = Child()\n",
    "B = Parent()\n",
    "\n",
    "print(isinstance(A,Child))\n",
    "print(isinstance(A,Parent))\n",
    "print(isinstance(B,Child))\n",
    "print(isinstance(B,Parent))"
   ]
  },
  {
   "cell_type": "markdown",
   "metadata": {},
   "source": [
    "### MRO (Method Resolution Order)"
   ]
  },
  {
   "cell_type": "code",
   "execution_count": 8,
   "metadata": {},
   "outputs": [
    {
     "name": "stdout",
     "output_type": "stream",
     "text": [
      "In class B\n"
     ]
    },
    {
     "data": {
      "text/plain": [
       "[__main__.D, __main__.B, __main__.C, __main__.A, object]"
      ]
     },
     "execution_count": 8,
     "metadata": {},
     "output_type": "execute_result"
    }
   ],
   "source": [
    "class A:\n",
    "    def rk(self):\n",
    "        print(\"In class A\")\n",
    "class B(A):\n",
    "    def rk(self):\n",
    "        print(\"In class B\")\n",
    "class C(A):\n",
    "    def rk(self):\n",
    "        print(\"In class C\")\n",
    "class D(B,C):\n",
    "    pass\n",
    "\n",
    "r = D()\n",
    "r.rk()\n",
    "D.mro()"
   ]
  },
  {
   "cell_type": "code",
   "execution_count": 13,
   "metadata": {},
   "outputs": [
    {
     "name": "stdout",
     "output_type": "stream",
     "text": [
      "foo from P1\n",
      "bar from C2\n"
     ]
    },
    {
     "data": {
      "text/plain": [
       "[__main__.GC, __main__.C1, __main__.P1, __main__.C2, __main__.P2, object]"
      ]
     },
     "execution_count": 13,
     "metadata": {},
     "output_type": "execute_result"
    }
   ],
   "source": [
    "class P1:\n",
    "    def foo(self):\n",
    "        print(\"foo from P1\")\n",
    "        \n",
    "class P2:\n",
    "    def foo(self):\n",
    "        print(\"foo from P2\")\n",
    "    def bar(self):\n",
    "        print(\"bar from P2\")\n",
    "        \n",
    "class C1(P1,P2):\n",
    "    pass\n",
    "\n",
    "\n",
    "class C2(P2):\n",
    "    def bar(self):\n",
    "        print(\"bar from C2\")\n",
    "        \n",
    "class GC(C1,C2):\n",
    "    pass\n",
    "\n",
    "g = GC()\n",
    "g.foo()\n",
    "g.bar()\n",
    "GC.mro()"
   ]
  },
  {
   "cell_type": "code",
   "execution_count": 18,
   "metadata": {},
   "outputs": [
    {
     "name": "stdout",
     "output_type": "stream",
     "text": [
      "[<class '__main__.Z'>, <class '__main__.K1'>, <class '__main__.C'>, <class '__main__.K3'>, <class '__main__.A'>, <class '__main__.K2'>, <class '__main__.B'>, <class '__main__.D'>, <class '__main__.F'>, <class '__main__.E'>, <class 'object'>]\n"
     ]
    }
   ],
   "source": [
    "class A:\n",
    "    pass\n",
    "class B:\n",
    "    pass\n",
    "class C:\n",
    "    pass\n",
    "class D:\n",
    "    pass\n",
    "class E:\n",
    "    pass\n",
    "class F:\n",
    "    pass\n",
    "class K1(C,A,B):\n",
    "    pass\n",
    "class K3(A,D,F):\n",
    "    pass\n",
    "class K2(B,D,E):\n",
    "    pass\n",
    "class Z(K1,K3,K2):\n",
    "    pass\n",
    "\n",
    "print(Z.mro())"
   ]
  },
  {
   "cell_type": "markdown",
   "metadata": {},
   "source": [
    "# Abstract class"
   ]
  },
  {
   "cell_type": "code",
   "execution_count": 24,
   "metadata": {},
   "outputs": [
    {
     "name": "stdout",
     "output_type": "stream",
     "text": [
      "Drawing a circle\n"
     ]
    }
   ],
   "source": [
    "from abc import ABC,abstractmethod\n",
    "\n",
    "class shape(ABC):\n",
    "    def __init__(self,shape_name):\n",
    "        self.shape_name = shape_name\n",
    "        \n",
    "    @abstractmethod\n",
    "    def draw(self):\n",
    "        pass\n",
    "    \n",
    "class circle(shape):\n",
    "    def __init__(self):\n",
    "        super().__init__(self)\n",
    "    \n",
    "    def draw(self):\n",
    "        print(\"Drawing a circle\")\n",
    "        \n",
    "c = circle()\n",
    "c.draw()"
   ]
  },
  {
   "cell_type": "code",
   "execution_count": 35,
   "metadata": {},
   "outputs": [
    {
     "name": "stdout",
     "output_type": "stream",
     "text": [
      "Name: abc\n",
      "Salary: 100000\n",
      "Subject: DE\n",
      "---------------\n",
      "Name: def\n",
      "Salary: 20000\n",
      "Department: CSE\n",
      "---------------\n",
      "Name: qwe\n",
      "Salary: 4000\n"
     ]
    }
   ],
   "source": [
    "class Staff:\n",
    "    def __init__(self,name,salary):\n",
    "        self.name = name\n",
    "        self.salary = salary\n",
    "        \n",
    "    def display(self):\n",
    "        print(\"Name:\",self.name)\n",
    "        print(\"Salary:\",self.salary)\n",
    "        \n",
    "class Teaching(Staff):\n",
    "    def __init__(self,name,salary,subject):\n",
    "        self.subject = subject\n",
    "        super().__init__(name,salary)\n",
    "        \n",
    "    def display(self):\n",
    "        super().display()\n",
    "        print(\"Subject:\",self.subject)\n",
    "        \n",
    "    \n",
    "class Non_Teaching(Staff):\n",
    "    def __init__(self,name,salary,dept):\n",
    "        self.dept = dept\n",
    "        super().__init__(name,salary)\n",
    "        \n",
    "    def display(self):\n",
    "        super().display()\n",
    "        print(\"Department:\",self.dept)\n",
    "        \n",
    "a = Teaching(\"abc\",100000,\"DE\")\n",
    "a.display()\n",
    "print(\"---------------\")\n",
    "\n",
    "a = Non_Teaching(\"def\",20000,\"CSE\")\n",
    "a.display()\n",
    "print(\"---------------\")\n",
    "\n",
    "a = Staff(\"qwe\",4000)\n",
    "a.display()"
   ]
  },
  {
   "cell_type": "markdown",
   "metadata": {},
   "source": [
    "#### Create a class called student having name & Email as its data members and put data as bound methods. the init fu should assign the parameter to the variable and put data fun should display the data of function.\n",
    "\n",
    "#### Create another class called phd having name email and student as its data members. Here the student variable is the list of student under the guide. the guide class should have 4 bound init, put data, add and remove. init method should initialize the variable, put data should show the data of guide including the list of student, Add method should add student and remove should remove the student from list of student but the conditionit is in list then only remove."
   ]
  },
  {
   "cell_type": "code",
   "execution_count": 42,
   "metadata": {},
   "outputs": [
    {
     "name": "stdout",
     "output_type": "stream",
     "text": [
      "Name: s\n",
      "E-mail: abc@gmail.com\n",
      "Name: s\n",
      "E-mail: abc@gmail.com\n",
      "List of students: []\n",
      "Name: s\n",
      "E-mail: abc@gmail.com\n",
      "List of students: ['sakshi', 'Mansvi']\n",
      "Name: s\n",
      "E-mail: abc@gmail.com\n",
      "List of students: ['sakshi']\n",
      "Student not found...!!\n"
     ]
    }
   ],
   "source": [
    "class Student:\n",
    "    def __init__(self,name,email):\n",
    "        self.name = name\n",
    "        self.email = email\n",
    "    \n",
    "    def putdata(self):\n",
    "        print(\"Name:\",self.name)\n",
    "        print(\"E-mail:\",self.email)\n",
    "        \n",
    "class PHDguide:\n",
    "    def __init__(self,name,email):\n",
    "        self.name = name\n",
    "        self.email = email\n",
    "        self.students = []\n",
    "    \n",
    "    def putdata(self):\n",
    "        print(\"Name:\",self.name)\n",
    "        print(\"E-mail:\",self.email)\n",
    "        print(\"List of students:\",self.students)\n",
    "        \n",
    "    def add(self,newstudent):\n",
    "        self.students.append(newstudent)\n",
    "        \n",
    "    def remove(self,delstudent):\n",
    "        for i in self.students:\n",
    "            if i==delstudent:\n",
    "                self.students.remove(i) \n",
    "                return\n",
    "            \n",
    "        print(\"Student not found...!!\")\n",
    "                \n",
    "                \n",
    "a = Student(\"s\",\"abc@gmail.com\")\n",
    "a.putdata()\n",
    "\n",
    "b = PHDguide(\"s\",\"abc@gmail.com\")\n",
    "b.putdata()\n",
    "b.add('sakshi')\n",
    "b.add('Mansvi')\n",
    "b.putdata()\n",
    "b.remove('Mansvi')\n",
    "b.putdata()\n",
    "b.remove('Mansvi')"
   ]
  },
  {
   "cell_type": "markdown",
   "metadata": {},
   "source": [
    "#### Create a class student with following menber attri: roll, name,age ,total marks. create suitable method for reading and printing men vars.wap to overload double equal to operator to print the details of student having same marks"
   ]
  },
  {
   "cell_type": "code",
   "execution_count": 46,
   "metadata": {},
   "outputs": [
    {
     "name": "stdout",
     "output_type": "stream",
     "text": [
      "Marks are same\n"
     ]
    }
   ],
   "source": [
    "class Student:\n",
    "    def __init__(self,rollno,name,age,totalmarks):\n",
    "        self.rollno = rollno\n",
    "        self.name = name\n",
    "        self.age = age\n",
    "        self.totalmarks = totalmarks\n",
    "        \n",
    "    def display(self):\n",
    "        print(\"rollno:\",self.rollno)\n",
    "        print(\"Name:\",self.name)\n",
    "        print(\"age:\",self.age)\n",
    "        print(\"totalmarks:\",self.totalmarks)\n",
    "        \n",
    "    def __eq__(self,other):\n",
    "        if self.totalmarks == other.totalmarks:\n",
    "            print(\"Marks are same\")\n",
    "        else:\n",
    "            print(\"Marks are not same\")\n",
    "            \n",
    "a = Student(1,'abc',19,210)\n",
    "b = Student(2,'def',20,210)\n",
    "a==b"
   ]
  },
  {
   "cell_type": "code",
   "execution_count": null,
   "metadata": {},
   "outputs": [],
   "source": []
  }
 ],
 "metadata": {
  "kernelspec": {
   "display_name": "Python 3",
   "language": "python",
   "name": "python3"
  },
  "language_info": {
   "codemirror_mode": {
    "name": "ipython",
    "version": 3
   },
   "file_extension": ".py",
   "mimetype": "text/x-python",
   "name": "python",
   "nbconvert_exporter": "python",
   "pygments_lexer": "ipython3",
   "version": "3.8.5"
  }
 },
 "nbformat": 4,
 "nbformat_minor": 4
}
