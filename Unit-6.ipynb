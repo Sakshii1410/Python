{
 "cells": [
  {
   "cell_type": "code",
   "execution_count": 31,
   "metadata": {},
   "outputs": [],
   "source": [
    "x = {\"Name\":\"Alice\", \"Age\":20, \"Degree\":\"CSE\", \"University\":\"Oxford University\"}\n",
    "\n",
    "f = open(\"file.txt\",\"w\")\n",
    "\n",
    "for i,j in x.items():\n",
    "    f.write(str(i)  +\" : \" + str(j) + \"\\n\")\n",
    "f.close()"
   ]
  },
  {
   "cell_type": "markdown",
   "metadata": {},
   "source": [
    "#### WAP to copy the content of 1 file to another file in upper case"
   ]
  },
  {
   "cell_type": "code",
   "execution_count": 32,
   "metadata": {},
   "outputs": [],
   "source": [
    "n = open(\"new.txt\",\"w\")\n",
    "f = open(\"file.txt\",\"r\")\n",
    "s = (f.read().upper())\n",
    "for i in range(len(s)):\n",
    "    n.write(s[i])\n",
    "f.close()\n",
    "n.close()"
   ]
  },
  {
   "cell_type": "markdown",
   "metadata": {},
   "source": [
    "#### WAP to reverse the content of file and store in the another file."
   ]
  },
  {
   "cell_type": "code",
   "execution_count": 18,
   "metadata": {},
   "outputs": [],
   "source": [
    "f = open(\"file.txt\",\"r\")\n",
    "n = open(\"new.txt\",\"w\")\n",
    "s = f.read()\n",
    "s1 = s[::-1]\n",
    "\n",
    "n.write(s1)\n",
    "n.close()"
   ]
  },
  {
   "cell_type": "code",
   "execution_count": 33,
   "metadata": {},
   "outputs": [],
   "source": [
    "f = open(\"file.txt\",\"r\")\n",
    "n = open(\"new.txt\",\"w\")\n",
    "s = f.read()\n",
    "s1 = s.split(\"\\n\")\n",
    "for i in s1[-2::-1]:\n",
    "    n.write(i+\"\\n\")\n",
    "\n",
    "n.close()"
   ]
  },
  {
   "cell_type": "code",
   "execution_count": 53,
   "metadata": {},
   "outputs": [],
   "source": [
    "f = open(\"file.txt\",\"r\")\n",
    "n = open(\"new.txt\",\"w\")\n",
    "s = f.readlines()\n",
    "f.close()\n",
    "\n",
    "for i in s[::-1]:\n",
    "    n.writelines(i)\n",
    "    \n",
    "n.close()"
   ]
  },
  {
   "cell_type": "markdown",
   "metadata": {},
   "source": [
    "WAP to copy odd lines in another file"
   ]
  },
  {
   "cell_type": "code",
   "execution_count": 35,
   "metadata": {},
   "outputs": [],
   "source": [
    "f = open(\"file.txt\",\"r\")\n",
    "odd = open(\"odd.txt\",\"w\")\n",
    "even = open(\"even.txt\",\"w\")\n",
    "\n",
    "s = f.readlines()\n",
    "c = 0\n",
    "for i in s:\n",
    "    if c==0:\n",
    "        odd.writelines(i)\n",
    "        c=1\n",
    "    else:\n",
    "        even.writelines(i)\n",
    "        c=0\n",
    "        \n",
    "odd.close()\n",
    "even.close()"
   ]
  },
  {
   "cell_type": "markdown",
   "metadata": {},
   "source": [
    "wa pager pro your solu should prompt for a file name and display the txt file 5 lines at a time pausing each time to ask the user to press any "
   ]
  },
  {
   "cell_type": "code",
   "execution_count": 1,
   "metadata": {},
   "outputs": [
    {
     "name": "stdout",
     "output_type": "stream",
     "text": [
      "Enter file name : file.txt\n",
      "Name : Alice\n",
      "Age : 20\n",
      "Degree : CSE\n",
      "University : Oxford University\n",
      "Name : Alice\n",
      "Enter Q for Quit : d\n",
      "Age : 20\n",
      "Degree : CSE\n",
      "University : Oxford University\n",
      "Name : Alice\n",
      "Age : 20\n",
      "Enter Q for Quit : d\n",
      "Degree : CSE\n",
      "University : Oxford University\n",
      "Name : Alice\n",
      "Age : 20\n",
      "Degree : CSE\n",
      "Enter Q for Quit : d\n",
      "University : Oxford University\n",
      "Name : Alice\n",
      "Age : 20\n",
      "Degree : CSE\n",
      "University : Oxford University\n",
      "Enter Q for Quit : d\n",
      "Enter Q for Quit : Q\n"
     ]
    }
   ],
   "source": [
    "u = input(\"Enter file name : \")\n",
    "f = open(u,\"r\")\n",
    "si =f.readlines()\n",
    "f.close()\n",
    "\n",
    "s=0\n",
    "e=5\n",
    "while(True):\n",
    "    for i in si[s:e]:\n",
    "        print(i,end=\"\")\n",
    "    n = input(\"Enter Q for Quit : \")\n",
    "    if(n=='Q'):\n",
    "        break\n",
    "    s+=5\n",
    "    e+=5"
   ]
  },
  {
   "cell_type": "markdown",
   "metadata": {},
   "source": [
    "WAP to copy the content of 2 files in 1 file"
   ]
  },
  {
   "cell_type": "code",
   "execution_count": 21,
   "metadata": {},
   "outputs": [],
   "source": [
    "f = open(\"file.txt\")\n",
    "n = open(\"new.txt\")\n",
    "l = open(\"copy.txt\",\"w\")\n",
    "\n",
    "s=f.read()\n",
    "s1=n.read()\n",
    "\n",
    "l.write(s+s1)\n",
    "l.close()"
   ]
  },
  {
   "cell_type": "code",
   "execution_count": 1,
   "metadata": {},
   "outputs": [
    {
     "name": "stdout",
     "output_type": "stream",
     "text": [
      "Name : Alice\n",
      "Age : 20\n",
      "Degree : CSE\n",
      "University : Oxford University\n",
      "Name : Alice\n",
      "Age : 20\n",
      "Degree : CSE\n",
      "University : Oxford University\n",
      "Name : Alice\n",
      "Age : 20\n",
      "Degree : CSE\n",
      "University : Oxford University\n",
      "Name : Alice\n",
      "Age : 20\n",
      "Degree : CSE\n",
      "University : Oxford University\n",
      "Name : Alice\n",
      "Age : 20\n",
      "Degree : CSE\n",
      "University : Oxford University\n"
     ]
    }
   ],
   "source": [
    "f = open(\"file.txt\")\n",
    "s = f.readlines()\n",
    "for i in s:\n",
    "    if i[0]==\"#\":\n",
    "        continue\n",
    "    elif i.find(\"#\")!=-1:\n",
    "        print(i[:i.find(\"#\")])\n",
    "    else:\n",
    "        print(i,end=\"\")"
   ]
  },
  {
   "cell_type": "markdown",
   "metadata": {},
   "source": [
    "WAP to compare 2 files and find difference in line and character."
   ]
  },
  {
   "cell_type": "code",
   "execution_count": 15,
   "metadata": {},
   "outputs": [
    {
     "name": "stdout",
     "output_type": "stream",
     "text": [
      "line: 1\n",
      "Position: 6\n",
      "line: 1\n",
      "Position: 9\n",
      "line: 1\n",
      "Position: 10\n",
      "line: 1\n",
      "Position: 11\n",
      "line: 1\n",
      "Position: 12\n",
      "line: 1\n",
      "Position: 13\n",
      "line: 2\n",
      "Position: 9\n",
      "line: 2\n",
      "Position: 10\n",
      "line: 2\n",
      "Position: 11\n",
      "line: 2\n",
      "Position: 12\n"
     ]
    }
   ],
   "source": [
    "f1 = open(\"file.txt\")\n",
    "f2 = open(\"new.txt\")\n",
    "\n",
    "s1=f1.readlines()\n",
    "s2=f2.readlines()\n",
    "l = min(len(s1),len(s2))\n",
    "\n",
    "for i in range(l):\n",
    "    temp=0\n",
    "    ln=min(len(s1[i]),len(s2[i]))\n",
    "    for j in range(ln):\n",
    "        temp+=1\n",
    "        if s1[i][j]!=s2[i][j]:\n",
    "            print(\"line:\",i+1)            \n",
    "            print(\"Position:\",temp)"
   ]
  },
  {
   "cell_type": "markdown",
   "metadata": {},
   "source": [
    "WAP to count words,ch,and spaces from txt file."
   ]
  },
  {
   "cell_type": "code",
   "execution_count": 29,
   "metadata": {},
   "outputs": [
    {
     "name": "stdout",
     "output_type": "stream",
     "text": [
      "Words : 6\n",
      "Characters : 22\n",
      "Space : 5\n"
     ]
    }
   ],
   "source": [
    "f = open(\"new.txt\")\n",
    "s = f.read()\n",
    "\n",
    "word=len(s.split())\n",
    "c=0\n",
    "\n",
    "for i in s:\n",
    "    if i!='\\n':\n",
    "        if i.isalpha():\n",
    "            c+=1\n",
    "                \n",
    "print(\"Words :\",word)\n",
    "print(\"Characters :\",c)\n",
    "print(\"Space :\",s.count(\" \"))\n",
    "\n",
    "# This is Python \n",
    "# This is Java\n",
    "\n",
    "# This Is java\n",
    "# This is python..123 "
   ]
  },
  {
   "cell_type": "markdown",
   "metadata": {},
   "source": [
    "WAP to replace a word in file "
   ]
  },
  {
   "cell_type": "code",
   "execution_count": 61,
   "metadata": {},
   "outputs": [
    {
     "name": "stdout",
     "output_type": "stream",
     "text": [
      "Friends are crazy,Friends are crazy\n",
      "Friends are crazy\n",
      "Friends are crazy\n",
      "Friends are crazy\n"
     ]
    }
   ],
   "source": [
    "f = open(\"file.txt\")\n",
    "s = f.read()\n",
    "f.close()\n",
    "\n",
    "f = open(\"file.txt\",\"w\")\n",
    "s1 = s.replace(\"enemy\",\"Friends\",)\n",
    "print(s1)\n",
    "f.write(s1)\n",
    "\n",
    "f.close()\n",
    "\n",
    "# Friends are crazy, Friends are naughty!\n",
    "# Friends are honest, Friends are best!\n",
    "# Friends are like ke, Friends are \n",
    "# Friends are crazy,"
   ]
  },
  {
   "cell_type": "markdown",
   "metadata": {},
   "source": [
    "WAP to reverse the content of 1 file and store it in other file also convert content o in upper case and store it in 3rd file also count no. of vowel of 3rd file and also print from the content of 3rd file"
   ]
  },
  {
   "cell_type": "code",
   "execution_count": 67,
   "metadata": {},
   "outputs": [
    {
     "name": "stdout",
     "output_type": "stream",
     "text": [
      "14\n",
      "AVAJ SI SIHT\n"
     ]
    }
   ],
   "source": [
    "f = open(\"new.txt\")\n",
    "s = f.read()\n",
    "f.close()\n",
    "\n",
    "n = open(\"odd.txt\",\"w\")\n",
    "s1 = s[::-1]\n",
    "n.write(s1)\n",
    "n.close()\n",
    "\n",
    "t = open(\"even.txt\",\"w\")\n",
    "s2 = s1.upper()\n",
    "t.write(s2)               \n",
    "t.close()\n",
    "\n",
    "v=0\n",
    "for i in s2:\n",
    "    if i in 'AIOUE':\n",
    "        v+=1\n",
    "        \n",
    "s2=s2[s2.find(\"\\n\")+1:]\n",
    "\n",
    "print(v)\n",
    "print(s2[:s2.find(\"\\n\")])"
   ]
  },
  {
   "cell_type": "markdown",
   "metadata": {},
   "source": [
    "WAP to accept string or sentence from user user enters 'end'.The each string and sentence entered by user should be in new line in file.Save all the line in file and display only those line which begin with capital letter."
   ]
  },
  {
   "cell_type": "code",
   "execution_count": 2,
   "metadata": {},
   "outputs": [
    {
     "name": "stdout",
     "output_type": "stream",
     "text": [
      "Enter line:SAkshi\n",
      "Enter line:hii\n",
      "Enter line:niv\n",
      "Enter line:Gi\n",
      "Enter line:end\n",
      "SAkshi\n",
      "Gi\n"
     ]
    }
   ],
   "source": [
    "f = open(\"file.txt\",\"w\")\n",
    "s=\"\"\n",
    "\n",
    "while(True):\n",
    "    line = input(\"Enter line:\")\n",
    "    if line.lower()==\"end\":\n",
    "        break \n",
    "    f.write(line+\"\\n\")\n",
    "    s += line+\"\\n\"\n",
    "f.close()\n",
    "\n",
    "n=s.rstrip(\"\\n\").split(\"\\n\")\n",
    "for i in n:\n",
    "    if i[0].isupper():\n",
    "        print(i)"
   ]
  },
  {
   "cell_type": "code",
   "execution_count": 5,
   "metadata": {},
   "outputs": [
    {
     "name": "stdout",
     "output_type": "stream",
     "text": [
      "file is closed : False\n",
      "file name : demo.txt\n",
      "file mode : r+\n",
      "file readable : True\n",
      "file writeable : True\n"
     ]
    }
   ],
   "source": [
    "f = open(\"demo.txt\",\"r+\")\n",
    "print(\"file is closed :\",f.closed)\n",
    "print(\"file name :\",f.name)\n",
    "print(\"file mode :\",f.mode)\n",
    "print(\"file readable :\",f.readable())\n",
    "print(\"file writeable :\",f.writable())"
   ]
  },
  {
   "cell_type": "code",
   "execution_count": 7,
   "metadata": {},
   "outputs": [
    {
     "name": "stdout",
     "output_type": "stream",
     "text": [
      "Enter string:p\n",
      "Position 21\n"
     ]
    }
   ],
   "source": [
    "f = open(\"new.txt\")\n",
    "s = f.read()\n",
    "l = input(\"Enter string:\")\n",
    "print(\"Position:\",s.find(l))"
   ]
  },
  {
   "cell_type": "code",
   "execution_count": null,
   "metadata": {},
   "outputs": [],
   "source": [
    "# import os\n",
    "# os.path.isfile(\"filename\")"
   ]
  }
 ],
 "metadata": {
  "kernelspec": {
   "display_name": "Python 3",
   "language": "python",
   "name": "python3"
  },
  "language_info": {
   "codemirror_mode": {
    "name": "ipython",
    "version": 3
   },
   "file_extension": ".py",
   "mimetype": "text/x-python",
   "name": "python",
   "nbconvert_exporter": "python",
   "pygments_lexer": "ipython3",
   "version": "3.8.5"
  }
 },
 "nbformat": 4,
 "nbformat_minor": 4
}
