{
 "cells": [
  {
   "cell_type": "markdown",
   "metadata": {},
   "source": [
    "# <center><font size=7><b>Unit-6 Working with Files</b></font></center>"
   ]
  },
  {
   "cell_type": "markdown",
   "metadata": {},
   "source": [
    "## Python In-built Functions\n",
    "- create\n",
    "- read\n",
    "- write"
   ]
  },
  {
   "cell_type": "markdown",
   "metadata": {},
   "source": [
    "## Type of files\n",
    "1. <b>Text file:</b> Terminator for line '\\n' called EOL(End of Line)\n",
    "2. <b>Binary file:</b> No terminator. The data is stored after converting it into machine understable language."
   ]
  },
  {
   "cell_type": "markdown",
   "metadata": {},
   "source": [
    "# File Access Modes\n",
    "1. <b>Read Only ('r') :</b> Default mode. Error if the file does not exist.\n",
    "2. <b>Read and Write ('r+') :</b> Error....\n",
    "3. <b>Write Only ('w') :</b> Creates the file if the file does not exist. Truncated and over-written. \n",
    "4. <b>Write and Read ('w+') :</b> Creates.... Truncated and over-written.\n",
    "5. <b>Append Only ('a'):</b> Creates... The data being written will be inserted at the end, after the existing data.\n",
    "6. <b>Append and Read ('a+') :</b> Creates... Data inserted at the end..."
   ]
  },
  {
   "cell_type": "code",
   "execution_count": 2,
   "metadata": {},
   "outputs": [
    {
     "name": "stdout",
     "output_type": "stream",
     "text": [
      "Hello Python!!\n",
      "True\n"
     ]
    }
   ],
   "source": [
    "f = open(\"demo.txt\",\"r\")\n",
    "print(f.read())\n",
    "f.close()\n",
    "print(f.closed)"
   ]
  },
  {
   "cell_type": "code",
   "execution_count": 4,
   "metadata": {},
   "outputs": [
    {
     "name": "stdout",
     "output_type": "stream",
     "text": [
      "Hello Python!!\n",
      "How are you..!?\n",
      "False\n",
      "True\n"
     ]
    }
   ],
   "source": [
    "with open(\"demo.txt\") as f : \n",
    "    print(f.read())\n",
    "    print(f.closed)\n",
    "    \n",
    "print(f.closed) "
   ]
  },
  {
   "cell_type": "code",
   "execution_count": 21,
   "metadata": {},
   "outputs": [
    {
     "name": "stdout",
     "output_type": "stream",
     "text": [
      "This is java\n",
      "This is Python\n"
     ]
    }
   ],
   "source": [
    "f = open(\"demo.txt\",\"w+\")\n",
    "f.write(\"This is java\\n\")\n",
    "f.write(\"This is Python\")\n",
    "f.seek(0) # set cursor at 0 index\n",
    "print(f.read())\n",
    "\n",
    "f.close()"
   ]
  },
  {
   "cell_type": "markdown",
   "metadata": {},
   "source": [
    "# Reading the files\n",
    "1. read() : Read bytes (string)\n",
    "2. readline() : Reads a line (string)\n",
    "3. readlines() :  Reads all the lines (List)"
   ]
  },
  {
   "cell_type": "code",
   "execution_count": 22,
   "metadata": {},
   "outputs": [
    {
     "name": "stdout",
     "output_type": "stream",
     "text": [
      "This is java\n",
      "This is Python\n",
      "This is java\n",
      "\n",
      "['This is java\\n', 'This is Python']\n"
     ]
    }
   ],
   "source": [
    "f = open(\"demo.txt\",\"r\")\n",
    "\n",
    "print(f.read()) \n",
    "f.seek(0) \n",
    "print(f.readline())\n",
    "f.seek(0)\n",
    "print(f.readlines())"
   ]
  },
  {
   "cell_type": "code",
   "execution_count": 24,
   "metadata": {},
   "outputs": [
    {
     "name": "stdout",
     "output_type": "stream",
     "text": [
      "This is java\n",
      "This is Python\n",
      "28\n",
      "0\n",
      "This is java\n",
      "\n",
      "14\n"
     ]
    }
   ],
   "source": [
    "f = open(\"demo.txt\",\"r\")\n",
    "\n",
    "print(f.read())  \n",
    "print(f.tell())\n",
    "f.seek(0) \n",
    "print(f.tell())\n",
    "print(f.readline())  \n",
    "print(f.tell()) \n",
    "f.close()"
   ]
  },
  {
   "cell_type": "code",
   "execution_count": 29,
   "metadata": {},
   "outputs": [
    {
     "name": "stdout",
     "output_type": "stream",
     "text": [
      "This is ja\n",
      "10\n",
      "va\n",
      "Th\n",
      "16\n",
      "is is Python\n",
      "28\n"
     ]
    }
   ],
   "source": [
    "f = open(\"demo.txt\",\"r\")\n",
    "print(f.read(10))\n",
    "print(f.tell()) #find the current position\n",
    "print(f.read(5))\n",
    "print(f.tell())\n",
    "print(f.readline())\n",
    "print(f.tell())\n",
    "f.close()"
   ]
  },
  {
   "cell_type": "code",
   "execution_count": 32,
   "metadata": {},
   "outputs": [
    {
     "name": "stdout",
     "output_type": "stream",
     "text": [
      "This \n",
      "is \n",
      "java\n",
      "\n",
      "is java\n",
      "\n"
     ]
    }
   ],
   "source": [
    "f = open(\"demo.txt\",\"r\")\n",
    "print(f.readline(5)) \n",
    "print(f.readline(3))\n",
    "print(f.readline())\n",
    "f.seek(5)\n",
    "print(f.readline(200))"
   ]
  },
  {
   "cell_type": "code",
   "execution_count": 61,
   "metadata": {},
   "outputs": [
    {
     "name": "stdout",
     "output_type": "stream",
     "text": [
      "['This is java\\n', 'This is Python']\n",
      "['va\\n', 'This is Python']\n"
     ]
    }
   ],
   "source": [
    "f = open(\"demo.txt\",\"r\")\n",
    "\n",
    "print(f.readlines(13))  \n",
    "f.seek(10)\n",
    "print(f.readlines(5))  \n",
    "# print(f.tell()) # OSError: telling position disabled by next() call\n",
    "f.close()"
   ]
  },
  {
   "cell_type": "markdown",
   "metadata": {},
   "source": [
    "# Writing the Files\n",
    "1. write() \n",
    "2. writelines() --> Write the content of a list"
   ]
  },
  {
   "cell_type": "code",
   "execution_count": 62,
   "metadata": {},
   "outputs": [],
   "source": [
    "f = open(\"b2_61.txt\",\"w\")\n",
    "f.write(\"This is text file\")\n",
    "f.close()"
   ]
  },
  {
   "cell_type": "code",
   "execution_count": 64,
   "metadata": {},
   "outputs": [],
   "source": [
    "with open(\"b2_61.txt\",\"w\") as f:\n",
    "    f.write(\"this is \\ntext\")"
   ]
  },
  {
   "cell_type": "code",
   "execution_count": 65,
   "metadata": {},
   "outputs": [
    {
     "name": "stdin",
     "output_type": "stream",
     "text": [
      "Enter Name 1:  sakshu\n",
      "Enter Name 2:  Hetu\n",
      "Enter Name 3:  Manu\n",
      "Enter Name 4:  Udu\n",
      "Enter Name 5:  Vishu\n"
     ]
    }
   ],
   "source": [
    "f = open(\"b2_61.txt\",\"w\")\n",
    "\n",
    "for i in range(5):\n",
    "    i = input(f\"Enter Name {i+1}: \")\n",
    "    f.write(i+\"\\n\")\n",
    "    \n",
    "f.close()  "
   ]
  },
  {
   "cell_type": "code",
   "execution_count": 66,
   "metadata": {},
   "outputs": [],
   "source": [
    "f = open(\"b2_61.txt\",\"w\")\n",
    "l = [\"a\\n\",\"b\\n\",\"c\\n\",\"d\"]\n",
    "\n",
    "f.writelines(l)\n",
    "f.close()"
   ]
  },
  {
   "cell_type": "code",
   "execution_count": 67,
   "metadata": {},
   "outputs": [],
   "source": [
    "x = {\"Name\":\"Alice\", \"Age\":20, \"Degree\":\"CSE\", \"University\":\"Oxford University\"}\n",
    "\n",
    "f = open(\"file.txt\",\"w\")\n",
    "\n",
    "for i,j in x.items():\n",
    "    f.write(str(i)  +\" : \" + str(j) + \"\\n\")\n",
    "f.close()"
   ]
  },
  {
   "cell_type": "markdown",
   "metadata": {},
   "source": [
    "## WAP to copy the content of 1 file to another file in upper case"
   ]
  },
  {
   "cell_type": "code",
   "execution_count": 96,
   "metadata": {},
   "outputs": [
    {
     "name": "stdout",
     "output_type": "stream",
     "text": [
      "NAME : ALICE\n",
      "AGE : 20\n",
      "DEGREE : CSE\n",
      "UNIVERSITY : OXFORD UNIVERSITY\n"
     ]
    }
   ],
   "source": [
    "n = open(\"new.txt\",\"w\")\n",
    "f = open(\"file.txt\",\"r\")\n",
    "s = (f.read().upper())\n",
    "\n",
    "for i in s:\n",
    "    n.write(i)\n",
    "    print(i,end=\"\")\n",
    "f.close()\n",
    "n.close()"
   ]
  },
  {
   "cell_type": "markdown",
   "metadata": {},
   "source": [
    "## WAP to reverse the content of file and store in the another file."
   ]
  },
  {
   "cell_type": "code",
   "execution_count": 97,
   "metadata": {},
   "outputs": [
    {
     "name": "stdout",
     "output_type": "stream",
     "text": [
      "\n",
      "ytisrevinU drofxO : ytisrevinU\n",
      "ESC : eergeD\n",
      "02 : egA\n",
      "ecilA : emaN\n"
     ]
    }
   ],
   "source": [
    "f = open(\"file.txt\",\"r\")\n",
    "n = open(\"new.txt\",\"a\")\n",
    "\n",
    "s = f.read()\n",
    "n.write(s[::-1])\n",
    "print(s[::-1])\n",
    "n.close()"
   ]
  },
  {
   "cell_type": "markdown",
   "metadata": {},
   "source": [
    "## WAP to reverse the lines of file."
   ]
  },
  {
   "cell_type": "code",
   "execution_count": 98,
   "metadata": {},
   "outputs": [
    {
     "name": "stdout",
     "output_type": "stream",
     "text": [
      "\n",
      "University : Oxford University\n",
      "Degree : CSE\n",
      "Age : 20\n",
      "Name : Alice\n"
     ]
    }
   ],
   "source": [
    "f = open(\"file.txt\",\"r\")\n",
    "n = open(\"new.txt\",\"a\")\n",
    "s = f.read()\n",
    "\n",
    "for i in s.split(\"\\n\")[-1::-1]:\n",
    "    n.write(i+\"\\n\")\n",
    "    print(i)\n",
    "\n",
    "n.close()"
   ]
  },
  {
   "cell_type": "code",
   "execution_count": 53,
   "metadata": {},
   "outputs": [],
   "source": [
    "#or\n",
    "f = open(\"file.txt\",\"r\")\n",
    "n = open(\"new.txt\",\"w\")\n",
    "s = f.readlines()\n",
    "f.close()\n",
    "\n",
    "for i in s[::-1]:\n",
    "    n.writelines(i)\n",
    "    \n",
    "n.close()"
   ]
  },
  {
   "cell_type": "markdown",
   "metadata": {},
   "source": [
    "## WAP to copy odd lines in another file"
   ]
  },
  {
   "cell_type": "code",
   "execution_count": 35,
   "metadata": {},
   "outputs": [],
   "source": [
    "f = open(\"file.txt\",\"r\")\n",
    "odd = open(\"odd.txt\",\"w\")\n",
    "even = open(\"even.txt\",\"w\")\n",
    "\n",
    "s = f.readlines()\n",
    "c = 0\n",
    "for i in s:\n",
    "    if c==0:\n",
    "        odd.writelines(i)\n",
    "        c=1\n",
    "    else:\n",
    "        even.writelines(i)\n",
    "        c=0\n",
    "        \n",
    "odd.close()\n",
    "even.close()"
   ]
  },
  {
   "cell_type": "markdown",
   "metadata": {},
   "source": [
    "## WA pager program. Your solution should prompt for a file name and display the text file's 5 lines at a time. Pausing each time to ask the user to press any button for continue and Q for Quit."
   ]
  },
  {
   "cell_type": "code",
   "execution_count": 112,
   "metadata": {},
   "outputs": [
    {
     "name": "stdin",
     "output_type": "stream",
     "text": [
      "Enter file name :  file.txt\n"
     ]
    },
    {
     "name": "stdout",
     "output_type": "stream",
     "text": [
      "Name : Alice\n",
      "Age : 20\n",
      "Degree : CSE\n",
      "University : Oxford University\n",
      "\n"
     ]
    },
    {
     "name": "stdin",
     "output_type": "stream",
     "text": [
      "Enter any button for continue or Q for Quit :  1\n"
     ]
    },
    {
     "name": "stdout",
     "output_type": "stream",
     "text": [
      "Name : Alice\n",
      "Age : 20\n",
      "Degree : CSE\n",
      "University : Oxford University\n",
      "\n"
     ]
    },
    {
     "name": "stdin",
     "output_type": "stream",
     "text": [
      "Enter any button for continue or Q for Quit :  2\n"
     ]
    },
    {
     "name": "stdout",
     "output_type": "stream",
     "text": [
      "Name : Alice\n",
      "Age : 20\n",
      "Degree : CSE\n",
      "University : Oxford University\n",
      "\n"
     ]
    },
    {
     "name": "stdin",
     "output_type": "stream",
     "text": [
      "Enter any button for continue or Q for Quit :  q\n"
     ]
    }
   ],
   "source": [
    "u = input(\"Enter file name : \")\n",
    "f = open(u,\"r\")\n",
    "n = \"\"\n",
    "\n",
    "while(n!='Q'):\n",
    "    for i in range(5):\n",
    "        l = f.readline().rstrip(\"\\n\") \n",
    "        print(l)\n",
    "    n = input(\"Enter any button for continue or Q for Quit : \").upper()\n",
    "    \n",
    "f.close()"
   ]
  },
  {
   "cell_type": "markdown",
   "metadata": {},
   "source": [
    "## WAP to copy the content of 2 files in 1 file"
   ]
  },
  {
   "cell_type": "code",
   "execution_count": 21,
   "metadata": {},
   "outputs": [],
   "source": [
    "f = open(\"file.txt\")\n",
    "n = open(\"new.txt\")\n",
    "l = open(\"copy.txt\",\"w\")\n",
    "\n",
    "s=f.read()\n",
    "s1=n.read()\n",
    "\n",
    "l.write(s+s1)\n",
    "l.close()"
   ]
  },
  {
   "cell_type": "markdown",
   "metadata": {},
   "source": [
    "## WAP to remove comment from file."
   ]
  },
  {
   "cell_type": "code",
   "execution_count": 113,
   "metadata": {},
   "outputs": [
    {
     "name": "stdout",
     "output_type": "stream",
     "text": [
      "Name : Alice\n",
      "Age : 20\n",
      "Degree : CSE \n",
      "University : Oxford University\n"
     ]
    }
   ],
   "source": [
    "f = open(\"file.txt\")\n",
    "s = f.readlines()\n",
    "\n",
    "for i in s:\n",
    "    if i[0]==\"#\":\n",
    "        continue\n",
    "    elif i.find(\"#\")!=-1:\n",
    "        print(i[:i.find(\"#\")])\n",
    "    else:\n",
    "        print(i,end=\"\")"
   ]
  },
  {
   "cell_type": "markdown",
   "metadata": {},
   "source": [
    "## WAP to compare 2 files and find difference in line and character."
   ]
  },
  {
   "cell_type": "code",
   "execution_count": 118,
   "metadata": {},
   "outputs": [
    {
     "name": "stdout",
     "output_type": "stream",
     "text": [
      "line: 1\n",
      "Position: 13\n",
      "line: 2\n",
      "Position: 7\n",
      "line: 3\n",
      "Position: 11\n",
      "line: 3\n",
      "Position: 12\n"
     ]
    }
   ],
   "source": [
    "f1 = open(\"file.txt\")\n",
    "f2 = open(\"new.txt\")\n",
    "\n",
    "s1=f1.readlines()\n",
    "s2=f2.readlines()\n",
    "l = min(len(s1),len(s2))\n",
    "\n",
    "for i in range(l):\n",
    "    temp=0\n",
    "    ln=min(len(s1[i]),len(s2[i])) \n",
    "    for j in range(ln):\n",
    "        temp+=1\n",
    "        if s1[i][j]!=s2[i][j]:\n",
    "            print(\"line:\",i+1)            \n",
    "            print(\"Position:\",temp)"
   ]
  },
  {
   "cell_type": "markdown",
   "metadata": {},
   "source": [
    "## WAP to count words,characters and spaces from txt file."
   ]
  },
  {
   "cell_type": "code",
   "execution_count": 125,
   "metadata": {},
   "outputs": [
    {
     "name": "stdout",
     "output_type": "stream",
     "text": [
      "Name : Alice Kausik\n",
      "Age : 10\n",
      "Degree : CE\n",
      "\n",
      "Words : 10\n",
      "Characters : 26\n",
      "Space : 7\n"
     ]
    }
   ],
   "source": [
    "f = open(\"new.txt\")\n",
    "s = f.read()\n",
    "print(s)\n",
    "c=0\n",
    "\n",
    "for i in s:\n",
    "    if i.isalpha():\n",
    "        c+=1\n",
    "                \n",
    "print(\"Words :\",len(s.split()))\n",
    "print(\"Characters :\",c)\n",
    "print(\"Space :\",s.count(\" \"))"
   ]
  },
  {
   "cell_type": "markdown",
   "metadata": {},
   "source": [
    "## WAP to replace a word in file."
   ]
  },
  {
   "cell_type": "code",
   "execution_count": 126,
   "metadata": {},
   "outputs": [
    {
     "name": "stdout",
     "output_type": "stream",
     "text": [
      "enemy are crazy, enemy are naughty!\n",
      "enemy are honest, enemy are best!\n",
      "enemy are like keygen, enemy are like licence key!\n",
      "We are nothing without friends, Life is not possible without friends!\n"
     ]
    }
   ],
   "source": [
    "f = open(\"file.txt\")\n",
    "s = f.read()\n",
    "f.close()\n",
    "\n",
    "f = open(\"file.txt\",\"w\")\n",
    "s1 = s.replace(\"Friends\",\"enemy\",)\n",
    "print(s1)\n",
    "f.write(s1)\n",
    "\n",
    "f.close()\n",
    "\n",
    "# Friends are crazy, Friends are naughty!\n",
    "# Friends are honest, Friends are best!\n",
    "# Friends are like keygen, Friends are like licence key!\n",
    "# We are nothing without friends, Life is not possible without friends!"
   ]
  },
  {
   "cell_type": "markdown",
   "metadata": {},
   "source": [
    "## WAP to reverse the content of 1 file and store it in other file also convert that content in upper case and store it in 3rd file also count number of vowels of 3rd file and also print 3rd line of that."
   ]
  },
  {
   "cell_type": "code",
   "execution_count": 128,
   "metadata": {},
   "outputs": [
    {
     "name": "stdout",
     "output_type": "stream",
     "text": [
      "Count of vowels : 62\n",
      "!YEK ECNECIL EKIL ERA YMENE ,NEGYEK EKIL ERA YMENE\n"
     ]
    }
   ],
   "source": [
    "f = open(\"file.txt\")\n",
    "s = f.read()\n",
    "f.close()\n",
    "\n",
    "n = open(\"new.txt\",\"w\")\n",
    "s1 = s[::-1]\n",
    "n.write(s1)\n",
    "n.close()\n",
    "\n",
    "t = open(\"demo.txt\",\"w\")\n",
    "s2 = s1.upper()\n",
    "t.write(s2)               \n",
    "t.close()\n",
    "\n",
    "v=0\n",
    "for i in s2:\n",
    "    if i in 'AIOUE':\n",
    "        v+=1\n",
    "        \n",
    "s2=s2[s2.find(\"\\n\")+1:]\n",
    "\n",
    "print(\"Count of vowels :\",v)\n",
    "print(s2[:s2.find(\"\\n\")])"
   ]
  },
  {
   "cell_type": "markdown",
   "metadata": {},
   "source": [
    "## WAP to accept string or sentence from user until user enters 'end'.The each string and sentence entered by user should be in new line in file.Save all the line in file and display only those line which begin with capital letter."
   ]
  },
  {
   "cell_type": "code",
   "execution_count": 129,
   "metadata": {},
   "outputs": [
    {
     "name": "stdin",
     "output_type": "stream",
     "text": [
      "Enter line: Sakshi\n",
      "Enter line: 1233\n",
      "Enter line: qwerty\n",
      "Enter line: qax\n",
      "Enter line: Hrrf\n",
      "Enter line: End\n"
     ]
    },
    {
     "name": "stdout",
     "output_type": "stream",
     "text": [
      "Sakshi\n",
      "Hrrf\n"
     ]
    }
   ],
   "source": [
    "f = open(\"demo.txt\",\"w\")\n",
    "s=\"\"\n",
    "\n",
    "while(True):\n",
    "    line = input(\"Enter line:\")\n",
    "    if line.lower()==\"end\":\n",
    "        break \n",
    "    f.write(line+\"\\n\")\n",
    "    s += line+\"\\n\"\n",
    "f.close()\n",
    "\n",
    "n = s.rstrip(\"\\n\").split(\"\\n\")\n",
    "\n",
    "for i in n:\n",
    "    if i[0].isupper():\n",
    "        print(i)"
   ]
  },
  {
   "cell_type": "code",
   "execution_count": 130,
   "metadata": {},
   "outputs": [
    {
     "name": "stdout",
     "output_type": "stream",
     "text": [
      "file is closed : False\n",
      "file name : demo.txt\n",
      "file mode : r+\n",
      "file readable : True\n",
      "file writeable : True\n"
     ]
    }
   ],
   "source": [
    "f = open(\"demo.txt\",\"r+\")\n",
    "print(\"file is closed :\",f.closed)\n",
    "print(\"file name :\",f.name)\n",
    "print(\"file mode :\",f.mode)\n",
    "print(\"file readable :\",f.readable())\n",
    "print(\"file writeable :\",f.writable())"
   ]
  },
  {
   "cell_type": "markdown",
   "metadata": {},
   "source": [
    "## WAP to find position of given string in file."
   ]
  },
  {
   "cell_type": "code",
   "execution_count": 133,
   "metadata": {},
   "outputs": [
    {
     "name": "stdin",
     "output_type": "stream",
     "text": [
      "Enter string: !\n"
     ]
    },
    {
     "name": "stdout",
     "output_type": "stream",
     "text": [
      "Position: 0\n"
     ]
    }
   ],
   "source": [
    "f = open(\"new.txt\")\n",
    "s = f.read()\n",
    "l = input(\"Enter string:\")\n",
    "print(\"Position:\",s.find(l))"
   ]
  },
  {
   "cell_type": "code",
   "execution_count": 136,
   "metadata": {},
   "outputs": [
    {
     "data": {
      "text/plain": [
       "True"
      ]
     },
     "execution_count": 136,
     "metadata": {},
     "output_type": "execute_result"
    }
   ],
   "source": [
    "import os\n",
    "os.path.isfile(\"file.txt\")"
   ]
  },
  {
   "cell_type": "code",
   "execution_count": 140,
   "metadata": {},
   "outputs": [],
   "source": [
    "f1 = open(\"file.txt\")\n",
    "f2 = open(\"new.txt\")\n",
    "\n",
    "f3 = open(\"demo.txt\",\"w\")\n",
    "\n",
    "l1 = len(f1.read())\n",
    "l2 = len(f2.read())\n",
    "l = min(l1,l2)\n",
    "f1.seek(0)\n",
    "f2.seek(0)\n",
    "\n",
    "for i in range(l):\n",
    "    f3.write(f1.readline()+f2.readline())\n",
    "else:\n",
    "    if l1>l2:\n",
    "        f3.writelines(f1.readlines())\n",
    "    else:\n",
    "        f3.writelines(f2.readlines())\n",
    "        \n",
    "f3.close()"
   ]
  },
  {
   "cell_type": "markdown",
   "metadata": {},
   "source": [
    "## WAP to find the longest word in text file."
   ]
  },
  {
   "cell_type": "code",
   "execution_count": 142,
   "metadata": {},
   "outputs": [
    {
     "name": "stdout",
     "output_type": "stream",
     "text": [
      "friends!\n"
     ]
    }
   ],
   "source": [
    "f = open(\"file.txt\")\n",
    "s = f.read().split()\n",
    "s = sorted(s,key=len)\n",
    "print(s[-1]) "
   ]
  }
 ],
 "metadata": {
  "kernelspec": {
   "display_name": "Python 3 (ipykernel)",
   "language": "python",
   "name": "python3"
  },
  "language_info": {
   "codemirror_mode": {
    "name": "ipython",
    "version": 3
   },
   "file_extension": ".py",
   "mimetype": "text/x-python",
   "name": "python",
   "nbconvert_exporter": "python",
   "pygments_lexer": "ipython3",
   "version": "3.13.0"
  }
 },
 "nbformat": 4,
 "nbformat_minor": 4
}
